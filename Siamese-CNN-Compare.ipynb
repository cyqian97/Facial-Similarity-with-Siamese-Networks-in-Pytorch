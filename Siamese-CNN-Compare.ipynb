{
 "cells": [
  {
   "cell_type": "code",
   "execution_count": 1,
   "metadata": {},
   "outputs": [],
   "source": [
    "%matplotlib inline\n",
    "\n",
    "import torch\n",
    "import numpy as np\n",
    "import pandas as pd\n",
    "from copy import deepcopy\n",
    "from tabulate import tabulate\n",
    "from torch import optim\n",
    "import torchvision.utils\n",
    "import torch.nn.functional as F\n",
    "from torch.autograd import Variable\n",
    "from torch.nn import CrossEntropyLoss\n",
    "import torchvision.transforms as transforms\n",
    "from torch.utils.data import DataLoader,random_split\n",
    "\n",
    "import config\n",
    "from utils import imshow\n",
    "from models import SiameseNetwork, CNN\n",
    "from training import trainSiamese,inferenceSiamese, trainCNN\n",
    "from datasets import SiameseNetworkDataset, CNNDataset,generate_csv_compare\n",
    "from loss_functions import ContrastiveLoss\n",
    "\n",
    "# generate_csv(config.training_dir)\n",
    "\n",
    "import os\n",
    "if not os.path.exists('state_dict'):\n",
    "    os.makedirs('state_dict')"
   ]
  },
  {
   "cell_type": "markdown",
   "metadata": {},
   "source": [
    "## Generate Dateset with a few images per class"
   ]
  },
  {
   "cell_type": "code",
   "execution_count": 2,
   "metadata": {},
   "outputs": [
    {
     "name": "stdout",
     "output_type": "stream",
     "text": [
      "Data directory:  ../../datasets/AT&T Database of Faces/faces/training\n"
     ]
    }
   ],
   "source": [
    "generate_csv_compare(config.training_dir,config.compare_siamese_csv,config.compare_cnn_csv,config.compare_test_csv,\n",
    "                     num_per_class = 4)"
   ]
  },
  {
   "cell_type": "markdown",
   "metadata": {},
   "source": [
    "## Training Siamese Network"
   ]
  },
  {
   "cell_type": "code",
   "execution_count": null,
   "metadata": {},
   "outputs": [
    {
     "name": "stdout",
     "output_type": "stream",
     "text": [
      "Epoch  0  training\n"
     ]
    },
    {
     "name": "stderr",
     "output_type": "stream",
     "text": [
      "100%|█████████████████████████████████████████████| 2/2 [00:00<00:00,  2.08it/s]\n"
     ]
    },
    {
     "name": "stdout",
     "output_type": "stream",
     "text": [
      "Epoch  0  validating\n"
     ]
    },
    {
     "name": "stderr",
     "output_type": "stream",
     "text": [
      "100%|███████████████████████████████████████████| 21/21 [00:00<00:00, 57.31it/s]\n"
     ]
    },
    {
     "name": "stdout",
     "output_type": "stream",
     "text": [
      "+1/-1 ratrio:0.52/0.48\n",
      "+1 features max:3.69\t min:0.78\t mean:2.02\t median 1.69\n",
      "-1 features max:3.77\t min:1.97\t mean:3.04\t median 3.23\n",
      "Feature = 0\tThreshold = 2.286705\tPolorization = 1\n",
      "Epoch-0\t Train loss: 1.8813e+00\t Valid loss: 2.6000e+00\t Valid error: 0.1905\n",
      "Epoch  1  training\n"
     ]
    },
    {
     "name": "stderr",
     "output_type": "stream",
     "text": [
      "100%|█████████████████████████████████████████████| 2/2 [00:00<00:00,  3.69it/s]\n"
     ]
    },
    {
     "name": "stdout",
     "output_type": "stream",
     "text": [
      "Epoch  1  validating\n"
     ]
    },
    {
     "name": "stderr",
     "output_type": "stream",
     "text": [
      "100%|███████████████████████████████████████████| 21/21 [00:00<00:00, 60.94it/s]\n"
     ]
    },
    {
     "name": "stdout",
     "output_type": "stream",
     "text": [
      "+1/-1 ratrio:0.52/0.48\n",
      "+1 features max:2.02\t min:0.54\t mean:1.14\t median 1.10\n",
      "-1 features max:3.19\t min:1.36\t mean:2.27\t median 2.39\n",
      "Feature = 0\tThreshold = 1.295573\tPolorization = 1\n",
      "Epoch-1\t Train loss: 3.0861e+00\t Valid loss: 7.8085e-01\t Valid error: 0.1429\n",
      "new model saved\n",
      "Epoch  2  training\n"
     ]
    },
    {
     "name": "stderr",
     "output_type": "stream",
     "text": [
      "100%|█████████████████████████████████████████████| 2/2 [00:00<00:00,  3.76it/s]\n"
     ]
    },
    {
     "name": "stdout",
     "output_type": "stream",
     "text": [
      "Epoch  2  validating\n"
     ]
    },
    {
     "name": "stderr",
     "output_type": "stream",
     "text": [
      "100%|███████████████████████████████████████████| 21/21 [00:00<00:00, 59.98it/s]\n"
     ]
    },
    {
     "name": "stdout",
     "output_type": "stream",
     "text": [
      "+1/-1 ratrio:0.52/0.48\n",
      "+1 features max:1.50\t min:0.50\t mean:0.91\t median 0.85\n",
      "-1 features max:2.79\t min:1.32\t mean:2.23\t median 2.36\n",
      "Feature = 0\tThreshold = 1.247275\tPolorization = 1\n",
      "Epoch-2\t Train loss: 2.0570e+00\t Valid loss: 4.7689e-01\t Valid error: 0.0476\n",
      "new model saved\n",
      "Epoch  3  training\n"
     ]
    },
    {
     "name": "stderr",
     "output_type": "stream",
     "text": [
      "100%|█████████████████████████████████████████████| 2/2 [00:00<00:00,  3.62it/s]\n"
     ]
    },
    {
     "name": "stdout",
     "output_type": "stream",
     "text": [
      "Epoch  3  validating\n"
     ]
    },
    {
     "name": "stderr",
     "output_type": "stream",
     "text": [
      "100%|███████████████████████████████████████████| 21/21 [00:00<00:00, 60.60it/s]\n"
     ]
    },
    {
     "name": "stdout",
     "output_type": "stream",
     "text": [
      "+1/-1 ratrio:0.52/0.48\n",
      "+1 features max:1.31\t min:0.42\t mean:0.81\t median 0.83\n",
      "-1 features max:2.95\t min:1.24\t mean:2.13\t median 2.26\n",
      "Feature = 0\tThreshold = 1.159618\tPolorization = 1\n",
      "Epoch-3\t Train loss: 1.0245e+00\t Valid loss: 3.8605e-01\t Valid error: 0.0476\n",
      "new model saved\n",
      "Epoch  4  training\n"
     ]
    },
    {
     "name": "stderr",
     "output_type": "stream",
     "text": [
      "100%|█████████████████████████████████████████████| 2/2 [00:00<00:00,  3.67it/s]\n"
     ]
    },
    {
     "name": "stdout",
     "output_type": "stream",
     "text": [
      "Epoch  4  validating\n"
     ]
    },
    {
     "name": "stderr",
     "output_type": "stream",
     "text": [
      "100%|███████████████████████████████████████████| 21/21 [00:00<00:00, 61.66it/s]\n"
     ]
    },
    {
     "name": "stdout",
     "output_type": "stream",
     "text": [
      "+1/-1 ratrio:0.52/0.48\n",
      "+1 features max:1.06\t min:0.31\t mean:0.74\t median 0.76\n",
      "-1 features max:3.04\t min:1.22\t mean:2.11\t median 2.13\n",
      "Feature = 0\tThreshold = 1.141061\tPolorization = 1\n",
      "Epoch-4\t Train loss: 7.0866e-01\t Valid loss: 3.1503e-01\t Valid error: 0.0000\n",
      "new model saved\n",
      "Epoch  5  training\n"
     ]
    },
    {
     "name": "stderr",
     "output_type": "stream",
     "text": [
      "100%|█████████████████████████████████████████████| 2/2 [00:00<00:00,  3.54it/s]\n"
     ]
    },
    {
     "name": "stdout",
     "output_type": "stream",
     "text": [
      "Epoch  5  validating\n"
     ]
    },
    {
     "name": "stderr",
     "output_type": "stream",
     "text": [
      "100%|███████████████████████████████████████████| 21/21 [00:00<00:00, 59.38it/s]\n"
     ]
    },
    {
     "name": "stdout",
     "output_type": "stream",
     "text": [
      "+1/-1 ratrio:0.52/0.48\n",
      "+1 features max:0.86\t min:0.22\t mean:0.62\t median 0.66\n",
      "-1 features max:3.07\t min:1.24\t mean:2.09\t median 2.02\n",
      "Feature = 0\tThreshold = 1.051778\tPolorization = 1\n",
      "Epoch-5\t Train loss: 5.0828e-01\t Valid loss: 2.2378e-01\t Valid error: 0.0000\n",
      "new model saved\n",
      "Epoch  6  training\n"
     ]
    },
    {
     "name": "stderr",
     "output_type": "stream",
     "text": [
      "100%|█████████████████████████████████████████████| 2/2 [00:00<00:00,  3.75it/s]\n"
     ]
    },
    {
     "name": "stdout",
     "output_type": "stream",
     "text": [
      "Epoch  6  validating\n"
     ]
    },
    {
     "name": "stderr",
     "output_type": "stream",
     "text": [
      "100%|███████████████████████████████████████████| 21/21 [00:00<00:00, 59.58it/s]\n"
     ]
    },
    {
     "name": "stdout",
     "output_type": "stream",
     "text": [
      "+1/-1 ratrio:0.52/0.48\n",
      "+1 features max:0.82\t min:0.20\t mean:0.53\t median 0.57\n",
      "-1 features max:2.94\t min:1.25\t mean:2.03\t median 1.98\n",
      "Feature = 0\tThreshold = 1.036302\tPolorization = 1\n",
      "Epoch-6\t Train loss: 3.7266e-01\t Valid loss: 1.6859e-01\t Valid error: 0.0000\n",
      "new model saved\n",
      "Epoch  7  training\n"
     ]
    },
    {
     "name": "stderr",
     "output_type": "stream",
     "text": [
      "100%|█████████████████████████████████████████████| 2/2 [00:00<00:00,  3.79it/s]\n"
     ]
    },
    {
     "name": "stdout",
     "output_type": "stream",
     "text": [
      "Epoch  7  validating\n"
     ]
    },
    {
     "name": "stderr",
     "output_type": "stream",
     "text": [
      "100%|███████████████████████████████████████████| 21/21 [00:00<00:00, 56.70it/s]\n"
     ]
    },
    {
     "name": "stdout",
     "output_type": "stream",
     "text": [
      "+1/-1 ratrio:0.52/0.48\n",
      "+1 features max:0.90\t min:0.18\t mean:0.48\t median 0.54\n",
      "-1 features max:2.72\t min:1.25\t mean:1.94\t median 1.93\n",
      "Feature = 0\tThreshold = 1.072485\tPolorization = 1\n",
      "Epoch-7\t Train loss: 2.5396e-01\t Valid loss: 1.4027e-01\t Valid error: 0.0000\n",
      "new model saved\n",
      "Epoch  8  training\n"
     ]
    },
    {
     "name": "stderr",
     "output_type": "stream",
     "text": [
      "100%|█████████████████████████████████████████████| 2/2 [00:00<00:00,  3.60it/s]\n"
     ]
    },
    {
     "name": "stdout",
     "output_type": "stream",
     "text": [
      "Epoch  8  validating\n"
     ]
    },
    {
     "name": "stderr",
     "output_type": "stream",
     "text": [
      "100%|███████████████████████████████████████████| 21/21 [00:00<00:00, 60.31it/s]\n"
     ]
    },
    {
     "name": "stdout",
     "output_type": "stream",
     "text": [
      "+1/-1 ratrio:0.52/0.48\n",
      "+1 features max:0.83\t min:0.19\t mean:0.44\t median 0.48\n",
      "-1 features max:2.73\t min:1.25\t mean:1.86\t median 1.84\n",
      "Feature = 0\tThreshold = 1.040514\tPolorization = 1\n",
      "Epoch-8\t Train loss: 1.8681e-01\t Valid loss: 1.2006e-01\t Valid error: 0.0000\n",
      "new model saved\n",
      "Epoch  9  training\n"
     ]
    },
    {
     "name": "stderr",
     "output_type": "stream",
     "text": [
      "100%|█████████████████████████████████████████████| 2/2 [00:00<00:00,  3.53it/s]\n"
     ]
    },
    {
     "name": "stdout",
     "output_type": "stream",
     "text": [
      "Epoch  9  validating\n"
     ]
    },
    {
     "name": "stderr",
     "output_type": "stream",
     "text": [
      "100%|███████████████████████████████████████████| 21/21 [00:00<00:00, 63.07it/s]\n"
     ]
    },
    {
     "name": "stdout",
     "output_type": "stream",
     "text": [
      "+1/-1 ratrio:0.52/0.48\n",
      "+1 features max:0.70\t min:0.17\t mean:0.41\t median 0.43\n",
      "-1 features max:2.74\t min:1.15\t mean:1.78\t median 1.74\n",
      "Feature = 0\tThreshold = 0.925272\tPolorization = 1\n",
      "Epoch-9\t Train loss: 1.6611e-01\t Valid loss: 1.0276e-01\t Valid error: 0.0000\n",
      "new model saved\n",
      "Epoch  10  training\n"
     ]
    },
    {
     "name": "stderr",
     "output_type": "stream",
     "text": [
      "100%|█████████████████████████████████████████████| 2/2 [00:00<00:00,  3.61it/s]\n"
     ]
    },
    {
     "name": "stdout",
     "output_type": "stream",
     "text": [
      "Epoch  10  validating\n"
     ]
    },
    {
     "name": "stderr",
     "output_type": "stream",
     "text": [
      "100%|███████████████████████████████████████████| 21/21 [00:00<00:00, 59.45it/s]\n"
     ]
    },
    {
     "name": "stdout",
     "output_type": "stream",
     "text": [
      "+1/-1 ratrio:0.52/0.48\n",
      "+1 features max:0.61\t min:0.15\t mean:0.39\t median 0.43\n",
      "-1 features max:2.81\t min:1.05\t mean:1.73\t median 1.66\n",
      "Feature = 0\tThreshold = 0.831309\tPolorization = 1\n",
      "Epoch-10\t Train loss: 1.0522e-01\t Valid loss: 9.0969e-02\t Valid error: 0.0000\n",
      "new model saved\n",
      "Epoch  11  training\n"
     ]
    },
    {
     "name": "stderr",
     "output_type": "stream",
     "text": [
      "100%|█████████████████████████████████████████████| 2/2 [00:00<00:00,  3.70it/s]\n"
     ]
    },
    {
     "name": "stdout",
     "output_type": "stream",
     "text": [
      "Epoch  11  validating\n"
     ]
    },
    {
     "name": "stderr",
     "output_type": "stream",
     "text": [
      "100%|███████████████████████████████████████████| 21/21 [00:00<00:00, 60.80it/s]\n"
     ]
    },
    {
     "name": "stdout",
     "output_type": "stream",
     "text": [
      "+1/-1 ratrio:0.52/0.48\n",
      "+1 features max:0.54\t min:0.15\t mean:0.36\t median 0.37\n",
      "-1 features max:2.91\t min:1.02\t mean:1.71\t median 1.59\n",
      "Feature = 0\tThreshold = 0.775260\tPolorization = 1\n",
      "Epoch-11\t Train loss: 1.0049e-01\t Valid loss: 7.8440e-02\t Valid error: 0.0000\n",
      "new model saved\n",
      "Epoch  12  training\n"
     ]
    },
    {
     "name": "stderr",
     "output_type": "stream",
     "text": [
      "100%|█████████████████████████████████████████████| 2/2 [00:00<00:00,  3.72it/s]\n"
     ]
    },
    {
     "name": "stdout",
     "output_type": "stream",
     "text": [
      "Epoch  12  validating\n"
     ]
    },
    {
     "name": "stderr",
     "output_type": "stream",
     "text": [
      "100%|███████████████████████████████████████████| 21/21 [00:00<00:00, 53.28it/s]\n"
     ]
    },
    {
     "name": "stdout",
     "output_type": "stream",
     "text": [
      "+1/-1 ratrio:0.52/0.48\n",
      "+1 features max:0.49\t min:0.14\t mean:0.33\t median 0.34\n",
      "-1 features max:2.94\t min:1.01\t mean:1.69\t median 1.54\n",
      "Feature = 0\tThreshold = 0.753760\tPolorization = 1\n",
      "Epoch-12\t Train loss: 8.0217e-02\t Valid loss: 6.4323e-02\t Valid error: 0.0000\n",
      "new model saved\n",
      "Epoch  13  training\n"
     ]
    },
    {
     "name": "stderr",
     "output_type": "stream",
     "text": [
      "100%|█████████████████████████████████████████████| 2/2 [00:00<00:00,  3.64it/s]\n"
     ]
    },
    {
     "name": "stdout",
     "output_type": "stream",
     "text": [
      "Epoch  13  validating\n"
     ]
    },
    {
     "name": "stderr",
     "output_type": "stream",
     "text": [
      "100%|███████████████████████████████████████████| 21/21 [00:00<00:00, 58.10it/s]\n"
     ]
    },
    {
     "name": "stdout",
     "output_type": "stream",
     "text": [
      "+1/-1 ratrio:0.52/0.48\n",
      "+1 features max:0.45\t min:0.14\t mean:0.32\t median 0.33\n",
      "-1 features max:2.91\t min:1.01\t mean:1.67\t median 1.50\n",
      "Feature = 0\tThreshold = 0.731186\tPolorization = 1\n",
      "Epoch-13\t Train loss: 7.5649e-02\t Valid loss: 5.8767e-02\t Valid error: 0.0000\n",
      "new model saved\n",
      "Epoch  14  training\n"
     ]
    },
    {
     "name": "stderr",
     "output_type": "stream",
     "text": [
      "100%|█████████████████████████████████████████████| 2/2 [00:00<00:00,  3.64it/s]\n"
     ]
    },
    {
     "name": "stdout",
     "output_type": "stream",
     "text": [
      "Epoch  14  validating\n"
     ]
    },
    {
     "name": "stderr",
     "output_type": "stream",
     "text": [
      "100%|███████████████████████████████████████████| 21/21 [00:00<00:00, 61.08it/s]\n"
     ]
    },
    {
     "name": "stdout",
     "output_type": "stream",
     "text": [
      "+1/-1 ratrio:0.52/0.48\n",
      "+1 features max:0.41\t min:0.13\t mean:0.30\t median 0.30\n",
      "-1 features max:2.86\t min:0.97\t mean:1.65\t median 1.47\n",
      "Feature = 0\tThreshold = 0.689867\tPolorization = 1\n",
      "Epoch-14\t Train loss: 6.2531e-02\t Valid loss: 5.2869e-02\t Valid error: 0.0000\n",
      "new model saved\n",
      "Epoch  15  training\n"
     ]
    },
    {
     "name": "stderr",
     "output_type": "stream",
     "text": [
      "100%|█████████████████████████████████████████████| 2/2 [00:00<00:00,  3.67it/s]\n"
     ]
    },
    {
     "name": "stdout",
     "output_type": "stream",
     "text": [
      "Epoch  15  validating\n"
     ]
    },
    {
     "name": "stderr",
     "output_type": "stream",
     "text": [
      "100%|███████████████████████████████████████████| 21/21 [00:00<00:00, 59.06it/s]\n"
     ]
    },
    {
     "name": "stdout",
     "output_type": "stream",
     "text": [
      "+1/-1 ratrio:0.52/0.48\n",
      "+1 features max:0.40\t min:0.12\t mean:0.29\t median 0.28\n",
      "-1 features max:2.87\t min:0.93\t mean:1.63\t median 1.43\n",
      "Feature = 0\tThreshold = 0.669250\tPolorization = 1\n",
      "Epoch-15\t Train loss: 4.7165e-02\t Valid loss: 4.9372e-02\t Valid error: 0.0000\n",
      "new model saved\n",
      "Epoch  16  training\n"
     ]
    },
    {
     "name": "stderr",
     "output_type": "stream",
     "text": [
      "100%|█████████████████████████████████████████████| 2/2 [00:00<00:00,  3.73it/s]\n"
     ]
    },
    {
     "name": "stdout",
     "output_type": "stream",
     "text": [
      "Epoch  16  validating\n"
     ]
    },
    {
     "name": "stderr",
     "output_type": "stream",
     "text": [
      "100%|███████████████████████████████████████████| 21/21 [00:00<00:00, 59.47it/s]\n"
     ]
    },
    {
     "name": "stdout",
     "output_type": "stream",
     "text": [
      "+1/-1 ratrio:0.52/0.48\n",
      "+1 features max:0.41\t min:0.12\t mean:0.28\t median 0.26\n",
      "-1 features max:2.88\t min:0.90\t mean:1.62\t median 1.40\n",
      "Feature = 0\tThreshold = 0.655669\tPolorization = 1\n",
      "Epoch-16\t Train loss: 3.2432e-02\t Valid loss: 4.6295e-02\t Valid error: 0.0000\n",
      "new model saved\n",
      "Epoch  17  training\n"
     ]
    },
    {
     "name": "stderr",
     "output_type": "stream",
     "text": [
      "100%|█████████████████████████████████████████████| 2/2 [00:00<00:00,  3.63it/s]\n"
     ]
    },
    {
     "name": "stdout",
     "output_type": "stream",
     "text": [
      "Epoch  17  validating\n"
     ]
    },
    {
     "name": "stderr",
     "output_type": "stream",
     "text": [
      "100%|███████████████████████████████████████████| 21/21 [00:00<00:00, 61.48it/s]\n"
     ]
    },
    {
     "name": "stdout",
     "output_type": "stream",
     "text": [
      "+1/-1 ratrio:0.52/0.48\n",
      "+1 features max:0.40\t min:0.11\t mean:0.27\t median 0.25\n",
      "-1 features max:2.88\t min:0.87\t mean:1.61\t median 1.38\n",
      "Feature = 0\tThreshold = 0.638445\tPolorization = 1\n",
      "Epoch-17\t Train loss: 4.5348e-02\t Valid loss: 4.3451e-02\t Valid error: 0.0000\n",
      "new model saved\n",
      "Epoch  18  training\n"
     ]
    },
    {
     "name": "stderr",
     "output_type": "stream",
     "text": [
      "100%|█████████████████████████████████████████████| 2/2 [00:00<00:00,  3.59it/s]\n"
     ]
    },
    {
     "name": "stdout",
     "output_type": "stream",
     "text": [
      "Epoch  18  validating\n"
     ]
    },
    {
     "name": "stderr",
     "output_type": "stream",
     "text": [
      "100%|███████████████████████████████████████████| 21/21 [00:00<00:00, 60.32it/s]\n"
     ]
    },
    {
     "name": "stdout",
     "output_type": "stream",
     "text": [
      "+1/-1 ratrio:0.52/0.48\n",
      "+1 features max:0.38\t min:0.11\t mean:0.26\t median 0.24\n",
      "-1 features max:2.86\t min:0.86\t mean:1.60\t median 1.37\n",
      "Feature = 0\tThreshold = 0.619557\tPolorization = 1\n",
      "Epoch-18\t Train loss: 2.6716e-02\t Valid loss: 4.0101e-02\t Valid error: 0.0000\n",
      "new model saved\n",
      "Epoch  19  training\n"
     ]
    },
    {
     "name": "stderr",
     "output_type": "stream",
     "text": [
      "100%|█████████████████████████████████████████████| 2/2 [00:00<00:00,  3.64it/s]\n"
     ]
    },
    {
     "name": "stdout",
     "output_type": "stream",
     "text": [
      "Epoch  19  validating\n"
     ]
    },
    {
     "name": "stderr",
     "output_type": "stream",
     "text": [
      "100%|███████████████████████████████████████████| 21/21 [00:00<00:00, 60.19it/s]\n"
     ]
    },
    {
     "name": "stdout",
     "output_type": "stream",
     "text": [
      "+1/-1 ratrio:0.52/0.48\n",
      "+1 features max:0.37\t min:0.11\t mean:0.25\t median 0.24\n",
      "-1 features max:2.84\t min:0.85\t mean:1.60\t median 1.38\n",
      "Feature = 0\tThreshold = 0.610050\tPolorization = 1\n",
      "Epoch-19\t Train loss: 2.4919e-02\t Valid loss: 3.7365e-02\t Valid error: 0.0000\n",
      "new model saved\n",
      "Epoch  20  training\n"
     ]
    },
    {
     "name": "stderr",
     "output_type": "stream",
     "text": [
      "100%|█████████████████████████████████████████████| 2/2 [00:00<00:00,  3.53it/s]\n"
     ]
    },
    {
     "name": "stdout",
     "output_type": "stream",
     "text": [
      "Epoch  20  validating\n"
     ]
    },
    {
     "name": "stderr",
     "output_type": "stream",
     "text": [
      "100%|███████████████████████████████████████████| 21/21 [00:00<00:00, 59.09it/s]\n"
     ]
    },
    {
     "name": "stdout",
     "output_type": "stream",
     "text": [
      "+1/-1 ratrio:0.52/0.48\n",
      "+1 features max:0.36\t min:0.10\t mean:0.25\t median 0.24\n",
      "-1 features max:2.82\t min:0.86\t mean:1.59\t median 1.39\n",
      "Feature = 0\tThreshold = 0.607251\tPolorization = 1\n",
      "Epoch-20\t Train loss: 2.0880e-02\t Valid loss: 3.5875e-02\t Valid error: 0.0000\n",
      "new model saved\n",
      "Epoch  21  training\n"
     ]
    },
    {
     "name": "stderr",
     "output_type": "stream",
     "text": [
      "100%|█████████████████████████████████████████████| 2/2 [00:00<00:00,  3.66it/s]\n"
     ]
    },
    {
     "name": "stdout",
     "output_type": "stream",
     "text": [
      "Epoch  21  validating\n"
     ]
    },
    {
     "name": "stderr",
     "output_type": "stream",
     "text": [
      "100%|███████████████████████████████████████████| 21/21 [00:00<00:00, 55.54it/s]\n"
     ]
    },
    {
     "name": "stdout",
     "output_type": "stream",
     "text": [
      "+1/-1 ratrio:0.52/0.48\n",
      "+1 features max:0.36\t min:0.09\t mean:0.24\t median 0.25\n",
      "-1 features max:2.81\t min:0.86\t mean:1.58\t median 1.39\n",
      "Feature = 0\tThreshold = 0.605594\tPolorization = 1\n",
      "Epoch-21\t Train loss: 1.7758e-02\t Valid loss: 3.4515e-02\t Valid error: 0.0000\n",
      "new model saved\n",
      "Epoch  22  training\n"
     ]
    },
    {
     "name": "stderr",
     "output_type": "stream",
     "text": [
      "100%|█████████████████████████████████████████████| 2/2 [00:00<00:00,  3.46it/s]\n"
     ]
    },
    {
     "name": "stdout",
     "output_type": "stream",
     "text": [
      "Epoch  22  validating\n"
     ]
    },
    {
     "name": "stderr",
     "output_type": "stream",
     "text": [
      "100%|███████████████████████████████████████████| 21/21 [00:00<00:00, 60.73it/s]\n"
     ]
    },
    {
     "name": "stdout",
     "output_type": "stream",
     "text": [
      "+1/-1 ratrio:0.52/0.48\n",
      "+1 features max:0.36\t min:0.09\t mean:0.24\t median 0.24\n",
      "-1 features max:2.78\t min:0.86\t mean:1.57\t median 1.39\n",
      "Feature = 0\tThreshold = 0.608893\tPolorization = 1\n",
      "Epoch-22\t Train loss: 1.1797e-02\t Valid loss: 3.2775e-02\t Valid error: 0.0000\n",
      "new model saved\n",
      "Epoch  23  training\n"
     ]
    },
    {
     "name": "stderr",
     "output_type": "stream",
     "text": [
      "100%|█████████████████████████████████████████████| 2/2 [00:00<00:00,  3.69it/s]\n"
     ]
    },
    {
     "name": "stdout",
     "output_type": "stream",
     "text": [
      "Epoch  23  validating\n"
     ]
    },
    {
     "name": "stderr",
     "output_type": "stream",
     "text": [
      "100%|███████████████████████████████████████████| 21/21 [00:00<00:00, 62.95it/s]\n"
     ]
    },
    {
     "name": "stdout",
     "output_type": "stream",
     "text": [
      "+1/-1 ratrio:0.52/0.48\n",
      "+1 features max:0.35\t min:0.09\t mean:0.23\t median 0.23\n",
      "-1 features max:2.77\t min:0.86\t mean:1.56\t median 1.38\n",
      "Feature = 0\tThreshold = 0.606748\tPolorization = 1\n",
      "Epoch-23\t Train loss: 1.1174e-02\t Valid loss: 3.0639e-02\t Valid error: 0.0000\n",
      "new model saved\n",
      "Epoch  24  training\n"
     ]
    },
    {
     "name": "stderr",
     "output_type": "stream",
     "text": [
      "100%|█████████████████████████████████████████████| 2/2 [00:00<00:00,  3.81it/s]\n"
     ]
    },
    {
     "name": "stdout",
     "output_type": "stream",
     "text": [
      "Epoch  24  validating\n"
     ]
    },
    {
     "name": "stderr",
     "output_type": "stream",
     "text": [
      "100%|███████████████████████████████████████████| 21/21 [00:00<00:00, 45.16it/s]\n"
     ]
    },
    {
     "name": "stdout",
     "output_type": "stream",
     "text": [
      "+1/-1 ratrio:0.52/0.48\n",
      "+1 features max:0.35\t min:0.09\t mean:0.22\t median 0.21\n",
      "-1 features max:2.76\t min:0.85\t mean:1.55\t median 1.37\n",
      "Feature = 0\tThreshold = 0.599052\tPolorization = 1\n",
      "Epoch-24\t Train loss: 1.1397e-02\t Valid loss: 2.8461e-02\t Valid error: 0.0000\n",
      "new model saved\n",
      "Epoch  25  training\n"
     ]
    },
    {
     "name": "stderr",
     "output_type": "stream",
     "text": [
      "100%|█████████████████████████████████████████████| 2/2 [00:00<00:00,  3.66it/s]\n"
     ]
    },
    {
     "name": "stdout",
     "output_type": "stream",
     "text": [
      "Epoch  25  validating\n"
     ]
    },
    {
     "name": "stderr",
     "output_type": "stream",
     "text": [
      "100%|███████████████████████████████████████████| 21/21 [00:00<00:00, 59.15it/s]\n"
     ]
    },
    {
     "name": "stdout",
     "output_type": "stream",
     "text": [
      "+1/-1 ratrio:0.52/0.48\n",
      "+1 features max:0.34\t min:0.08\t mean:0.21\t median 0.21\n",
      "-1 features max:2.77\t min:0.84\t mean:1.54\t median 1.36\n",
      "Feature = 0\tThreshold = 0.591710\tPolorization = 1\n",
      "Epoch-25\t Train loss: 1.2210e-02\t Valid loss: 2.6768e-02\t Valid error: 0.0000\n",
      "new model saved\n",
      "Epoch  26  training\n"
     ]
    },
    {
     "name": "stderr",
     "output_type": "stream",
     "text": [
      "\r",
      "  0%|                                                     | 0/2 [00:00<?, ?it/s]"
     ]
    }
   ],
   "source": [
    "# Split the dataset into train and validation sets\n",
    "siamese_dataset = SiameseNetworkDataset(config.compare_siamese_csv,\n",
    "                                        transform=transforms.Compose([\n",
    "                                            transforms.Resize((config.img_height,config.img_width)),\n",
    "                                            transforms.ToTensor(),\n",
    "                                            transforms.Normalize(0,1)]),\n",
    "                                        should_invert=False)\n",
    "\n",
    "num_train = round(0.9*siamese_dataset.__len__())\n",
    "num_validate = siamese_dataset.__len__()-num_train\n",
    "\n",
    "\n",
    "\n",
    "siamese_train, siamese_valid = random_split(siamese_dataset, [num_train,num_validate])\n",
    "\n",
    "siamese_train_dataloader = DataLoader(siamese_train,\n",
    "                        shuffle=True,\n",
    "                        num_workers=8,\n",
    "                        batch_size=config.train_batch_size)\n",
    "\n",
    "siamese_valid_dataloader = DataLoader(siamese_valid,\n",
    "                        shuffle=True,\n",
    "                        num_workers=8,\n",
    "                        batch_size=1)\n",
    "\n",
    "# Training\n",
    "netS = SiameseNetwork().cuda()\n",
    "criterionS = ContrastiveLoss()\n",
    "optimizer = optim.Adam(netS.parameters(),lr = config.learning_rate )\n",
    "scheduler = torch.optim.lr_scheduler.StepLR(optimizer,config.step_size, config.gamma)\n",
    "\n",
    "netS, train_loss_historyS, valid_loss_historyS,dict_nameS = trainSiamese(netS,criterionS,optimizer,scheduler,siamese_train_dataloader,\n",
    "             siamese_valid_dataloader,config.train_number_epochs,do_show=True)"
   ]
  },
  {
   "cell_type": "markdown",
   "metadata": {},
   "source": [
    "## Train CNN with Cross Entropy Loss"
   ]
  },
  {
   "cell_type": "code",
   "execution_count": null,
   "metadata": {},
   "outputs": [],
   "source": [
    "cnn_dataset = CNNDataset(config.compare_cnn_csv,\n",
    "                                        transform=transforms.Compose([\n",
    "                                            transforms.Resize((config.img_height,config.img_width)),\n",
    "                                            transforms.ToTensor(),\n",
    "                                            transforms.Normalize(0,1)]),\n",
    "                                        should_invert=False)\n",
    "\n",
    "cnn_train_dataloader = DataLoader(cnn_dataset,\n",
    "                        shuffle=True,\n",
    "                        num_workers=8,\n",
    "                        batch_size=config.train_batch_size)\n",
    "\n",
    "netC = CNN().cuda()\n",
    "criterionC = CrossEntropyLoss()\n",
    "optimizer = optim.Adam(netC.parameters(),lr = config.learning_rate )\n",
    "scheduler = torch.optim.lr_scheduler.StepLR(optimizer,config.step_size, config.gamma)"
   ]
  },
  {
   "cell_type": "code",
   "execution_count": null,
   "metadata": {},
   "outputs": [],
   "source": [
    "netC, train_loss_historyC, dict_nameC = trainCNN(netC,criterionC,optimizer,scheduler,cnn_train_dataloader,\n",
    "             config.train_number_epochs,do_show=True)"
   ]
  },
  {
   "cell_type": "code",
   "execution_count": null,
   "metadata": {},
   "outputs": [],
   "source": [
    "test_dataset = CNNDataset(config.compare_test_csv,\n",
    "                                        transform=transforms.Compose([\n",
    "                                            transforms.Resize((config.img_height,config.img_width)),\n",
    "                                            transforms.ToTensor(),\n",
    "                                            transforms.Normalize(0,1)]),\n",
    "                                        should_invert=False)\n",
    "\n",
    "test_dataloader = DataLoader(test_dataset,\n",
    "                        shuffle=False,\n",
    "                        num_workers=1,\n",
    "                        batch_size=1)\n",
    "true_labels = []\n",
    "for _,label in iter(test_dataloader):\n",
    "    true_labels.append(int(label))\n",
    "\n",
    "netS = SiameseNetwork().cuda()\n",
    "netS.load_state_dict(torch.load(os.path.join(\"state_dict\",dict_nameS)))\n",
    "netS.eval()\n",
    "\n",
    "siamese_precalculate_dataloader = DataLoader(cnn_dataset,\n",
    "                        shuffle=False,\n",
    "                        num_workers=1,\n",
    "                        batch_size=1)\n",
    "\n",
    "feature_vectors = []\n",
    "temp = []\n",
    "current_label = 0 #int(next(iter(siamese_precalculate_dataloader))[1])\n",
    "for data,label in iter(siamese_precalculate_dataloader):\n",
    "    v = (netS.forward_once(data.cuda()).detach().cpu().numpy())[0]\n",
    "    if label==current_label:\n",
    "        temp.append(v)\n",
    "    else:\n",
    "        current_label = label\n",
    "        feature_vectors.append(deepcopy(temp))\n",
    "        temp = []\n",
    "        temp.append(v)\n",
    "feature_vectors.append(deepcopy(temp))\n",
    "\n",
    "inferenceS = []\n",
    "for data, label in iter(test_dataloader):\n",
    "    current_feature = netS.forward_once(data.cuda())\n",
    "    dissims = []\n",
    "    temp = 0\n",
    "    for vectors in feature_vectors:\n",
    "        for feature in vectors:\n",
    "            temp += F.pairwise_distance(current_feature,torch.tensor(feature).cuda()).detach().cpu().numpy()\n",
    "        dissims.append(temp / len(vectors))\n",
    "        temp = 0\n",
    "    inferenceS.append(np.argmin(dissims))\n",
    "    \n",
    "netC = SiameseNetwork().cuda()\n",
    "netC.load_state_dict(torch.load(os.path.join(\"state_dict\",dict_nameC)))\n",
    "netC.eval()\n",
    "\n",
    "inferenceC = []\n",
    "for data, label in iter(test_dataloader):\n",
    "    current_feature = netC.forward_once(data.cuda())\n",
    "    inferenceC.append(np.argmax(current_feature.detach().cpu().numpy()))\n",
    "\n",
    "accS = sum([true_labels[i]==inferenceS[i] for i in range(len(true_labels))])/len(true_labels)\n",
    "accC = sum([true_labels[i]==inferenceC[i] for i in range(len(true_labels))])/len(true_labels)\n",
    "\n",
    "print(tabulate(np.array([true_labels,inferenceS,inferenceC]).T, headers=[\"true labels\", \"Siamese\", \"CNN\"]))\n",
    "\n",
    "print(\"Siamese accuracy: %.4f\"%(accS))\n",
    "print(\"Convnet accuracy: %.4f\"%(accC))"
   ]
  },
  {
   "cell_type": "code",
   "execution_count": null,
   "metadata": {},
   "outputs": [],
   "source": []
  }
 ],
 "metadata": {
  "hide_input": false,
  "kernelspec": {
   "display_name": "Python 3",
   "language": "python",
   "name": "python3"
  },
  "language_info": {
   "codemirror_mode": {
    "name": "ipython",
    "version": 3
   },
   "file_extension": ".py",
   "mimetype": "text/x-python",
   "name": "python",
   "nbconvert_exporter": "python",
   "pygments_lexer": "ipython3",
   "version": "3.7.12"
  }
 },
 "nbformat": 4,
 "nbformat_minor": 4
}
