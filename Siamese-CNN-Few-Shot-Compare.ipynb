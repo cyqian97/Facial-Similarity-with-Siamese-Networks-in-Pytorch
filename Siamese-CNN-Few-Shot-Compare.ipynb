{
 "cells": [
  {
   "cell_type": "markdown",
   "metadata": {},
   "source": [
    "# Few shot learning: Siamese vs Traditional CNN"
   ]
  },
  {
   "cell_type": "code",
   "execution_count": 1,
   "metadata": {},
   "outputs": [],
   "source": [
    "%matplotlib inline\n",
    "\n",
    "import torch\n",
    "import numpy as np\n",
    "import pandas as pd\n",
    "from copy import deepcopy\n",
    "from tabulate import tabulate\n",
    "from torch import optim\n",
    "import torchvision.utils\n",
    "import torch.nn.functional as F\n",
    "from torch.autograd import Variable\n",
    "from torch.nn import CrossEntropyLoss\n",
    "import torchvision.transforms as transforms\n",
    "from torch.utils.data import DataLoader,random_split\n",
    "\n",
    "import config\n",
    "from utils import imshow\n",
    "from models import SiameseNetwork, CNN\n",
    "from training import trainSiamese,inferenceSiamese, trainCNN\n",
    "from datasets import SiameseNetworkDataset, CNNDataset,generate_csv_compare\n",
    "from loss_functions import ContrastiveLoss\n",
    "\n",
    "# generate_csv(config.training_dir)\n",
    "\n",
    "import os\n",
    "if not os.path.exists('state_dict'):\n",
    "    os.makedirs('state_dict')"
   ]
  },
  {
   "cell_type": "markdown",
   "metadata": {},
   "source": [
    "## Generate Dateset with a few images per class"
   ]
  },
  {
   "cell_type": "code",
   "execution_count": 2,
   "metadata": {},
   "outputs": [
    {
     "name": "stdout",
     "output_type": "stream",
     "text": [
      "Data directory:  ../../datasets/AT&T Database of Faces/faces/training\n"
     ]
    }
   ],
   "source": [
    "generate_csv_compare(config.training_dir,config.compare_siamese_csv,config.compare_cnn_csv,config.compare_test_csv,\n",
    "                     num_per_class = 4)"
   ]
  },
  {
   "cell_type": "markdown",
   "metadata": {},
   "source": [
    "## Training Siamese Network"
   ]
  },
  {
   "cell_type": "code",
   "execution_count": 3,
   "metadata": {},
   "outputs": [
    {
     "name": "stdout",
     "output_type": "stream",
     "text": [
      "Epoch  0  training\n"
     ]
    },
    {
     "name": "stderr",
     "output_type": "stream",
     "text": [
      "100%|█████████████████████████████████████████████| 2/2 [00:00<00:00,  2.05it/s]\n"
     ]
    },
    {
     "name": "stdout",
     "output_type": "stream",
     "text": [
      "Epoch  0  validating\n"
     ]
    },
    {
     "name": "stderr",
     "output_type": "stream",
     "text": [
      "100%|███████████████████████████████████████████| 21/21 [00:00<00:00, 58.04it/s]\n"
     ]
    },
    {
     "name": "stdout",
     "output_type": "stream",
     "text": [
      "+1/-1 ratrio:0.48/0.52\n",
      "+1 features max:3.03\t min:0.99\t mean:1.94\t median 2.01\n",
      "-1 features max:3.04\t min:1.52\t mean:2.25\t median 2.09\n",
      "Feature = 0\tThreshold = 1.742426\tPolorization = 1\n",
      "Epoch-0\t Train loss: 2.4193e+00\t Valid loss: 1.9499e+00\t Valid error: 0.3333\n",
      "Epoch  1  training\n"
     ]
    },
    {
     "name": "stderr",
     "output_type": "stream",
     "text": [
      "100%|█████████████████████████████████████████████| 2/2 [00:00<00:00,  3.66it/s]\n"
     ]
    },
    {
     "name": "stdout",
     "output_type": "stream",
     "text": [
      "Epoch  1  validating\n"
     ]
    },
    {
     "name": "stderr",
     "output_type": "stream",
     "text": [
      "100%|███████████████████████████████████████████| 21/21 [00:00<00:00, 61.10it/s]\n"
     ]
    },
    {
     "name": "stdout",
     "output_type": "stream",
     "text": [
      "+1/-1 ratrio:0.48/0.52\n",
      "+1 features max:1.83\t min:0.89\t mean:1.36\t median 1.38\n",
      "-1 features max:3.17\t min:1.25\t mean:1.96\t median 1.85\n",
      "Feature = 0\tThreshold = 1.837113\tPolorization = 1\n",
      "Epoch-1\t Train loss: 5.7495e+00\t Valid loss: 9.2415e-01\t Valid error: 0.2381\n",
      "new model saved\n",
      "Epoch  2  training\n"
     ]
    },
    {
     "name": "stderr",
     "output_type": "stream",
     "text": [
      "100%|█████████████████████████████████████████████| 2/2 [00:00<00:00,  3.65it/s]\n"
     ]
    },
    {
     "name": "stdout",
     "output_type": "stream",
     "text": [
      "Epoch  2  validating\n"
     ]
    },
    {
     "name": "stderr",
     "output_type": "stream",
     "text": [
      "100%|███████████████████████████████████████████| 21/21 [00:00<00:00, 59.58it/s]\n"
     ]
    },
    {
     "name": "stdout",
     "output_type": "stream",
     "text": [
      "+1/-1 ratrio:0.48/0.52\n",
      "+1 features max:1.70\t min:0.69\t mean:1.25\t median 1.27\n",
      "-1 features max:3.05\t min:1.26\t mean:1.82\t median 1.53\n",
      "Feature = 0\tThreshold = 1.419907\tPolorization = 1\n",
      "Epoch-2\t Train loss: 3.4514e+00\t Valid loss: 7.8039e-01\t Valid error: 0.1905\n",
      "new model saved\n",
      "Epoch  3  training\n"
     ]
    },
    {
     "name": "stderr",
     "output_type": "stream",
     "text": [
      "100%|█████████████████████████████████████████████| 2/2 [00:00<00:00,  3.60it/s]\n"
     ]
    },
    {
     "name": "stdout",
     "output_type": "stream",
     "text": [
      "Epoch  3  validating\n"
     ]
    },
    {
     "name": "stderr",
     "output_type": "stream",
     "text": [
      "100%|███████████████████████████████████████████| 21/21 [00:00<00:00, 59.89it/s]\n"
     ]
    },
    {
     "name": "stdout",
     "output_type": "stream",
     "text": [
      "+1/-1 ratrio:0.48/0.52\n",
      "+1 features max:1.46\t min:0.54\t mean:1.07\t median 1.02\n",
      "-1 features max:2.98\t min:1.07\t mean:1.87\t median 1.61\n",
      "Feature = 0\tThreshold = 1.469550\tPolorization = 1\n",
      "Epoch-3\t Train loss: 1.9253e+00\t Valid loss: 5.8067e-01\t Valid error: 0.0952\n",
      "new model saved\n",
      "Epoch  4  training\n"
     ]
    },
    {
     "name": "stderr",
     "output_type": "stream",
     "text": [
      "100%|█████████████████████████████████████████████| 2/2 [00:00<00:00,  3.59it/s]\n"
     ]
    },
    {
     "name": "stdout",
     "output_type": "stream",
     "text": [
      "Epoch  4  validating\n"
     ]
    },
    {
     "name": "stderr",
     "output_type": "stream",
     "text": [
      "100%|███████████████████████████████████████████| 21/21 [00:00<00:00, 57.32it/s]\n"
     ]
    },
    {
     "name": "stdout",
     "output_type": "stream",
     "text": [
      "+1/-1 ratrio:0.48/0.52\n",
      "+1 features max:1.51\t min:0.67\t mean:1.06\t median 1.07\n",
      "-1 features max:3.94\t min:1.14\t mean:2.08\t median 1.83\n",
      "Feature = 0\tThreshold = 1.384077\tPolorization = 1\n",
      "Epoch-4\t Train loss: 1.2698e+00\t Valid loss: 5.6448e-01\t Valid error: 0.1429\n",
      "new model saved\n",
      "Epoch  5  training\n"
     ]
    },
    {
     "name": "stderr",
     "output_type": "stream",
     "text": [
      "100%|█████████████████████████████████████████████| 2/2 [00:00<00:00,  3.58it/s]\n"
     ]
    },
    {
     "name": "stdout",
     "output_type": "stream",
     "text": [
      "Epoch  5  validating\n"
     ]
    },
    {
     "name": "stderr",
     "output_type": "stream",
     "text": [
      "100%|███████████████████████████████████████████| 21/21 [00:00<00:00, 59.22it/s]\n"
     ]
    },
    {
     "name": "stdout",
     "output_type": "stream",
     "text": [
      "+1/-1 ratrio:0.48/0.52\n",
      "+1 features max:1.58\t min:0.61\t mean:1.01\t median 0.96\n",
      "-1 features max:3.90\t min:1.21\t mean:2.10\t median 1.90\n",
      "Feature = 0\tThreshold = 1.197687\tPolorization = 1\n",
      "Epoch-5\t Train loss: 1.1282e+00\t Valid loss: 5.2291e-01\t Valid error: 0.1429\n",
      "new model saved\n",
      "Epoch  6  training\n"
     ]
    },
    {
     "name": "stderr",
     "output_type": "stream",
     "text": [
      "100%|█████████████████████████████████████████████| 2/2 [00:00<00:00,  3.61it/s]\n"
     ]
    },
    {
     "name": "stdout",
     "output_type": "stream",
     "text": [
      "Epoch  6  validating\n"
     ]
    },
    {
     "name": "stderr",
     "output_type": "stream",
     "text": [
      "100%|███████████████████████████████████████████| 21/21 [00:00<00:00, 58.69it/s]\n"
     ]
    },
    {
     "name": "stdout",
     "output_type": "stream",
     "text": [
      "+1/-1 ratrio:0.48/0.52\n",
      "+1 features max:1.56\t min:0.53\t mean:0.93\t median 0.90\n",
      "-1 features max:3.96\t min:1.21\t mean:2.12\t median 1.83\n",
      "Feature = 0\tThreshold = 1.180515\tPolorization = 1\n",
      "Epoch-6\t Train loss: 1.0986e+00\t Valid loss: 4.5666e-01\t Valid error: 0.0476\n",
      "new model saved\n",
      "Epoch  7  training\n"
     ]
    },
    {
     "name": "stderr",
     "output_type": "stream",
     "text": [
      "100%|█████████████████████████████████████████████| 2/2 [00:00<00:00,  3.56it/s]\n"
     ]
    },
    {
     "name": "stdout",
     "output_type": "stream",
     "text": [
      "Epoch  7  validating\n"
     ]
    },
    {
     "name": "stderr",
     "output_type": "stream",
     "text": [
      "100%|███████████████████████████████████████████| 21/21 [00:00<00:00, 57.09it/s]\n"
     ]
    },
    {
     "name": "stdout",
     "output_type": "stream",
     "text": [
      "+1/-1 ratrio:0.48/0.52\n",
      "+1 features max:1.59\t min:0.43\t mean:0.88\t median 0.86\n",
      "-1 features max:3.89\t min:1.30\t mean:2.08\t median 1.71\n",
      "Feature = 0\tThreshold = 1.202617\tPolorization = 1\n",
      "Epoch-7\t Train loss: 4.5120e-01\t Valid loss: 4.1524e-01\t Valid error: 0.0476\n",
      "new model saved\n",
      "Epoch  8  training\n"
     ]
    },
    {
     "name": "stderr",
     "output_type": "stream",
     "text": [
      "100%|█████████████████████████████████████████████| 2/2 [00:00<00:00,  3.47it/s]\n"
     ]
    },
    {
     "name": "stdout",
     "output_type": "stream",
     "text": [
      "Epoch  8  validating\n"
     ]
    },
    {
     "name": "stderr",
     "output_type": "stream",
     "text": [
      "100%|███████████████████████████████████████████| 21/21 [00:00<00:00, 58.30it/s]\n"
     ]
    },
    {
     "name": "stdout",
     "output_type": "stream",
     "text": [
      "+1/-1 ratrio:0.48/0.52\n",
      "+1 features max:1.55\t min:0.36\t mean:0.84\t median 0.84\n",
      "-1 features max:4.21\t min:1.32\t mean:2.06\t median 1.71\n",
      "Feature = 0\tThreshold = 1.207613\tPolorization = 1\n",
      "Epoch-8\t Train loss: 2.4907e-01\t Valid loss: 3.8092e-01\t Valid error: 0.0476\n",
      "new model saved\n",
      "Epoch  9  training\n"
     ]
    },
    {
     "name": "stderr",
     "output_type": "stream",
     "text": [
      "100%|█████████████████████████████████████████████| 2/2 [00:00<00:00,  3.58it/s]\n"
     ]
    },
    {
     "name": "stdout",
     "output_type": "stream",
     "text": [
      "Epoch  9  validating\n"
     ]
    },
    {
     "name": "stderr",
     "output_type": "stream",
     "text": [
      "100%|███████████████████████████████████████████| 21/21 [00:00<00:00, 58.61it/s]\n"
     ]
    },
    {
     "name": "stdout",
     "output_type": "stream",
     "text": [
      "+1/-1 ratrio:0.48/0.52\n",
      "+1 features max:1.36\t min:0.35\t mean:0.79\t median 0.76\n",
      "-1 features max:4.33\t min:1.11\t mean:1.99\t median 1.69\n",
      "Feature = 0\tThreshold = 1.090722\tPolorization = 1\n",
      "Epoch-9\t Train loss: 6.0915e-01\t Valid loss: 3.3024e-01\t Valid error: 0.0476\n",
      "new model saved\n",
      "Epoch  10  training\n"
     ]
    },
    {
     "name": "stderr",
     "output_type": "stream",
     "text": [
      "100%|█████████████████████████████████████████████| 2/2 [00:00<00:00,  3.68it/s]\n"
     ]
    },
    {
     "name": "stdout",
     "output_type": "stream",
     "text": [
      "Epoch  10  validating\n"
     ]
    },
    {
     "name": "stderr",
     "output_type": "stream",
     "text": [
      "100%|███████████████████████████████████████████| 21/21 [00:00<00:00, 56.34it/s]\n"
     ]
    },
    {
     "name": "stdout",
     "output_type": "stream",
     "text": [
      "+1/-1 ratrio:0.48/0.52\n",
      "+1 features max:1.22\t min:0.37\t mean:0.74\t median 0.66\n",
      "-1 features max:4.31\t min:0.96\t mean:1.93\t median 1.66\n",
      "Feature = 0\tThreshold = 0.926601\tPolorization = 1\n",
      "Epoch-10\t Train loss: 1.7855e-01\t Valid loss: 2.8417e-01\t Valid error: 0.0952\n",
      "new model saved\n",
      "Epoch  11  training\n"
     ]
    },
    {
     "name": "stderr",
     "output_type": "stream",
     "text": [
      "100%|█████████████████████████████████████████████| 2/2 [00:00<00:00,  3.67it/s]\n"
     ]
    },
    {
     "name": "stdout",
     "output_type": "stream",
     "text": [
      "Epoch  11  validating\n"
     ]
    },
    {
     "name": "stderr",
     "output_type": "stream",
     "text": [
      "100%|███████████████████████████████████████████| 21/21 [00:00<00:00, 62.80it/s]\n"
     ]
    },
    {
     "name": "stdout",
     "output_type": "stream",
     "text": [
      "+1/-1 ratrio:0.48/0.52\n",
      "+1 features max:1.18\t min:0.39\t mean:0.72\t median 0.66\n",
      "-1 features max:4.27\t min:0.91\t mean:1.90\t median 1.64\n",
      "Feature = 0\tThreshold = 0.897071\tPolorization = 1\n",
      "Epoch-11\t Train loss: 4.2421e-01\t Valid loss: 2.6921e-01\t Valid error: 0.0952\n",
      "new model saved\n",
      "Epoch  12  training\n"
     ]
    },
    {
     "name": "stderr",
     "output_type": "stream",
     "text": [
      "100%|█████████████████████████████████████████████| 2/2 [00:00<00:00,  3.65it/s]\n"
     ]
    },
    {
     "name": "stdout",
     "output_type": "stream",
     "text": [
      "Epoch  12  validating\n"
     ]
    },
    {
     "name": "stderr",
     "output_type": "stream",
     "text": [
      "100%|███████████████████████████████████████████| 21/21 [00:00<00:00, 63.50it/s]\n"
     ]
    },
    {
     "name": "stdout",
     "output_type": "stream",
     "text": [
      "+1/-1 ratrio:0.48/0.52\n",
      "+1 features max:1.13\t min:0.40\t mean:0.71\t median 0.64\n",
      "-1 features max:4.53\t min:0.94\t mean:1.94\t median 1.71\n",
      "Feature = 0\tThreshold = 0.906016\tPolorization = 1\n",
      "Epoch-12\t Train loss: 2.0390e-01\t Valid loss: 2.6901e-01\t Valid error: 0.0952\n",
      "new model saved\n",
      "Epoch  13  training\n"
     ]
    },
    {
     "name": "stderr",
     "output_type": "stream",
     "text": [
      "100%|█████████████████████████████████████████████| 2/2 [00:00<00:00,  3.70it/s]\n"
     ]
    },
    {
     "name": "stdout",
     "output_type": "stream",
     "text": [
      "Epoch  13  validating\n"
     ]
    },
    {
     "name": "stderr",
     "output_type": "stream",
     "text": [
      "100%|███████████████████████████████████████████| 21/21 [00:00<00:00, 62.07it/s]\n"
     ]
    },
    {
     "name": "stdout",
     "output_type": "stream",
     "text": [
      "+1/-1 ratrio:0.48/0.52\n",
      "+1 features max:1.24\t min:0.39\t mean:0.71\t median 0.60\n",
      "-1 features max:4.84\t min:1.00\t mean:2.02\t median 1.87\n",
      "Feature = 0\tThreshold = 0.942571\tPolorization = 1\n",
      "Epoch-13\t Train loss: 1.2627e-01\t Valid loss: 2.7356e-01\t Valid error: 0.0952\n",
      "new model saved\n",
      "Epoch  14  training\n"
     ]
    },
    {
     "name": "stderr",
     "output_type": "stream",
     "text": [
      "100%|█████████████████████████████████████████████| 2/2 [00:00<00:00,  3.75it/s]\n"
     ]
    },
    {
     "name": "stdout",
     "output_type": "stream",
     "text": [
      "Epoch  14  validating\n"
     ]
    },
    {
     "name": "stderr",
     "output_type": "stream",
     "text": [
      "100%|███████████████████████████████████████████| 21/21 [00:00<00:00, 59.34it/s]\n"
     ]
    },
    {
     "name": "stdout",
     "output_type": "stream",
     "text": [
      "+1/-1 ratrio:0.48/0.52\n",
      "+1 features max:1.23\t min:0.38\t mean:0.69\t median 0.56\n",
      "-1 features max:4.78\t min:0.98\t mean:2.00\t median 1.88\n",
      "Feature = 0\tThreshold = 0.965582\tPolorization = 1\n",
      "Epoch-14\t Train loss: 1.9024e-01\t Valid loss: 2.6108e-01\t Valid error: 0.0476\n",
      "new model saved\n",
      "Epoch  15  training\n"
     ]
    },
    {
     "name": "stderr",
     "output_type": "stream",
     "text": [
      "100%|█████████████████████████████████████████████| 2/2 [00:00<00:00,  3.74it/s]\n"
     ]
    },
    {
     "name": "stdout",
     "output_type": "stream",
     "text": [
      "Epoch  15  validating\n"
     ]
    },
    {
     "name": "stderr",
     "output_type": "stream",
     "text": [
      "100%|███████████████████████████████████████████| 21/21 [00:00<00:00, 58.39it/s]\n"
     ]
    },
    {
     "name": "stdout",
     "output_type": "stream",
     "text": [
      "+1/-1 ratrio:0.48/0.52\n",
      "+1 features max:1.19\t min:0.39\t mean:0.67\t median 0.55\n",
      "-1 features max:4.62\t min:0.95\t mean:1.96\t median 1.86\n",
      "Feature = 0\tThreshold = 0.940565\tPolorization = 1\n",
      "Epoch-15\t Train loss: 1.0013e-01\t Valid loss: 2.5064e-01\t Valid error: 0.0476\n",
      "new model saved\n",
      "Epoch  16  training\n"
     ]
    },
    {
     "name": "stderr",
     "output_type": "stream",
     "text": [
      "100%|█████████████████████████████████████████████| 2/2 [00:00<00:00,  3.58it/s]\n"
     ]
    },
    {
     "name": "stdout",
     "output_type": "stream",
     "text": [
      "Epoch  16  validating\n"
     ]
    },
    {
     "name": "stderr",
     "output_type": "stream",
     "text": [
      "100%|███████████████████████████████████████████| 21/21 [00:00<00:00, 59.73it/s]\n"
     ]
    },
    {
     "name": "stdout",
     "output_type": "stream",
     "text": [
      "+1/-1 ratrio:0.48/0.52\n",
      "+1 features max:1.15\t min:0.38\t mean:0.65\t median 0.54\n",
      "-1 features max:4.48\t min:0.91\t mean:1.91\t median 1.82\n",
      "Feature = 0\tThreshold = 0.897824\tPolorization = 1\n",
      "Epoch-16\t Train loss: 1.0481e-01\t Valid loss: 2.3592e-01\t Valid error: 0.0952\n",
      "new model saved\n",
      "Epoch  17  training\n"
     ]
    },
    {
     "name": "stderr",
     "output_type": "stream",
     "text": [
      "100%|█████████████████████████████████████████████| 2/2 [00:00<00:00,  3.57it/s]\n"
     ]
    },
    {
     "name": "stdout",
     "output_type": "stream",
     "text": [
      "Epoch  17  validating\n"
     ]
    },
    {
     "name": "stderr",
     "output_type": "stream",
     "text": [
      "100%|███████████████████████████████████████████| 21/21 [00:00<00:00, 59.91it/s]\n"
     ]
    },
    {
     "name": "stdout",
     "output_type": "stream",
     "text": [
      "+1/-1 ratrio:0.48/0.52\n",
      "+1 features max:1.11\t min:0.35\t mean:0.62\t median 0.51\n",
      "-1 features max:4.41\t min:0.87\t mean:1.88\t median 1.79\n",
      "Feature = 0\tThreshold = 0.860548\tPolorization = 1\n",
      "Epoch-17\t Train loss: 1.0053e-01\t Valid loss: 2.1791e-01\t Valid error: 0.0952\n",
      "new model saved\n",
      "Epoch  18  training\n"
     ]
    },
    {
     "name": "stderr",
     "output_type": "stream",
     "text": [
      "100%|█████████████████████████████████████████████| 2/2 [00:00<00:00,  3.53it/s]\n"
     ]
    },
    {
     "name": "stdout",
     "output_type": "stream",
     "text": [
      "Epoch  18  validating\n"
     ]
    },
    {
     "name": "stderr",
     "output_type": "stream",
     "text": [
      "100%|███████████████████████████████████████████| 21/21 [00:00<00:00, 61.17it/s]\n"
     ]
    },
    {
     "name": "stdout",
     "output_type": "stream",
     "text": [
      "+1/-1 ratrio:0.48/0.52\n",
      "+1 features max:1.10\t min:0.32\t mean:0.60\t median 0.48\n",
      "-1 features max:4.40\t min:0.86\t mean:1.86\t median 1.81\n",
      "Feature = 0\tThreshold = 0.856522\tPolorization = 1\n",
      "Epoch-18\t Train loss: 4.6055e-02\t Valid loss: 2.0137e-01\t Valid error: 0.0476\n",
      "new model saved\n",
      "Epoch  19  training\n"
     ]
    },
    {
     "name": "stderr",
     "output_type": "stream",
     "text": [
      "100%|█████████████████████████████████████████████| 2/2 [00:00<00:00,  3.52it/s]\n"
     ]
    },
    {
     "name": "stdout",
     "output_type": "stream",
     "text": [
      "Epoch  19  validating\n"
     ]
    },
    {
     "name": "stderr",
     "output_type": "stream",
     "text": [
      "100%|███████████████████████████████████████████| 21/21 [00:00<00:00, 57.28it/s]\n"
     ]
    },
    {
     "name": "stdout",
     "output_type": "stream",
     "text": [
      "+1/-1 ratrio:0.48/0.52\n",
      "+1 features max:1.10\t min:0.29\t mean:0.58\t median 0.45\n",
      "-1 features max:4.45\t min:0.86\t mean:1.86\t median 1.85\n",
      "Feature = 0\tThreshold = 0.842860\tPolorization = 1\n",
      "Epoch-19\t Train loss: 4.0738e-02\t Valid loss: 1.9200e-01\t Valid error: 0.0476\n",
      "new model saved\n",
      "Epoch  20  training\n"
     ]
    },
    {
     "name": "stderr",
     "output_type": "stream",
     "text": [
      "100%|█████████████████████████████████████████████| 2/2 [00:00<00:00,  3.57it/s]\n"
     ]
    },
    {
     "name": "stdout",
     "output_type": "stream",
     "text": [
      "Epoch  20  validating\n"
     ]
    },
    {
     "name": "stderr",
     "output_type": "stream",
     "text": [
      "100%|███████████████████████████████████████████| 21/21 [00:00<00:00, 60.01it/s]\n"
     ]
    },
    {
     "name": "stdout",
     "output_type": "stream",
     "text": [
      "+1/-1 ratrio:0.48/0.52\n",
      "+1 features max:1.10\t min:0.27\t mean:0.57\t median 0.43\n",
      "-1 features max:4.52\t min:0.85\t mean:1.87\t median 1.90\n",
      "Feature = 0\tThreshold = 0.833348\tPolorization = 1\n",
      "Epoch-20\t Train loss: 3.7872e-02\t Valid loss: 1.8809e-01\t Valid error: 0.0476\n",
      "new model saved\n",
      "Epoch  21  training\n"
     ]
    },
    {
     "name": "stderr",
     "output_type": "stream",
     "text": [
      "100%|█████████████████████████████████████████████| 2/2 [00:00<00:00,  3.62it/s]\n"
     ]
    },
    {
     "name": "stdout",
     "output_type": "stream",
     "text": [
      "Epoch  21  validating\n"
     ]
    },
    {
     "name": "stderr",
     "output_type": "stream",
     "text": [
      "100%|███████████████████████████████████████████| 21/21 [00:00<00:00, 61.35it/s]\n"
     ]
    },
    {
     "name": "stdout",
     "output_type": "stream",
     "text": [
      "+1/-1 ratrio:0.48/0.52\n",
      "+1 features max:1.10\t min:0.26\t mean:0.56\t median 0.42\n",
      "-1 features max:4.57\t min:0.84\t mean:1.87\t median 1.89\n",
      "Feature = 0\tThreshold = 0.829030\tPolorization = 1\n",
      "Epoch-21\t Train loss: 4.5468e-02\t Valid loss: 1.8752e-01\t Valid error: 0.0476\n",
      "new model saved\n",
      "Epoch  22  training\n"
     ]
    },
    {
     "name": "stderr",
     "output_type": "stream",
     "text": [
      "100%|█████████████████████████████████████████████| 2/2 [00:00<00:00,  3.66it/s]\n"
     ]
    },
    {
     "name": "stdout",
     "output_type": "stream",
     "text": [
      "Epoch  22  validating\n"
     ]
    },
    {
     "name": "stderr",
     "output_type": "stream",
     "text": [
      "100%|███████████████████████████████████████████| 21/21 [00:00<00:00, 61.16it/s]\n"
     ]
    },
    {
     "name": "stdout",
     "output_type": "stream",
     "text": [
      "+1/-1 ratrio:0.48/0.52\n",
      "+1 features max:1.09\t min:0.26\t mean:0.56\t median 0.41\n",
      "-1 features max:4.55\t min:0.82\t mean:1.87\t median 1.88\n",
      "Feature = 0\tThreshold = 0.817259\tPolorization = 1\n",
      "Epoch-22\t Train loss: 3.1350e-02\t Valid loss: 1.8436e-01\t Valid error: 0.0476\n",
      "new model saved\n",
      "Epoch  23  training\n"
     ]
    },
    {
     "name": "stderr",
     "output_type": "stream",
     "text": [
      "100%|█████████████████████████████████████████████| 2/2 [00:00<00:00,  3.63it/s]\n"
     ]
    },
    {
     "name": "stdout",
     "output_type": "stream",
     "text": [
      "Epoch  23  validating\n"
     ]
    },
    {
     "name": "stderr",
     "output_type": "stream",
     "text": [
      "100%|███████████████████████████████████████████| 21/21 [00:00<00:00, 56.71it/s]\n"
     ]
    },
    {
     "name": "stdout",
     "output_type": "stream",
     "text": [
      "+1/-1 ratrio:0.48/0.52\n",
      "+1 features max:1.07\t min:0.26\t mean:0.55\t median 0.40\n",
      "-1 features max:4.52\t min:0.81\t mean:1.85\t median 1.85\n",
      "Feature = 0\tThreshold = 0.803255\tPolorization = 1\n",
      "Epoch-23\t Train loss: 2.4956e-02\t Valid loss: 1.7970e-01\t Valid error: 0.0476\n",
      "new model saved\n",
      "Epoch  24  training\n"
     ]
    },
    {
     "name": "stderr",
     "output_type": "stream",
     "text": [
      "100%|█████████████████████████████████████████████| 2/2 [00:00<00:00,  3.65it/s]\n"
     ]
    },
    {
     "name": "stdout",
     "output_type": "stream",
     "text": [
      "Epoch  24  validating\n"
     ]
    },
    {
     "name": "stderr",
     "output_type": "stream",
     "text": [
      "100%|███████████████████████████████████████████| 21/21 [00:00<00:00, 57.32it/s]\n"
     ]
    },
    {
     "name": "stdout",
     "output_type": "stream",
     "text": [
      "+1/-1 ratrio:0.48/0.52\n",
      "+1 features max:1.06\t min:0.26\t mean:0.55\t median 0.40\n",
      "-1 features max:4.51\t min:0.80\t mean:1.83\t median 1.82\n",
      "Feature = 0\tThreshold = 0.789585\tPolorization = 1\n",
      "Epoch-24\t Train loss: 2.4957e-02\t Valid loss: 1.7557e-01\t Valid error: 0.0476\n",
      "new model saved\n",
      "Epoch  25  training\n"
     ]
    },
    {
     "name": "stderr",
     "output_type": "stream",
     "text": [
      "100%|█████████████████████████████████████████████| 2/2 [00:00<00:00,  3.61it/s]\n"
     ]
    },
    {
     "name": "stdout",
     "output_type": "stream",
     "text": [
      "Epoch  25  validating\n"
     ]
    },
    {
     "name": "stderr",
     "output_type": "stream",
     "text": [
      "100%|███████████████████████████████████████████| 21/21 [00:00<00:00, 59.44it/s]\n"
     ]
    },
    {
     "name": "stdout",
     "output_type": "stream",
     "text": [
      "+1/-1 ratrio:0.48/0.52\n",
      "+1 features max:1.06\t min:0.26\t mean:0.54\t median 0.40\n",
      "-1 features max:4.52\t min:0.79\t mean:1.82\t median 1.80\n",
      "Feature = 0\tThreshold = 0.788219\tPolorization = 1\n",
      "Epoch-25\t Train loss: 2.3448e-02\t Valid loss: 1.7273e-01\t Valid error: 0.0476\n",
      "new model saved\n",
      "Epoch  26  training\n"
     ]
    },
    {
     "name": "stderr",
     "output_type": "stream",
     "text": [
      "100%|█████████████████████████████████████████████| 2/2 [00:00<00:00,  3.61it/s]\n"
     ]
    },
    {
     "name": "stdout",
     "output_type": "stream",
     "text": [
      "Epoch  26  validating\n"
     ]
    },
    {
     "name": "stderr",
     "output_type": "stream",
     "text": [
      "100%|███████████████████████████████████████████| 21/21 [00:00<00:00, 60.73it/s]\n"
     ]
    },
    {
     "name": "stdout",
     "output_type": "stream",
     "text": [
      "+1/-1 ratrio:0.48/0.52\n",
      "+1 features max:1.06\t min:0.25\t mean:0.54\t median 0.39\n",
      "-1 features max:4.52\t min:0.79\t mean:1.81\t median 1.79\n",
      "Feature = 0\tThreshold = 0.792113\tPolorization = 1\n",
      "Epoch-26\t Train loss: 1.8819e-02\t Valid loss: 1.7011e-01\t Valid error: 0.0476\n",
      "new model saved\n",
      "Epoch  27  training\n"
     ]
    },
    {
     "name": "stderr",
     "output_type": "stream",
     "text": [
      "100%|█████████████████████████████████████████████| 2/2 [00:00<00:00,  3.67it/s]\n"
     ]
    },
    {
     "name": "stdout",
     "output_type": "stream",
     "text": [
      "Epoch  27  validating\n"
     ]
    },
    {
     "name": "stderr",
     "output_type": "stream",
     "text": [
      "100%|███████████████████████████████████████████| 21/21 [00:00<00:00, 59.22it/s]\n"
     ]
    },
    {
     "name": "stdout",
     "output_type": "stream",
     "text": [
      "+1/-1 ratrio:0.48/0.52\n",
      "+1 features max:1.06\t min:0.25\t mean:0.53\t median 0.38\n",
      "-1 features max:4.49\t min:0.80\t mean:1.80\t median 1.80\n",
      "Feature = 0\tThreshold = 0.795631\tPolorization = 1\n",
      "Epoch-27\t Train loss: 1.9539e-02\t Valid loss: 1.6694e-01\t Valid error: 0.0476\n",
      "new model saved\n",
      "Epoch  28  training\n"
     ]
    },
    {
     "name": "stderr",
     "output_type": "stream",
     "text": [
      "100%|█████████████████████████████████████████████| 2/2 [00:00<00:00,  3.72it/s]\n"
     ]
    },
    {
     "name": "stdout",
     "output_type": "stream",
     "text": [
      "Epoch  28  validating\n"
     ]
    },
    {
     "name": "stderr",
     "output_type": "stream",
     "text": [
      "100%|███████████████████████████████████████████| 21/21 [00:00<00:00, 57.33it/s]\n"
     ]
    },
    {
     "name": "stdout",
     "output_type": "stream",
     "text": [
      "+1/-1 ratrio:0.48/0.52\n",
      "+1 features max:1.05\t min:0.25\t mean:0.53\t median 0.38\n",
      "-1 features max:4.42\t min:0.80\t mean:1.79\t median 1.76\n",
      "Feature = 0\tThreshold = 0.789720\tPolorization = 1\n",
      "Epoch-28\t Train loss: 1.7185e-02\t Valid loss: 1.6394e-01\t Valid error: 0.0476\n",
      "new model saved\n",
      "Epoch  29  training\n"
     ]
    },
    {
     "name": "stderr",
     "output_type": "stream",
     "text": [
      "100%|█████████████████████████████████████████████| 2/2 [00:00<00:00,  3.73it/s]\n"
     ]
    },
    {
     "name": "stdout",
     "output_type": "stream",
     "text": [
      "Epoch  29  validating\n"
     ]
    },
    {
     "name": "stderr",
     "output_type": "stream",
     "text": [
      "100%|███████████████████████████████████████████| 21/21 [00:00<00:00, 56.07it/s]\n"
     ]
    },
    {
     "name": "stdout",
     "output_type": "stream",
     "text": [
      "+1/-1 ratrio:0.48/0.52\n",
      "+1 features max:1.05\t min:0.26\t mean:0.52\t median 0.39\n",
      "-1 features max:4.34\t min:0.80\t mean:1.77\t median 1.71\n",
      "Feature = 0\tThreshold = 0.777202\tPolorization = 1\n",
      "Epoch-29\t Train loss: 2.4451e-02\t Valid loss: 1.6068e-01\t Valid error: 0.0476\n",
      "new model saved\n",
      "Epoch  30  training\n"
     ]
    },
    {
     "name": "stderr",
     "output_type": "stream",
     "text": [
      "100%|█████████████████████████████████████████████| 2/2 [00:00<00:00,  3.63it/s]\n"
     ]
    },
    {
     "name": "stdout",
     "output_type": "stream",
     "text": [
      "Epoch  30  validating\n"
     ]
    },
    {
     "name": "stderr",
     "output_type": "stream",
     "text": [
      "100%|███████████████████████████████████████████| 21/21 [00:00<00:00, 58.83it/s]\n"
     ]
    },
    {
     "name": "stdout",
     "output_type": "stream",
     "text": [
      "+1/-1 ratrio:0.48/0.52\n",
      "+1 features max:1.04\t min:0.26\t mean:0.52\t median 0.39\n",
      "-1 features max:4.30\t min:0.79\t mean:1.77\t median 1.68\n",
      "Feature = 0\tThreshold = 0.770048\tPolorization = 1\n",
      "Epoch-30\t Train loss: 1.5505e-02\t Valid loss: 1.5860e-01\t Valid error: 0.0476\n",
      "new model saved\n",
      "Epoch  31  training\n"
     ]
    },
    {
     "name": "stderr",
     "output_type": "stream",
     "text": [
      "100%|█████████████████████████████████████████████| 2/2 [00:00<00:00,  3.67it/s]\n"
     ]
    },
    {
     "name": "stdout",
     "output_type": "stream",
     "text": [
      "Epoch  31  validating\n"
     ]
    },
    {
     "name": "stderr",
     "output_type": "stream",
     "text": [
      "100%|███████████████████████████████████████████| 21/21 [00:00<00:00, 59.42it/s]\n"
     ]
    },
    {
     "name": "stdout",
     "output_type": "stream",
     "text": [
      "+1/-1 ratrio:0.48/0.52\n",
      "+1 features max:1.04\t min:0.26\t mean:0.52\t median 0.39\n",
      "-1 features max:4.28\t min:0.79\t mean:1.76\t median 1.67\n",
      "Feature = 0\tThreshold = 0.763552\tPolorization = 1\n",
      "Epoch-31\t Train loss: 1.8601e-02\t Valid loss: 1.5639e-01\t Valid error: 0.0476\n",
      "new model saved\n",
      "Epoch  32  training\n"
     ]
    },
    {
     "name": "stderr",
     "output_type": "stream",
     "text": [
      "100%|█████████████████████████████████████████████| 2/2 [00:00<00:00,  3.67it/s]\n"
     ]
    },
    {
     "name": "stdout",
     "output_type": "stream",
     "text": [
      "Epoch  32  validating\n"
     ]
    },
    {
     "name": "stderr",
     "output_type": "stream",
     "text": [
      "100%|███████████████████████████████████████████| 21/21 [00:00<00:00, 59.05it/s]\n"
     ]
    },
    {
     "name": "stdout",
     "output_type": "stream",
     "text": [
      "+1/-1 ratrio:0.48/0.52\n",
      "+1 features max:1.03\t min:0.25\t mean:0.51\t median 0.39\n",
      "-1 features max:4.26\t min:0.78\t mean:1.75\t median 1.65\n",
      "Feature = 0\tThreshold = 0.758362\tPolorization = 1\n",
      "Epoch-32\t Train loss: 1.3523e-02\t Valid loss: 1.5418e-01\t Valid error: 0.0476\n",
      "new model saved\n",
      "Epoch  33  training\n"
     ]
    },
    {
     "name": "stderr",
     "output_type": "stream",
     "text": [
      "100%|█████████████████████████████████████████████| 2/2 [00:00<00:00,  3.59it/s]\n"
     ]
    },
    {
     "name": "stdout",
     "output_type": "stream",
     "text": [
      "Epoch  33  validating\n"
     ]
    },
    {
     "name": "stderr",
     "output_type": "stream",
     "text": [
      "100%|███████████████████████████████████████████| 21/21 [00:00<00:00, 58.81it/s]\n"
     ]
    },
    {
     "name": "stdout",
     "output_type": "stream",
     "text": [
      "+1/-1 ratrio:0.48/0.52\n",
      "+1 features max:1.02\t min:0.25\t mean:0.51\t median 0.38\n",
      "-1 features max:4.25\t min:0.77\t mean:1.75\t median 1.64\n",
      "Feature = 0\tThreshold = 0.753613\tPolorization = 1\n",
      "Epoch-33\t Train loss: 8.9992e-03\t Valid loss: 1.5231e-01\t Valid error: 0.0476\n",
      "new model saved\n",
      "Epoch  34  training\n"
     ]
    },
    {
     "name": "stderr",
     "output_type": "stream",
     "text": [
      "100%|█████████████████████████████████████████████| 2/2 [00:00<00:00,  3.57it/s]\n"
     ]
    },
    {
     "name": "stdout",
     "output_type": "stream",
     "text": [
      "Epoch  34  validating\n"
     ]
    },
    {
     "name": "stderr",
     "output_type": "stream",
     "text": [
      "100%|███████████████████████████████████████████| 21/21 [00:00<00:00, 60.11it/s]\n"
     ]
    },
    {
     "name": "stdout",
     "output_type": "stream",
     "text": [
      "+1/-1 ratrio:0.48/0.52\n",
      "+1 features max:1.01\t min:0.25\t mean:0.50\t median 0.38\n",
      "-1 features max:4.27\t min:0.76\t mean:1.74\t median 1.64\n",
      "Feature = 0\tThreshold = 0.747917\tPolorization = 1\n",
      "Epoch-34\t Train loss: 1.4026e-02\t Valid loss: 1.5050e-01\t Valid error: 0.0476\n",
      "new model saved\n",
      "Epoch  35  training\n"
     ]
    },
    {
     "name": "stderr",
     "output_type": "stream",
     "text": [
      "100%|█████████████████████████████████████████████| 2/2 [00:00<00:00,  3.62it/s]\n"
     ]
    },
    {
     "name": "stdout",
     "output_type": "stream",
     "text": [
      "Epoch  35  validating\n"
     ]
    },
    {
     "name": "stderr",
     "output_type": "stream",
     "text": [
      "100%|███████████████████████████████████████████| 21/21 [00:00<00:00, 62.26it/s]\n"
     ]
    },
    {
     "name": "stdout",
     "output_type": "stream",
     "text": [
      "+1/-1 ratrio:0.48/0.52\n",
      "+1 features max:1.02\t min:0.26\t mean:0.50\t median 0.37\n",
      "-1 features max:4.31\t min:0.75\t mean:1.74\t median 1.64\n",
      "Feature = 0\tThreshold = 0.744549\tPolorization = 1\n",
      "Epoch-35\t Train loss: 9.6773e-03\t Valid loss: 1.4913e-01\t Valid error: 0.0476\n",
      "new model saved\n",
      "Epoch  36  training\n"
     ]
    },
    {
     "name": "stderr",
     "output_type": "stream",
     "text": [
      "100%|█████████████████████████████████████████████| 2/2 [00:00<00:00,  3.54it/s]\n"
     ]
    },
    {
     "name": "stdout",
     "output_type": "stream",
     "text": [
      "Epoch  36  validating\n"
     ]
    },
    {
     "name": "stderr",
     "output_type": "stream",
     "text": [
      "100%|███████████████████████████████████████████| 21/21 [00:00<00:00, 60.14it/s]\n"
     ]
    },
    {
     "name": "stdout",
     "output_type": "stream",
     "text": [
      "+1/-1 ratrio:0.48/0.52\n",
      "+1 features max:1.02\t min:0.26\t mean:0.50\t median 0.37\n",
      "-1 features max:4.36\t min:0.74\t mean:1.75\t median 1.65\n",
      "Feature = 0\tThreshold = 0.726508\tPolorization = 1\n",
      "Epoch-36\t Train loss: 7.6289e-03\t Valid loss: 1.4844e-01\t Valid error: 0.0952\n",
      "new model saved\n",
      "Epoch  37  training\n"
     ]
    },
    {
     "name": "stderr",
     "output_type": "stream",
     "text": [
      "100%|█████████████████████████████████████████████| 2/2 [00:00<00:00,  3.61it/s]\n"
     ]
    },
    {
     "name": "stdout",
     "output_type": "stream",
     "text": [
      "Epoch  37  validating\n"
     ]
    },
    {
     "name": "stderr",
     "output_type": "stream",
     "text": [
      "100%|███████████████████████████████████████████| 21/21 [00:00<00:00, 59.07it/s]\n"
     ]
    },
    {
     "name": "stdout",
     "output_type": "stream",
     "text": [
      "+1/-1 ratrio:0.48/0.52\n",
      "+1 features max:1.03\t min:0.26\t mean:0.50\t median 0.37\n",
      "-1 features max:4.39\t min:0.74\t mean:1.75\t median 1.66\n",
      "Feature = 0\tThreshold = 0.718021\tPolorization = 1\n",
      "Epoch-37\t Train loss: 5.8070e-03\t Valid loss: 1.4794e-01\t Valid error: 0.0952\n",
      "new model saved\n",
      "Epoch  38  training\n"
     ]
    },
    {
     "name": "stderr",
     "output_type": "stream",
     "text": [
      "100%|█████████████████████████████████████████████| 2/2 [00:00<00:00,  3.69it/s]\n"
     ]
    },
    {
     "name": "stdout",
     "output_type": "stream",
     "text": [
      "Epoch  38  validating\n"
     ]
    },
    {
     "name": "stderr",
     "output_type": "stream",
     "text": [
      "100%|███████████████████████████████████████████| 21/21 [00:00<00:00, 55.73it/s]\n"
     ]
    },
    {
     "name": "stdout",
     "output_type": "stream",
     "text": [
      "+1/-1 ratrio:0.48/0.52\n",
      "+1 features max:1.03\t min:0.26\t mean:0.50\t median 0.36\n",
      "-1 features max:4.41\t min:0.74\t mean:1.75\t median 1.66\n",
      "Feature = 0\tThreshold = 0.712636\tPolorization = 1\n",
      "Epoch-38\t Train loss: 6.4308e-03\t Valid loss: 1.4777e-01\t Valid error: 0.0952\n",
      "new model saved\n",
      "Epoch  39  training\n"
     ]
    },
    {
     "name": "stderr",
     "output_type": "stream",
     "text": [
      "100%|█████████████████████████████████████████████| 2/2 [00:00<00:00,  3.72it/s]\n"
     ]
    },
    {
     "name": "stdout",
     "output_type": "stream",
     "text": [
      "Epoch  39  validating\n"
     ]
    },
    {
     "name": "stderr",
     "output_type": "stream",
     "text": [
      "100%|███████████████████████████████████████████| 21/21 [00:00<00:00, 56.39it/s]\n"
     ]
    },
    {
     "name": "stdout",
     "output_type": "stream",
     "text": [
      "+1/-1 ratrio:0.48/0.52\n",
      "+1 features max:1.03\t min:0.25\t mean:0.49\t median 0.36\n",
      "-1 features max:4.40\t min:0.74\t mean:1.75\t median 1.66\n",
      "Feature = 0\tThreshold = 0.709857\tPolorization = 1\n",
      "Epoch-39\t Train loss: 7.3336e-03\t Valid loss: 1.4710e-01\t Valid error: 0.0952\n",
      "new model saved\n",
      "Epoch  40  training\n"
     ]
    },
    {
     "name": "stderr",
     "output_type": "stream",
     "text": [
      "100%|█████████████████████████████████████████████| 2/2 [00:00<00:00,  3.53it/s]\n"
     ]
    },
    {
     "name": "stdout",
     "output_type": "stream",
     "text": [
      "Epoch  40  validating\n"
     ]
    },
    {
     "name": "stderr",
     "output_type": "stream",
     "text": [
      "100%|███████████████████████████████████████████| 21/21 [00:00<00:00, 55.68it/s]\n"
     ]
    },
    {
     "name": "stdout",
     "output_type": "stream",
     "text": [
      "+1/-1 ratrio:0.48/0.52\n",
      "+1 features max:1.03\t min:0.25\t mean:0.49\t median 0.36\n",
      "-1 features max:4.36\t min:0.75\t mean:1.75\t median 1.65\n",
      "Feature = 0\tThreshold = 0.708772\tPolorization = 1\n",
      "Epoch-40\t Train loss: 8.6463e-03\t Valid loss: 1.4600e-01\t Valid error: 0.0952\n",
      "new model saved\n",
      "Epoch  41  training\n"
     ]
    },
    {
     "name": "stderr",
     "output_type": "stream",
     "text": [
      "100%|█████████████████████████████████████████████| 2/2 [00:00<00:00,  3.52it/s]\n"
     ]
    },
    {
     "name": "stdout",
     "output_type": "stream",
     "text": [
      "Epoch  41  validating\n"
     ]
    },
    {
     "name": "stderr",
     "output_type": "stream",
     "text": [
      "100%|███████████████████████████████████████████| 21/21 [00:00<00:00, 61.10it/s]\n"
     ]
    },
    {
     "name": "stdout",
     "output_type": "stream",
     "text": [
      "+1/-1 ratrio:0.48/0.52\n",
      "+1 features max:1.02\t min:0.25\t mean:0.49\t median 0.36\n",
      "-1 features max:4.31\t min:0.76\t mean:1.74\t median 1.64\n",
      "Feature = 0\tThreshold = 0.711743\tPolorization = 1\n",
      "Epoch-41\t Train loss: 1.1202e-02\t Valid loss: 1.4485e-01\t Valid error: 0.0952\n",
      "new model saved\n",
      "Epoch  42  training\n"
     ]
    },
    {
     "name": "stderr",
     "output_type": "stream",
     "text": [
      "100%|█████████████████████████████████████████████| 2/2 [00:00<00:00,  3.68it/s]\n"
     ]
    },
    {
     "name": "stdout",
     "output_type": "stream",
     "text": [
      "Epoch  42  validating\n"
     ]
    },
    {
     "name": "stderr",
     "output_type": "stream",
     "text": [
      "100%|███████████████████████████████████████████| 21/21 [00:00<00:00, 58.28it/s]\n"
     ]
    },
    {
     "name": "stdout",
     "output_type": "stream",
     "text": [
      "+1/-1 ratrio:0.48/0.52\n",
      "+1 features max:1.01\t min:0.25\t mean:0.49\t median 0.36\n",
      "-1 features max:4.27\t min:0.76\t mean:1.73\t median 1.64\n",
      "Feature = 0\tThreshold = 0.755858\tPolorization = 1\n",
      "Epoch-42\t Train loss: 7.1331e-03\t Valid loss: 1.4353e-01\t Valid error: 0.0476\n",
      "new model saved\n",
      "Epoch  43  training\n"
     ]
    },
    {
     "name": "stderr",
     "output_type": "stream",
     "text": [
      "100%|█████████████████████████████████████████████| 2/2 [00:00<00:00,  3.54it/s]\n"
     ]
    },
    {
     "name": "stdout",
     "output_type": "stream",
     "text": [
      "Epoch  43  validating\n"
     ]
    },
    {
     "name": "stderr",
     "output_type": "stream",
     "text": [
      "100%|███████████████████████████████████████████| 21/21 [00:00<00:00, 57.84it/s]\n"
     ]
    },
    {
     "name": "stdout",
     "output_type": "stream",
     "text": [
      "+1/-1 ratrio:0.48/0.52\n",
      "+1 features max:1.01\t min:0.24\t mean:0.49\t median 0.36\n",
      "-1 features max:4.26\t min:0.76\t mean:1.73\t median 1.64\n",
      "Feature = 0\tThreshold = 0.749764\tPolorization = 1\n",
      "Epoch-43\t Train loss: 5.2240e-03\t Valid loss: 1.4203e-01\t Valid error: 0.0476\n",
      "new model saved\n",
      "Epoch  44  training\n"
     ]
    },
    {
     "name": "stderr",
     "output_type": "stream",
     "text": [
      "100%|█████████████████████████████████████████████| 2/2 [00:00<00:00,  3.49it/s]\n"
     ]
    },
    {
     "name": "stdout",
     "output_type": "stream",
     "text": [
      "Epoch  44  validating\n"
     ]
    },
    {
     "name": "stderr",
     "output_type": "stream",
     "text": [
      "100%|███████████████████████████████████████████| 21/21 [00:00<00:00, 58.51it/s]\n"
     ]
    },
    {
     "name": "stdout",
     "output_type": "stream",
     "text": [
      "+1/-1 ratrio:0.48/0.52\n",
      "+1 features max:1.00\t min:0.24\t mean:0.49\t median 0.36\n",
      "-1 features max:4.24\t min:0.76\t mean:1.73\t median 1.65\n",
      "Feature = 0\tThreshold = 0.743703\tPolorization = 1\n",
      "Epoch-44\t Train loss: 9.2132e-03\t Valid loss: 1.4118e-01\t Valid error: 0.0476\n",
      "new model saved\n",
      "Epoch  45  training\n"
     ]
    },
    {
     "name": "stderr",
     "output_type": "stream",
     "text": [
      "100%|█████████████████████████████████████████████| 2/2 [00:00<00:00,  3.58it/s]\n"
     ]
    },
    {
     "name": "stdout",
     "output_type": "stream",
     "text": [
      "Epoch  45  validating\n"
     ]
    },
    {
     "name": "stderr",
     "output_type": "stream",
     "text": [
      "100%|███████████████████████████████████████████| 21/21 [00:00<00:00, 61.99it/s]\n"
     ]
    },
    {
     "name": "stdout",
     "output_type": "stream",
     "text": [
      "+1/-1 ratrio:0.48/0.52\n",
      "+1 features max:1.00\t min:0.24\t mean:0.49\t median 0.36\n",
      "-1 features max:4.23\t min:0.76\t mean:1.73\t median 1.65\n",
      "Feature = 0\tThreshold = 0.741213\tPolorization = 1\n",
      "Epoch-45\t Train loss: 6.3829e-03\t Valid loss: 1.4081e-01\t Valid error: 0.0476\n",
      "new model saved\n",
      "Epoch  46  training\n"
     ]
    },
    {
     "name": "stderr",
     "output_type": "stream",
     "text": [
      "100%|█████████████████████████████████████████████| 2/2 [00:00<00:00,  3.64it/s]\n"
     ]
    },
    {
     "name": "stdout",
     "output_type": "stream",
     "text": [
      "Epoch  46  validating\n"
     ]
    },
    {
     "name": "stderr",
     "output_type": "stream",
     "text": [
      "100%|███████████████████████████████████████████| 21/21 [00:00<00:00, 58.19it/s]\n"
     ]
    },
    {
     "name": "stdout",
     "output_type": "stream",
     "text": [
      "+1/-1 ratrio:0.48/0.52\n",
      "+1 features max:1.00\t min:0.24\t mean:0.49\t median 0.36\n",
      "-1 features max:4.22\t min:0.76\t mean:1.72\t median 1.65\n",
      "Feature = 0\tThreshold = 0.739059\tPolorization = 1\n",
      "Epoch-46\t Train loss: 6.0695e-03\t Valid loss: 1.4046e-01\t Valid error: 0.0476\n",
      "new model saved\n",
      "Epoch  47  training\n"
     ]
    },
    {
     "name": "stderr",
     "output_type": "stream",
     "text": [
      "100%|█████████████████████████████████████████████| 2/2 [00:00<00:00,  3.71it/s]\n"
     ]
    },
    {
     "name": "stdout",
     "output_type": "stream",
     "text": [
      "Epoch  47  validating\n"
     ]
    },
    {
     "name": "stderr",
     "output_type": "stream",
     "text": [
      "100%|███████████████████████████████████████████| 21/21 [00:00<00:00, 55.31it/s]\n"
     ]
    },
    {
     "name": "stdout",
     "output_type": "stream",
     "text": [
      "+1/-1 ratrio:0.48/0.52\n",
      "+1 features max:1.00\t min:0.24\t mean:0.48\t median 0.36\n",
      "-1 features max:4.21\t min:0.76\t mean:1.72\t median 1.65\n",
      "Feature = 0\tThreshold = 0.736727\tPolorization = 1\n",
      "Epoch-47\t Train loss: 3.8715e-03\t Valid loss: 1.4003e-01\t Valid error: 0.0476\n",
      "new model saved\n",
      "Epoch  48  training\n"
     ]
    },
    {
     "name": "stderr",
     "output_type": "stream",
     "text": [
      "100%|█████████████████████████████████████████████| 2/2 [00:00<00:00,  3.50it/s]\n"
     ]
    },
    {
     "name": "stdout",
     "output_type": "stream",
     "text": [
      "Epoch  48  validating\n"
     ]
    },
    {
     "name": "stderr",
     "output_type": "stream",
     "text": [
      "100%|███████████████████████████████████████████| 21/21 [00:00<00:00, 58.55it/s]\n"
     ]
    },
    {
     "name": "stdout",
     "output_type": "stream",
     "text": [
      "+1/-1 ratrio:0.48/0.52\n",
      "+1 features max:1.00\t min:0.24\t mean:0.48\t median 0.35\n",
      "-1 features max:4.21\t min:0.76\t mean:1.72\t median 1.65\n",
      "Feature = 0\tThreshold = 0.734436\tPolorization = 1\n",
      "Epoch-48\t Train loss: 1.0198e-02\t Valid loss: 1.3932e-01\t Valid error: 0.0476\n",
      "new model saved\n",
      "Epoch  49  training\n"
     ]
    },
    {
     "name": "stderr",
     "output_type": "stream",
     "text": [
      "100%|█████████████████████████████████████████████| 2/2 [00:00<00:00,  3.50it/s]\n"
     ]
    },
    {
     "name": "stdout",
     "output_type": "stream",
     "text": [
      "Epoch  49  validating\n"
     ]
    },
    {
     "name": "stderr",
     "output_type": "stream",
     "text": [
      "100%|███████████████████████████████████████████| 21/21 [00:00<00:00, 58.89it/s]\n"
     ]
    },
    {
     "name": "stdout",
     "output_type": "stream",
     "text": [
      "+1/-1 ratrio:0.48/0.52\n",
      "+1 features max:1.00\t min:0.24\t mean:0.48\t median 0.36\n",
      "-1 features max:4.22\t min:0.76\t mean:1.72\t median 1.65\n",
      "Feature = 0\tThreshold = 0.733304\tPolorization = 1\n",
      "Epoch-49\t Train loss: 6.2787e-03\t Valid loss: 1.3886e-01\t Valid error: 0.0476\n",
      "new model saved\n",
      "Epoch  50  training\n"
     ]
    },
    {
     "name": "stderr",
     "output_type": "stream",
     "text": [
      "100%|█████████████████████████████████████████████| 2/2 [00:00<00:00,  3.50it/s]\n"
     ]
    },
    {
     "name": "stdout",
     "output_type": "stream",
     "text": [
      "Epoch  50  validating\n"
     ]
    },
    {
     "name": "stderr",
     "output_type": "stream",
     "text": [
      "100%|███████████████████████████████████████████| 21/21 [00:00<00:00, 54.03it/s]\n"
     ]
    },
    {
     "name": "stdout",
     "output_type": "stream",
     "text": [
      "+1/-1 ratrio:0.48/0.52\n",
      "+1 features max:1.00\t min:0.24\t mean:0.48\t median 0.36\n",
      "-1 features max:4.22\t min:0.75\t mean:1.72\t median 1.65\n",
      "Feature = 0\tThreshold = 0.732333\tPolorization = 1\n",
      "Epoch-50\t Train loss: 5.5816e-03\t Valid loss: 1.3850e-01\t Valid error: 0.0476\n",
      "new model saved\n",
      "Epoch  51  training\n"
     ]
    },
    {
     "name": "stderr",
     "output_type": "stream",
     "text": [
      "100%|█████████████████████████████████████████████| 2/2 [00:00<00:00,  3.59it/s]\n"
     ]
    },
    {
     "name": "stdout",
     "output_type": "stream",
     "text": [
      "Epoch  51  validating\n"
     ]
    },
    {
     "name": "stderr",
     "output_type": "stream",
     "text": [
      "100%|███████████████████████████████████████████| 21/21 [00:00<00:00, 56.06it/s]\n"
     ]
    },
    {
     "name": "stdout",
     "output_type": "stream",
     "text": [
      "+1/-1 ratrio:0.48/0.52\n",
      "+1 features max:1.00\t min:0.24\t mean:0.48\t median 0.35\n",
      "-1 features max:4.24\t min:0.75\t mean:1.72\t median 1.64\n",
      "Feature = 0\tThreshold = 0.731140\tPolorization = 1\n",
      "Epoch-51\t Train loss: 1.0012e-02\t Valid loss: 1.3825e-01\t Valid error: 0.0476\n",
      "new model saved\n",
      "Epoch  52  training\n"
     ]
    },
    {
     "name": "stderr",
     "output_type": "stream",
     "text": [
      "100%|█████████████████████████████████████████████| 2/2 [00:00<00:00,  3.59it/s]\n"
     ]
    },
    {
     "name": "stdout",
     "output_type": "stream",
     "text": [
      "Epoch  52  validating\n"
     ]
    },
    {
     "name": "stderr",
     "output_type": "stream",
     "text": [
      "100%|███████████████████████████████████████████| 21/21 [00:00<00:00, 58.34it/s]\n"
     ]
    },
    {
     "name": "stdout",
     "output_type": "stream",
     "text": [
      "+1/-1 ratrio:0.48/0.52\n",
      "+1 features max:1.00\t min:0.24\t mean:0.48\t median 0.36\n",
      "-1 features max:4.24\t min:0.75\t mean:1.72\t median 1.64\n",
      "Feature = 0\tThreshold = 0.730070\tPolorization = 1\n",
      "Epoch-52\t Train loss: 8.2408e-03\t Valid loss: 1.3802e-01\t Valid error: 0.0476\n",
      "new model saved\n",
      "Epoch  53  training\n"
     ]
    },
    {
     "name": "stderr",
     "output_type": "stream",
     "text": [
      "100%|█████████████████████████████████████████████| 2/2 [00:00<00:00,  3.58it/s]\n"
     ]
    },
    {
     "name": "stdout",
     "output_type": "stream",
     "text": [
      "Epoch  53  validating\n"
     ]
    },
    {
     "name": "stderr",
     "output_type": "stream",
     "text": [
      "100%|███████████████████████████████████████████| 21/21 [00:00<00:00, 61.75it/s]\n"
     ]
    },
    {
     "name": "stdout",
     "output_type": "stream",
     "text": [
      "+1/-1 ratrio:0.48/0.52\n",
      "+1 features max:1.00\t min:0.23\t mean:0.48\t median 0.36\n",
      "-1 features max:4.25\t min:0.75\t mean:1.72\t median 1.64\n",
      "Feature = 0\tThreshold = 0.728256\tPolorization = 1\n",
      "Epoch-53\t Train loss: 9.4730e-03\t Valid loss: 1.3789e-01\t Valid error: 0.0476\n",
      "new model saved\n",
      "Epoch  54  training\n"
     ]
    },
    {
     "name": "stderr",
     "output_type": "stream",
     "text": [
      "100%|█████████████████████████████████████████████| 2/2 [00:00<00:00,  3.62it/s]\n"
     ]
    },
    {
     "name": "stdout",
     "output_type": "stream",
     "text": [
      "Epoch  54  validating\n"
     ]
    },
    {
     "name": "stderr",
     "output_type": "stream",
     "text": [
      "100%|███████████████████████████████████████████| 21/21 [00:00<00:00, 57.65it/s]\n"
     ]
    },
    {
     "name": "stdout",
     "output_type": "stream",
     "text": [
      "+1/-1 ratrio:0.48/0.52\n",
      "+1 features max:1.00\t min:0.23\t mean:0.48\t median 0.36\n",
      "-1 features max:4.24\t min:0.75\t mean:1.71\t median 1.63\n",
      "Feature = 0\tThreshold = 0.725622\tPolorization = 1\n",
      "Epoch-54\t Train loss: 1.3545e-02\t Valid loss: 1.3762e-01\t Valid error: 0.0476\n",
      "new model saved\n",
      "Epoch  55  training\n"
     ]
    },
    {
     "name": "stderr",
     "output_type": "stream",
     "text": [
      "100%|█████████████████████████████████████████████| 2/2 [00:00<00:00,  3.72it/s]\n"
     ]
    },
    {
     "name": "stdout",
     "output_type": "stream",
     "text": [
      "Epoch  55  validating\n"
     ]
    },
    {
     "name": "stderr",
     "output_type": "stream",
     "text": [
      "100%|███████████████████████████████████████████| 21/21 [00:00<00:00, 54.82it/s]\n"
     ]
    },
    {
     "name": "stdout",
     "output_type": "stream",
     "text": [
      "+1/-1 ratrio:0.48/0.52\n",
      "+1 features max:1.00\t min:0.23\t mean:0.48\t median 0.36\n",
      "-1 features max:4.24\t min:0.75\t mean:1.71\t median 1.63\n",
      "Feature = 0\tThreshold = 0.723163\tPolorization = 1\n",
      "Epoch-55\t Train loss: 9.4520e-03\t Valid loss: 1.3756e-01\t Valid error: 0.0476\n",
      "new model saved\n",
      "Epoch  56  training\n"
     ]
    },
    {
     "name": "stderr",
     "output_type": "stream",
     "text": [
      "100%|█████████████████████████████████████████████| 2/2 [00:00<00:00,  3.51it/s]\n"
     ]
    },
    {
     "name": "stdout",
     "output_type": "stream",
     "text": [
      "Epoch  56  validating\n"
     ]
    },
    {
     "name": "stderr",
     "output_type": "stream",
     "text": [
      "100%|███████████████████████████████████████████| 21/21 [00:00<00:00, 59.01it/s]\n"
     ]
    },
    {
     "name": "stdout",
     "output_type": "stream",
     "text": [
      "+1/-1 ratrio:0.48/0.52\n",
      "+1 features max:1.00\t min:0.23\t mean:0.48\t median 0.36\n",
      "-1 features max:4.24\t min:0.74\t mean:1.71\t median 1.63\n",
      "Feature = 0\tThreshold = 0.721269\tPolorization = 1\n",
      "Epoch-56\t Train loss: 1.1117e-02\t Valid loss: 1.3754e-01\t Valid error: 0.0476\n",
      "new model saved\n",
      "Epoch  57  training\n"
     ]
    },
    {
     "name": "stderr",
     "output_type": "stream",
     "text": [
      "100%|█████████████████████████████████████████████| 2/2 [00:00<00:00,  3.51it/s]\n"
     ]
    },
    {
     "name": "stdout",
     "output_type": "stream",
     "text": [
      "Epoch  57  validating\n"
     ]
    },
    {
     "name": "stderr",
     "output_type": "stream",
     "text": [
      "100%|███████████████████████████████████████████| 21/21 [00:00<00:00, 57.88it/s]\n"
     ]
    },
    {
     "name": "stdout",
     "output_type": "stream",
     "text": [
      "+1/-1 ratrio:0.48/0.52\n",
      "+1 features max:1.00\t min:0.23\t mean:0.48\t median 0.35\n",
      "-1 features max:4.24\t min:0.74\t mean:1.71\t median 1.63\n",
      "Feature = 0\tThreshold = 0.720206\tPolorization = 1\n",
      "Epoch-57\t Train loss: 6.5530e-03\t Valid loss: 1.3733e-01\t Valid error: 0.0476\n",
      "new model saved\n",
      "Epoch  58  training\n"
     ]
    },
    {
     "name": "stderr",
     "output_type": "stream",
     "text": [
      "100%|█████████████████████████████████████████████| 2/2 [00:00<00:00,  3.56it/s]\n"
     ]
    },
    {
     "name": "stdout",
     "output_type": "stream",
     "text": [
      "Epoch  58  validating\n"
     ]
    },
    {
     "name": "stderr",
     "output_type": "stream",
     "text": [
      "100%|███████████████████████████████████████████| 21/21 [00:00<00:00, 58.11it/s]\n"
     ]
    },
    {
     "name": "stdout",
     "output_type": "stream",
     "text": [
      "+1/-1 ratrio:0.48/0.52\n",
      "+1 features max:1.00\t min:0.23\t mean:0.48\t median 0.35\n",
      "-1 features max:4.22\t min:0.74\t mean:1.71\t median 1.63\n",
      "Feature = 0\tThreshold = 0.720514\tPolorization = 1\n",
      "Epoch-58\t Train loss: 5.2923e-03\t Valid loss: 1.3694e-01\t Valid error: 0.0476\n",
      "new model saved\n",
      "Epoch  59  training\n"
     ]
    },
    {
     "name": "stderr",
     "output_type": "stream",
     "text": [
      "100%|█████████████████████████████████████████████| 2/2 [00:00<00:00,  3.59it/s]\n"
     ]
    },
    {
     "name": "stdout",
     "output_type": "stream",
     "text": [
      "Epoch  59  validating\n"
     ]
    },
    {
     "name": "stderr",
     "output_type": "stream",
     "text": [
      "100%|███████████████████████████████████████████| 21/21 [00:00<00:00, 59.22it/s]\n"
     ]
    },
    {
     "name": "stdout",
     "output_type": "stream",
     "text": [
      "+1/-1 ratrio:0.48/0.52\n",
      "+1 features max:0.99\t min:0.23\t mean:0.48\t median 0.35\n",
      "-1 features max:4.21\t min:0.75\t mean:1.71\t median 1.63\n",
      "Feature = 0\tThreshold = 0.721478\tPolorization = 1\n",
      "Epoch-59\t Train loss: 9.7523e-03\t Valid loss: 1.3637e-01\t Valid error: 0.0476\n",
      "new model saved\n"
     ]
    },
    {
     "data": {
      "image/png": "[encoded data removed]",
      "text/plain": [
       "<Figure size 432x288 with 1 Axes>"
      ]
     },
     "metadata": {
      "needs_background": "light"
     },
     "output_type": "display_data"
    }
   ],
   "source": [
    "# Split the dataset into train and validation sets\n",
    "siamese_dataset = SiameseNetworkDataset(config.compare_siamese_csv,\n",
    "                                        transform=transforms.Compose([\n",
    "                                            transforms.Resize((config.img_height,config.img_width)),\n",
    "                                            transforms.ToTensor(),\n",
    "                                            transforms.Normalize(0,1)]),\n",
    "                                        should_invert=False)\n",
    "\n",
    "num_train = round(0.9*siamese_dataset.__len__())\n",
    "num_validate = siamese_dataset.__len__()-num_train\n",
    "\n",
    "\n",
    "\n",
    "siamese_train, siamese_valid = random_split(siamese_dataset, [num_train,num_validate])\n",
    "\n",
    "siamese_train_dataloader = DataLoader(siamese_train,\n",
    "                        shuffle=True,\n",
    "                        num_workers=8,\n",
    "                        batch_size=config.train_batch_size)\n",
    "\n",
    "siamese_valid_dataloader = DataLoader(siamese_valid,\n",
    "                        shuffle=True,\n",
    "                        num_workers=8,\n",
    "                        batch_size=1)\n",
    "\n",
    "# Training\n",
    "netS = SiameseNetwork().cuda()\n",
    "criterionS = ContrastiveLoss()\n",
    "optimizer = optim.Adam(netS.parameters(),lr = config.learning_rate )\n",
    "scheduler = torch.optim.lr_scheduler.StepLR(optimizer,config.step_size, config.gamma)\n",
    "\n",
    "netS, train_loss_historyS, valid_loss_historyS,dict_nameS = trainSiamese(netS,criterionS,optimizer,scheduler,siamese_train_dataloader,\n",
    "             siamese_valid_dataloader,config.train_number_epochs,do_show=True)"
   ]
  },
  {
   "cell_type": "markdown",
   "metadata": {},
   "source": [
    "## Train CNN with Cross Entropy Loss"
   ]
  },
  {
   "cell_type": "code",
   "execution_count": 4,
   "metadata": {},
   "outputs": [],
   "source": [
    "cnn_dataset = CNNDataset(config.compare_cnn_csv,\n",
    "                                        transform=transforms.Compose([\n",
    "                                            transforms.Resize((config.img_height,config.img_width)),\n",
    "                                            transforms.ToTensor(),\n",
    "                                            transforms.Normalize(0,1)]),\n",
    "                                        should_invert=False)\n",
    "\n",
    "cnn_train_dataloader = DataLoader(cnn_dataset,\n",
    "                        shuffle=True,\n",
    "                        num_workers=8,\n",
    "                        batch_size=config.train_batch_size)\n",
    "\n",
    "netC = CNN().cuda()\n",
    "criterionC = CrossEntropyLoss()\n",
    "optimizer = optim.Adam(netC.parameters(),lr = config.learning_rate )\n",
    "scheduler = torch.optim.lr_scheduler.StepLR(optimizer,config.step_size, config.gamma)"
   ]
  },
  {
   "cell_type": "code",
   "execution_count": 5,
   "metadata": {},
   "outputs": [
    {
     "name": "stderr",
     "output_type": "stream",
     "text": [
      "100%|█████████████████████████████████████████████| 1/1 [00:00<00:00,  2.60it/s]\n"
     ]
    },
    {
     "name": "stdout",
     "output_type": "stream",
     "text": [
      "Epoch-0\t Train loss: 3.5828e+00\n"
     ]
    },
    {
     "name": "stderr",
     "output_type": "stream",
     "text": [
      "100%|█████████████████████████████████████████████| 1/1 [00:00<00:00,  2.66it/s]\n"
     ]
    },
    {
     "name": "stdout",
     "output_type": "stream",
     "text": [
      "Epoch-1\t Train loss: 1.0884e+00\n",
      "new model saved\n"
     ]
    },
    {
     "name": "stderr",
     "output_type": "stream",
     "text": [
      "100%|█████████████████████████████████████████████| 1/1 [00:00<00:00,  2.65it/s]\n"
     ]
    },
    {
     "name": "stdout",
     "output_type": "stream",
     "text": [
      "Epoch-2\t Train loss: 5.8030e-02\n",
      "new model saved\n"
     ]
    },
    {
     "name": "stderr",
     "output_type": "stream",
     "text": [
      "100%|█████████████████████████████████████████████| 1/1 [00:00<00:00,  2.57it/s]\n"
     ]
    },
    {
     "name": "stdout",
     "output_type": "stream",
     "text": [
      "Epoch-3\t Train loss: 3.5270e-03\n",
      "new model saved\n"
     ]
    },
    {
     "name": "stderr",
     "output_type": "stream",
     "text": [
      "100%|█████████████████████████████████████████████| 1/1 [00:00<00:00,  2.67it/s]\n"
     ]
    },
    {
     "name": "stdout",
     "output_type": "stream",
     "text": [
      "Epoch-4\t Train loss: 4.0699e-03\n"
     ]
    },
    {
     "name": "stderr",
     "output_type": "stream",
     "text": [
      "100%|█████████████████████████████████████████████| 1/1 [00:00<00:00,  2.66it/s]\n"
     ]
    },
    {
     "name": "stdout",
     "output_type": "stream",
     "text": [
      "Epoch-5\t Train loss: 8.5626e-04\n",
      "new model saved\n"
     ]
    },
    {
     "name": "stderr",
     "output_type": "stream",
     "text": [
      "100%|█████████████████████████████████████████████| 1/1 [00:00<00:00,  2.68it/s]\n"
     ]
    },
    {
     "name": "stdout",
     "output_type": "stream",
     "text": [
      "Epoch-6\t Train loss: 1.6172e-04\n",
      "new model saved\n"
     ]
    },
    {
     "name": "stderr",
     "output_type": "stream",
     "text": [
      "100%|█████████████████████████████████████████████| 1/1 [00:00<00:00,  2.63it/s]\n"
     ]
    },
    {
     "name": "stdout",
     "output_type": "stream",
     "text": [
      "Epoch-7\t Train loss: 1.1228e-04\n",
      "new model saved\n"
     ]
    },
    {
     "name": "stderr",
     "output_type": "stream",
     "text": [
      "100%|█████████████████████████████████████████████| 1/1 [00:00<00:00,  2.53it/s]\n"
     ]
    },
    {
     "name": "stdout",
     "output_type": "stream",
     "text": [
      "Epoch-8\t Train loss: 1.7847e-04\n"
     ]
    },
    {
     "name": "stderr",
     "output_type": "stream",
     "text": [
      "100%|█████████████████████████████████████████████| 1/1 [00:00<00:00,  2.80it/s]\n"
     ]
    },
    {
     "name": "stdout",
     "output_type": "stream",
     "text": [
      "Epoch-9\t Train loss: 1.1252e-04\n"
     ]
    },
    {
     "name": "stderr",
     "output_type": "stream",
     "text": [
      "100%|█████████████████████████████████████████████| 1/1 [00:00<00:00,  2.72it/s]\n"
     ]
    },
    {
     "name": "stdout",
     "output_type": "stream",
     "text": [
      "Epoch-10\t Train loss: 5.5559e-05\n",
      "new model saved\n"
     ]
    },
    {
     "name": "stderr",
     "output_type": "stream",
     "text": [
      "100%|█████████████████████████████████████████████| 1/1 [00:00<00:00,  2.69it/s]\n"
     ]
    },
    {
     "name": "stdout",
     "output_type": "stream",
     "text": [
      "Epoch-11\t Train loss: 4.2902e-05\n",
      "new model saved\n"
     ]
    },
    {
     "name": "stderr",
     "output_type": "stream",
     "text": [
      "100%|█████████████████████████████████████████████| 1/1 [00:00<00:00,  2.64it/s]\n"
     ]
    },
    {
     "name": "stdout",
     "output_type": "stream",
     "text": [
      "Epoch-12\t Train loss: 3.7386e-05\n",
      "new model saved\n"
     ]
    },
    {
     "name": "stderr",
     "output_type": "stream",
     "text": [
      "100%|█████████████████████████████████████████████| 1/1 [00:00<00:00,  2.66it/s]\n"
     ]
    },
    {
     "name": "stdout",
     "output_type": "stream",
     "text": [
      "Epoch-13\t Train loss: 3.4180e-05\n",
      "new model saved\n"
     ]
    },
    {
     "name": "stderr",
     "output_type": "stream",
     "text": [
      "100%|█████████████████████████████████████████████| 1/1 [00:00<00:00,  2.65it/s]\n"
     ]
    },
    {
     "name": "stdout",
     "output_type": "stream",
     "text": [
      "Epoch-14\t Train loss: 3.2754e-05\n",
      "new model saved\n"
     ]
    },
    {
     "name": "stderr",
     "output_type": "stream",
     "text": [
      "100%|█████████████████████████████████████████████| 1/1 [00:00<00:00,  2.71it/s]\n"
     ]
    },
    {
     "name": "stdout",
     "output_type": "stream",
     "text": [
      "Epoch-15\t Train loss: 2.9864e-05\n",
      "new model saved\n"
     ]
    },
    {
     "name": "stderr",
     "output_type": "stream",
     "text": [
      "100%|█████████████████████████████████████████████| 1/1 [00:00<00:00,  2.68it/s]\n"
     ]
    },
    {
     "name": "stdout",
     "output_type": "stream",
     "text": [
      "Epoch-16\t Train loss: 2.6817e-05\n",
      "new model saved\n"
     ]
    },
    {
     "name": "stderr",
     "output_type": "stream",
     "text": [
      "100%|█████████████████████████████████████████████| 1/1 [00:00<00:00,  2.68it/s]\n"
     ]
    },
    {
     "name": "stdout",
     "output_type": "stream",
     "text": [
      "Epoch-17\t Train loss: 2.2598e-05\n",
      "new model saved\n"
     ]
    },
    {
     "name": "stderr",
     "output_type": "stream",
     "text": [
      "100%|█████████████████████████████████████████████| 1/1 [00:00<00:00,  2.71it/s]\n"
     ]
    },
    {
     "name": "stdout",
     "output_type": "stream",
     "text": [
      "Epoch-18\t Train loss: 1.8068e-05\n",
      "new model saved\n"
     ]
    },
    {
     "name": "stderr",
     "output_type": "stream",
     "text": [
      "100%|█████████████████████████████████████████████| 1/1 [00:00<00:00,  2.71it/s]\n"
     ]
    },
    {
     "name": "stdout",
     "output_type": "stream",
     "text": [
      "Epoch-19\t Train loss: 1.3999e-05\n",
      "new model saved\n"
     ]
    },
    {
     "name": "stderr",
     "output_type": "stream",
     "text": [
      "100%|█████████████████████████████████████████████| 1/1 [00:00<00:00,  2.64it/s]\n"
     ]
    },
    {
     "name": "stdout",
     "output_type": "stream",
     "text": [
      "Epoch-20\t Train loss: 1.0702e-05\n",
      "new model saved\n"
     ]
    },
    {
     "name": "stderr",
     "output_type": "stream",
     "text": [
      "100%|█████████████████████████████████████████████| 1/1 [00:00<00:00,  2.63it/s]\n"
     ]
    },
    {
     "name": "stdout",
     "output_type": "stream",
     "text": [
      "Epoch-21\t Train loss: 8.1600e-06\n",
      "new model saved\n"
     ]
    },
    {
     "name": "stderr",
     "output_type": "stream",
     "text": [
      "100%|█████████████████████████████████████████████| 1/1 [00:00<00:00,  2.67it/s]\n"
     ]
    },
    {
     "name": "stdout",
     "output_type": "stream",
     "text": [
      "Epoch-22\t Train loss: 6.2586e-06\n",
      "new model saved\n"
     ]
    },
    {
     "name": "stderr",
     "output_type": "stream",
     "text": [
      "100%|█████████████████████████████████████████████| 1/1 [00:00<00:00,  2.70it/s]\n"
     ]
    },
    {
     "name": "stdout",
     "output_type": "stream",
     "text": [
      "Epoch-23\t Train loss: 4.8394e-06\n",
      "new model saved\n"
     ]
    },
    {
     "name": "stderr",
     "output_type": "stream",
     "text": [
      "100%|█████████████████████████████████████████████| 1/1 [00:00<00:00,  2.56it/s]\n"
     ]
    },
    {
     "name": "stdout",
     "output_type": "stream",
     "text": [
      "Epoch-24\t Train loss: 3.7956e-06\n",
      "new model saved\n"
     ]
    },
    {
     "name": "stderr",
     "output_type": "stream",
     "text": [
      "100%|█████████████████████████████████████████████| 1/1 [00:00<00:00,  2.59it/s]\n"
     ]
    },
    {
     "name": "stdout",
     "output_type": "stream",
     "text": [
      "Epoch-25\t Train loss: 3.0214e-06\n",
      "new model saved\n"
     ]
    },
    {
     "name": "stderr",
     "output_type": "stream",
     "text": [
      "100%|█████████████████████████████████████████████| 1/1 [00:00<00:00,  2.68it/s]\n"
     ]
    },
    {
     "name": "stdout",
     "output_type": "stream",
     "text": [
      "Epoch-26\t Train loss: 2.4487e-06\n",
      "new model saved\n"
     ]
    },
    {
     "name": "stderr",
     "output_type": "stream",
     "text": [
      "100%|█████████████████████████████████████████████| 1/1 [00:00<00:00,  2.61it/s]\n"
     ]
    },
    {
     "name": "stdout",
     "output_type": "stream",
     "text": [
      "Epoch-27\t Train loss: 2.0187e-06\n",
      "new model saved\n"
     ]
    },
    {
     "name": "stderr",
     "output_type": "stream",
     "text": [
      "100%|█████████████████████████████████████████████| 1/1 [00:00<00:00,  2.68it/s]\n"
     ]
    },
    {
     "name": "stdout",
     "output_type": "stream",
     "text": [
      "Epoch-28\t Train loss: 1.6923e-06\n",
      "new model saved\n"
     ]
    },
    {
     "name": "stderr",
     "output_type": "stream",
     "text": [
      "100%|█████████████████████████████████████████████| 1/1 [00:00<00:00,  2.74it/s]\n"
     ]
    },
    {
     "name": "stdout",
     "output_type": "stream",
     "text": [
      "Epoch-29\t Train loss: 1.4450e-06\n",
      "new model saved\n"
     ]
    },
    {
     "name": "stderr",
     "output_type": "stream",
     "text": [
      "100%|█████████████████████████████████████████████| 1/1 [00:00<00:00,  2.59it/s]\n"
     ]
    },
    {
     "name": "stdout",
     "output_type": "stream",
     "text": [
      "Epoch-30\t Train loss: 1.2556e-06\n",
      "new model saved\n"
     ]
    },
    {
     "name": "stderr",
     "output_type": "stream",
     "text": [
      "100%|█████████████████████████████████████████████| 1/1 [00:00<00:00,  2.45it/s]\n"
     ]
    },
    {
     "name": "stdout",
     "output_type": "stream",
     "text": [
      "Epoch-31\t Train loss: 1.1798e-06\n",
      "new model saved\n"
     ]
    },
    {
     "name": "stderr",
     "output_type": "stream",
     "text": [
      "100%|█████████████████████████████████████████████| 1/1 [00:00<00:00,  2.66it/s]\n"
     ]
    },
    {
     "name": "stdout",
     "output_type": "stream",
     "text": [
      "Epoch-32\t Train loss: 1.1074e-06\n",
      "new model saved\n"
     ]
    },
    {
     "name": "stderr",
     "output_type": "stream",
     "text": [
      "100%|█████████████████████████████████████████████| 1/1 [00:00<00:00,  2.62it/s]\n"
     ]
    },
    {
     "name": "stdout",
     "output_type": "stream",
     "text": [
      "Epoch-33\t Train loss: 1.0484e-06\n",
      "new model saved\n"
     ]
    },
    {
     "name": "stderr",
     "output_type": "stream",
     "text": [
      "100%|█████████████████████████████████████████████| 1/1 [00:00<00:00,  2.57it/s]\n"
     ]
    },
    {
     "name": "stdout",
     "output_type": "stream",
     "text": [
      "Epoch-34\t Train loss: 9.9377e-07\n",
      "new model saved\n"
     ]
    },
    {
     "name": "stderr",
     "output_type": "stream",
     "text": [
      "100%|█████████████████████████████████████████████| 1/1 [00:00<00:00,  2.67it/s]\n"
     ]
    },
    {
     "name": "stdout",
     "output_type": "stream",
     "text": [
      "Epoch-35\t Train loss: 9.5144e-07\n",
      "new model saved\n"
     ]
    },
    {
     "name": "stderr",
     "output_type": "stream",
     "text": [
      "100%|█████████████████████████████████████████████| 1/1 [00:00<00:00,  2.62it/s]\n"
     ]
    },
    {
     "name": "stdout",
     "output_type": "stream",
     "text": [
      "Epoch-36\t Train loss: 9.1022e-07\n",
      "new model saved\n"
     ]
    },
    {
     "name": "stderr",
     "output_type": "stream",
     "text": [
      "100%|█████████████████████████████████████████████| 1/1 [00:00<00:00,  2.65it/s]\n"
     ]
    },
    {
     "name": "stdout",
     "output_type": "stream",
     "text": [
      "Epoch-37\t Train loss: 8.7457e-07\n",
      "new model saved\n"
     ]
    },
    {
     "name": "stderr",
     "output_type": "stream",
     "text": [
      "100%|█████████████████████████████████████████████| 1/1 [00:00<00:00,  2.58it/s]\n"
     ]
    },
    {
     "name": "stdout",
     "output_type": "stream",
     "text": [
      "Epoch-38\t Train loss: 8.4449e-07\n",
      "new model saved\n"
     ]
    },
    {
     "name": "stderr",
     "output_type": "stream",
     "text": [
      "100%|█████████████████████████████████████████████| 1/1 [00:00<00:00,  2.60it/s]\n"
     ]
    },
    {
     "name": "stdout",
     "output_type": "stream",
     "text": [
      "Epoch-39\t Train loss: 8.1663e-07\n",
      "new model saved\n"
     ]
    },
    {
     "name": "stderr",
     "output_type": "stream",
     "text": [
      "100%|█████████████████████████████████████████████| 1/1 [00:00<00:00,  2.66it/s]\n"
     ]
    },
    {
     "name": "stdout",
     "output_type": "stream",
     "text": [
      "Epoch-40\t Train loss: 7.9435e-07\n",
      "new model saved\n"
     ]
    },
    {
     "name": "stderr",
     "output_type": "stream",
     "text": [
      "100%|█████████████████████████████████████████████| 1/1 [00:00<00:00,  2.63it/s]\n"
     ]
    },
    {
     "name": "stdout",
     "output_type": "stream",
     "text": [
      "Epoch-41\t Train loss: 7.6984e-07\n",
      "new model saved\n"
     ]
    },
    {
     "name": "stderr",
     "output_type": "stream",
     "text": [
      "100%|█████████████████████████████████████████████| 1/1 [00:00<00:00,  2.48it/s]\n"
     ]
    },
    {
     "name": "stdout",
     "output_type": "stream",
     "text": [
      "Epoch-42\t Train loss: 7.4756e-07\n",
      "new model saved\n"
     ]
    },
    {
     "name": "stderr",
     "output_type": "stream",
     "text": [
      "100%|█████████████████████████████████████████████| 1/1 [00:00<00:00,  2.60it/s]\n"
     ]
    },
    {
     "name": "stdout",
     "output_type": "stream",
     "text": [
      "Epoch-43\t Train loss: 7.2528e-07\n",
      "new model saved\n"
     ]
    },
    {
     "name": "stderr",
     "output_type": "stream",
     "text": [
      "100%|█████████████████████████████████████████████| 1/1 [00:00<00:00,  2.61it/s]\n"
     ]
    },
    {
     "name": "stdout",
     "output_type": "stream",
     "text": [
      "Epoch-44\t Train loss: 7.1080e-07\n",
      "new model saved\n"
     ]
    },
    {
     "name": "stderr",
     "output_type": "stream",
     "text": [
      "100%|█████████████████████████████████████████████| 1/1 [00:00<00:00,  2.52it/s]\n"
     ]
    },
    {
     "name": "stdout",
     "output_type": "stream",
     "text": [
      "Epoch-45\t Train loss: 6.9297e-07\n",
      "new model saved\n"
     ]
    },
    {
     "name": "stderr",
     "output_type": "stream",
     "text": [
      "100%|█████████████████████████████████████████████| 1/1 [00:00<00:00,  2.52it/s]\n"
     ]
    },
    {
     "name": "stdout",
     "output_type": "stream",
     "text": [
      "Epoch-46\t Train loss: 6.8406e-07\n",
      "new model saved\n"
     ]
    },
    {
     "name": "stderr",
     "output_type": "stream",
     "text": [
      "100%|█████████████████████████████████████████████| 1/1 [00:00<00:00,  2.61it/s]\n"
     ]
    },
    {
     "name": "stdout",
     "output_type": "stream",
     "text": [
      "Epoch-47\t Train loss: 6.7626e-07\n",
      "new model saved\n"
     ]
    },
    {
     "name": "stderr",
     "output_type": "stream",
     "text": [
      "100%|█████████████████████████████████████████████| 1/1 [00:00<00:00,  2.64it/s]\n"
     ]
    },
    {
     "name": "stdout",
     "output_type": "stream",
     "text": [
      "Epoch-48\t Train loss: 6.6957e-07\n",
      "new model saved\n"
     ]
    },
    {
     "name": "stderr",
     "output_type": "stream",
     "text": [
      "100%|█████████████████████████████████████████████| 1/1 [00:00<00:00,  2.58it/s]\n"
     ]
    },
    {
     "name": "stdout",
     "output_type": "stream",
     "text": [
      "Epoch-49\t Train loss: 6.6400e-07\n",
      "new model saved\n"
     ]
    },
    {
     "name": "stderr",
     "output_type": "stream",
     "text": [
      "100%|█████████████████████████████████████████████| 1/1 [00:00<00:00,  2.64it/s]\n"
     ]
    },
    {
     "name": "stdout",
     "output_type": "stream",
     "text": [
      "Epoch-50\t Train loss: 6.5732e-07\n",
      "new model saved\n"
     ]
    },
    {
     "name": "stderr",
     "output_type": "stream",
     "text": [
      "100%|█████████████████████████████████████████████| 1/1 [00:00<00:00,  2.55it/s]\n"
     ]
    },
    {
     "name": "stdout",
     "output_type": "stream",
     "text": [
      "Epoch-51\t Train loss: 6.5175e-07\n",
      "new model saved\n"
     ]
    },
    {
     "name": "stderr",
     "output_type": "stream",
     "text": [
      "100%|█████████████████████████████████████████████| 1/1 [00:00<00:00,  2.57it/s]\n"
     ]
    },
    {
     "name": "stdout",
     "output_type": "stream",
     "text": [
      "Epoch-52\t Train loss: 6.4618e-07\n",
      "new model saved\n"
     ]
    },
    {
     "name": "stderr",
     "output_type": "stream",
     "text": [
      "100%|█████████████████████████████████████████████| 1/1 [00:00<00:00,  2.62it/s]\n"
     ]
    },
    {
     "name": "stdout",
     "output_type": "stream",
     "text": [
      "Epoch-53\t Train loss: 6.3949e-07\n",
      "new model saved\n"
     ]
    },
    {
     "name": "stderr",
     "output_type": "stream",
     "text": [
      "100%|█████████████████████████████████████████████| 1/1 [00:00<00:00,  2.65it/s]\n"
     ]
    },
    {
     "name": "stdout",
     "output_type": "stream",
     "text": [
      "Epoch-54\t Train loss: 6.3504e-07\n",
      "new model saved\n"
     ]
    },
    {
     "name": "stderr",
     "output_type": "stream",
     "text": [
      "100%|█████████████████████████████████████████████| 1/1 [00:00<00:00,  2.59it/s]\n"
     ]
    },
    {
     "name": "stdout",
     "output_type": "stream",
     "text": [
      "Epoch-55\t Train loss: 6.3058e-07\n",
      "new model saved\n"
     ]
    },
    {
     "name": "stderr",
     "output_type": "stream",
     "text": [
      "100%|█████████████████████████████████████████████| 1/1 [00:00<00:00,  2.65it/s]\n"
     ]
    },
    {
     "name": "stdout",
     "output_type": "stream",
     "text": [
      "Epoch-56\t Train loss: 6.2501e-07\n",
      "new model saved\n"
     ]
    },
    {
     "name": "stderr",
     "output_type": "stream",
     "text": [
      "100%|█████████████████████████████████████████████| 1/1 [00:00<00:00,  2.67it/s]\n"
     ]
    },
    {
     "name": "stdout",
     "output_type": "stream",
     "text": [
      "Epoch-57\t Train loss: 6.2055e-07\n",
      "new model saved\n"
     ]
    },
    {
     "name": "stderr",
     "output_type": "stream",
     "text": [
      "100%|█████████████████████████████████████████████| 1/1 [00:00<00:00,  2.53it/s]\n"
     ]
    },
    {
     "name": "stdout",
     "output_type": "stream",
     "text": [
      "Epoch-58\t Train loss: 6.1610e-07\n",
      "new model saved\n"
     ]
    },
    {
     "name": "stderr",
     "output_type": "stream",
     "text": [
      "100%|█████████████████████████████████████████████| 1/1 [00:00<00:00,  2.56it/s]\n"
     ]
    },
    {
     "name": "stdout",
     "output_type": "stream",
     "text": [
      "Epoch-59\t Train loss: 6.1387e-07\n",
      "new model saved\n"
     ]
    },
    {
     "data": {
      "image/png": "[encoded data removed]",
      "text/plain": [
       "<Figure size 432x288 with 1 Axes>"
      ]
     },
     "metadata": {
      "needs_background": "light"
     },
     "output_type": "display_data"
    }
   ],
   "source": [
    "netC, train_loss_historyC, dict_nameC = trainCNN(netC,criterionC,optimizer,scheduler,cnn_train_dataloader,\n",
    "             config.train_number_epochs,do_show=True)"
   ]
  },
  {
   "cell_type": "code",
   "execution_count": 6,
   "metadata": {},
   "outputs": [
    {
     "name": "stdout",
     "output_type": "stream",
     "text": [
      "  true labels    Siamese    CNN\n",
      "-------------  ---------  -----\n",
      "            1         27     31\n",
      "            2         23     26\n",
      "            3          3     31\n",
      "            4         17     26\n",
      "            5          0     31\n",
      "            6          6      6\n",
      "            7          7     31\n",
      "            8          0     26\n",
      "            9          9     31\n",
      "           10         10     13\n",
      "           11         11     11\n",
      "           12         12     12\n",
      "           13         13     13\n",
      "           14         29     14\n",
      "           15         15     31\n",
      "           16          0     26\n",
      "           17          0     26\n",
      "           18         18     18\n",
      "           19         19     31\n",
      "           20         20     20\n",
      "           21         18     20\n",
      "           22         22     31\n",
      "           23         18     13\n",
      "           24         24     24\n",
      "           25          0      3\n",
      "           26         26     26\n",
      "           27         27     31\n",
      "           28         28     18\n",
      "           29         29     29\n",
      "           30         30     31\n",
      "           31         30     31\n",
      "           32         32     32\n",
      "           33         33     12\n",
      "           34         34     31\n",
      "           35         27     31\n",
      "Siamese accuracy: 0.6286\n",
      "Convnet accuracy: 0.3429\n"
     ]
    }
   ],
   "source": [
    "test_dataset = CNNDataset(config.compare_test_csv,\n",
    "                                        transform=transforms.Compose([\n",
    "                                            transforms.Resize((config.img_height,config.img_width)),\n",
    "                                            transforms.ToTensor(),\n",
    "                                            transforms.Normalize(0,1)]),\n",
    "                                        should_invert=False)\n",
    "\n",
    "test_dataloader = DataLoader(test_dataset,\n",
    "                        shuffle=False,\n",
    "                        num_workers=1,\n",
    "                        batch_size=1)\n",
    "true_labels = []\n",
    "for _,label in iter(test_dataloader):\n",
    "    true_labels.append(int(label))\n",
    "\n",
    "netS = SiameseNetwork().cuda()\n",
    "netS.load_state_dict(torch.load(os.path.join(\"state_dict\",dict_nameS)))\n",
    "netS.eval()\n",
    "\n",
    "siamese_precalculate_dataloader = DataLoader(cnn_dataset,\n",
    "                        shuffle=False,\n",
    "                        num_workers=1,\n",
    "                        batch_size=1)\n",
    "\n",
    "feature_vectors = []\n",
    "temp = []\n",
    "current_label = 0 #int(next(iter(siamese_precalculate_dataloader))[1])\n",
    "for data,label in iter(siamese_precalculate_dataloader):\n",
    "    v = (netS.forward_once(data.cuda()).detach().cpu().numpy())[0]\n",
    "    if label==current_label:\n",
    "        temp.append(v)\n",
    "    else:\n",
    "        current_label = label\n",
    "        feature_vectors.append(deepcopy(temp))\n",
    "        temp = []\n",
    "        temp.append(v)\n",
    "feature_vectors.append(deepcopy(temp))\n",
    "\n",
    "inferenceS = []\n",
    "for data, label in iter(test_dataloader):\n",
    "    current_feature = netS.forward_once(data.cuda())\n",
    "    dissims = []\n",
    "    temp = 0\n",
    "    for vectors in feature_vectors:\n",
    "        for feature in vectors:\n",
    "            temp += F.pairwise_distance(current_feature,torch.tensor(feature).cuda()).detach().cpu().numpy()\n",
    "        dissims.append(temp / len(vectors))\n",
    "        temp = 0\n",
    "    inferenceS.append(np.argmin(dissims))\n",
    "    \n",
    "netC = SiameseNetwork().cuda()\n",
    "netC.load_state_dict(torch.load(os.path.join(\"state_dict\",dict_nameC)))\n",
    "netC.eval()\n",
    "\n",
    "inferenceC = []\n",
    "for data, label in iter(test_dataloader):\n",
    "    current_feature = netC.forward_once(data.cuda())\n",
    "    inferenceC.append(np.argmax(current_feature.detach().cpu().numpy()))\n",
    "\n",
    "accS = sum([true_labels[i]==inferenceS[i] for i in range(len(true_labels))])/len(true_labels)\n",
    "accC = sum([true_labels[i]==inferenceC[i] for i in range(len(true_labels))])/len(true_labels)\n",
    "\n",
    "print(tabulate(np.array([true_labels,inferenceS,inferenceC]).T, headers=[\"true labels\", \"Siamese\", \"CNN\"]))\n",
    "\n",
    "print(\"Siamese accuracy: %.4f\"%(accS))\n",
    "print(\"Convnet accuracy: %.4f\"%(accC))"
   ]
  },
  {
   "cell_type": "code",
   "execution_count": null,
   "metadata": {},
   "outputs": [],
   "source": []
  }
 ],
 "metadata": {
  "hide_input": false,
  "kernelspec": {
   "display_name": "Python 3",
   "language": "python",
   "name": "python3"
  },
  "language_info": {
   "codemirror_mode": {
    "name": "ipython",
    "version": 3
   },
   "file_extension": ".py",
   "mimetype": "text/x-python",
   "name": "python",
   "nbconvert_exporter": "python",
   "pygments_lexer": "ipython3",
   "version": "3.7.12"
  }
 },
 "nbformat": 4,
 "nbformat_minor": 4
}
