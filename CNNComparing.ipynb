{
 "cells": [
  {
   "cell_type": "code",
   "execution_count": null,
   "id": "c420e638-877c-4926-bbcc-835284e8ea6e",
   "metadata": {},
   "outputs": [],
   "source": [
    "%matplotlib inline\n",
    "\n",
    "import torch\n",
    "import numpy as np\n",
    "from torch import optim\n",
    "import torchvision.utils\n",
    "import torch.nn.functional as F\n",
    "from torch.autograd import Variable\n",
    "import torchvision.transforms as transforms\n",
    "from torch.utils.data import DataLoader,random_split\n",
    "\n",
    "import config\n",
    "from utils import imshow\n",
    "from models import SiameseNetwork\n",
    "from training import trainSiamese,inferenceSiamese\n",
    "from datasets import SiameseNetworkDataset\n",
    "from loss_functions import ContrastiveLoss\n",
    "\n",
    "# generate_csv(config.training_dir)\n",
    "\n",
    "import os\n",
    "if not os.path.exists('state_dict'):\n",
    "    os.makedirs('state_dict')"
   ]
  },
  {
   "cell_type": "code",
   "execution_count": null,
   "id": "87b11b18",
   "metadata": {},
   "outputs": [],
   "source": [
    "cnn_dataset = CNNkDataset()"
   ]
  },
  {
   "cell_type": "code",
   "execution_count": null,
   "id": "5d8b9fa0",
   "metadata": {},
   "outputs": [],
   "source": []
  },
  {
   "cell_type": "code",
   "execution_count": null,
   "id": "e0b64864",
   "metadata": {},
   "outputs": [],
   "source": []
  }
 ],
 "metadata": {
  "kernelspec": {
   "display_name": "Python 3",
   "language": "python",
   "name": "python3"
  },
  "language_info": {
   "codemirror_mode": {
    "name": "ipython",
    "version": 3
   },
   "file_extension": ".py",
   "mimetype": "text/x-python",
   "name": "python",
   "nbconvert_exporter": "python",
   "pygments_lexer": "ipython3",
   "version": "3.7.12"
  }
 },
 "nbformat": 4,
 "nbformat_minor": 5
}
