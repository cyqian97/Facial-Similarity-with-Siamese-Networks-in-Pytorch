{
 "cells": [
  {
   "cell_type": "code",
   "execution_count": 1,
   "metadata": {},
   "outputs": [],
   "source": [
    "%matplotlib inline\n",
    "\n",
    "import torch\n",
    "import numpy as np\n",
    "from torch import optim\n",
    "from copy import deepcopy\n",
    "import torchvision.utils\n",
    "import matplotlib.pyplot as plt\n",
    "import torch.nn.functional as F\n",
    "from torch.autograd import Variable\n",
    "import torchvision.transforms as transforms\n",
    "from torch.utils.data import DataLoader,random_split\n",
    "\n",
    "import config\n",
    "from utils import imshow\n",
    "from models import SiameseNetwork\n",
    "from training import trainSiamese,inferenceSiamese\n",
    "from datasets import SiameseNetworkDataset\n",
    "from loss_functions import ContrastiveLoss\n",
    "\n",
    "# generate_csv(config.training_dir)\n",
    "\n",
    "import os\n",
    "if not os.path.exists('state_dict'):\n",
    "    os.makedirs('state_dict')"
   ]
  },
  {
   "cell_type": "code",
   "execution_count": null,
   "metadata": {},
   "outputs": [],
   "source": [
    "margins = np.arange(1,7,2)\n",
    "for marg in margins:\n",
    "    for i in range(1):\n",
    "        siamese_dataset = SiameseNetworkDataset(config.siamese_training_csv,\n",
    "                                                transform=transforms.Compose([\n",
    "                                                    transforms.Resize((config.img_height,config.img_width)),\n",
    "                                                    transforms.ToTensor(),\n",
    "                                                    transforms.Normalize(0,1)]),\n",
    "                                                should_invert=False)\n",
    "\n",
    "        # Split the dataset into train, validation and test sets\n",
    "        num_train = round(0.9*siamese_dataset.__len__())\n",
    "        num_validate = siamese_dataset.__len__()-num_train\n",
    "        siamese_train, siamese_valid = random_split(siamese_dataset, [num_train,num_validate])\n",
    "        train_dataloader = DataLoader(siamese_train,\n",
    "                                shuffle=True,\n",
    "                                num_workers=8,\n",
    "                                batch_size=config.train_batch_size)\n",
    "        valid_dataloader = DataLoader(siamese_valid,\n",
    "                                shuffle=True,\n",
    "                                num_workers=8,\n",
    "                                batch_size=1)\n",
    "\n",
    "        net = SiameseNetwork().cuda()\n",
    "        criterion = ContrastiveLoss(margin = marg)\n",
    "        optimizer = optim.Adam(net.parameters(),lr = config.learning_rate )\n",
    "        scheduler = torch.optim.lr_scheduler.StepLR(optimizer,config.step_size, config.gamma)\n",
    "\n",
    "        net, train_loss_history, valid_loss_history,dict_name = trainSiamese(net,criterion,optimizer,scheduler,train_dataloader,\n",
    "                     valid_dataloader,config.train_number_epochs,do_print=False)\n",
    "\n",
    "    fig = plt.figure()\n",
    "    plt.plot(train_loss_history)\n",
    "    plt.plot(valid_loss_history)\n",
    "    plt.legend([\"train_loss\",\"valid_loss\"])\n",
    "    plt.yscale(\"log\")\n",
    "    plt.xlabel(\"Epochs\")\n",
    "    plt.ylabel(\"Contrastive loss\")\n",
    "    fig.savefig(str(int(marg))+'.eps', format='eps', dpi=1200)"
   ]
  },
  {
   "cell_type": "code",
   "execution_count": null,
   "metadata": {},
   "outputs": [],
   "source": []
  }
 ],
 "metadata": {
  "hide_input": false,
  "kernelspec": {
   "display_name": "Python 3",
   "language": "python",
   "name": "python3"
  },
  "language_info": {
   "codemirror_mode": {
    "name": "ipython",
    "version": 3
   },
   "file_extension": ".py",
   "mimetype": "text/x-python",
   "name": "python",
   "nbconvert_exporter": "python",
   "pygments_lexer": "ipython3",
   "version": "3.7.12"
  }
 },
 "nbformat": 4,
 "nbformat_minor": 4
}
