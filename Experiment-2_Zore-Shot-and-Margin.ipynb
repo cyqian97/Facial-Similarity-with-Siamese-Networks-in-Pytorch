{
 "cells": [
  {
   "cell_type": "markdown",
   "metadata": {},
   "source": [
    "# One Shot Learning with Siamese Networks\n",
    "\n",
    "This is the jupyter notebook that accompanies"
   ]
  },
  {
   "cell_type": "markdown",
   "metadata": {},
   "source": [
    "## Imports\n",
    "All the imports are defined here"
   ]
  },
  {
   "cell_type": "code",
   "execution_count": 1,
   "metadata": {},
   "outputs": [],
   "source": [
    "%matplotlib inline\n",
    "\n",
    "import torch\n",
    "import numpy as np\n",
    "from torch import optim\n",
    "import torchvision.utils\n",
    "import torch.nn.functional as F\n",
    "from torch.autograd import Variable\n",
    "import torchvision.transforms as transforms\n",
    "from torch.utils.data import DataLoader,random_split\n",
    "\n",
    "import config\n",
    "from utils import imshow\n",
    "from models import SiameseNetwork\n",
    "from training import trainSiamese,inferenceSiamese\n",
    "from datasets import SiameseNetworkDataset\n",
    "from loss_functions import ContrastiveLoss\n",
    "\n",
    "# generate_csv(config.training_dir)\n",
    "\n",
    "import os\n",
    "if not os.path.exists('state_dict'):\n",
    "    os.makedirs('state_dict')"
   ]
  },
  {
   "cell_type": "markdown",
   "metadata": {},
   "source": [
    "## Using Image Folder Dataset"
   ]
  },
  {
   "cell_type": "code",
   "execution_count": 2,
   "metadata": {},
   "outputs": [
    {
     "name": "stdout",
     "output_type": "stream",
     "text": [
      "../../datasets/AT&T Database of Faces/faces/training/siamese_train_data.csv\n"
     ]
    }
   ],
   "source": [
    "siamese_dataset = SiameseNetworkDataset(config.siamese_training_csv,\n",
    "                                        transform=transforms.Compose([\n",
    "                                            transforms.Resize((config.img_height,config.img_width)),\n",
    "                                            transforms.ToTensor(),\n",
    "                                            transforms.Normalize(0,1)]),\n",
    "                                        should_invert=False)"
   ]
  },
  {
   "cell_type": "markdown",
   "metadata": {},
   "source": [
    "## Visualising some of the data\n",
    "The top row and the bottom row of any column is one pair. The 0s and 1s correspond to the column of the image.\n",
    "1 indiciates dissimilar, and 0 indicates similar."
   ]
  },
  {
   "cell_type": "code",
   "execution_count": 3,
   "metadata": {},
   "outputs": [],
   "source": [
    "# vis_dataloader = DataLoader(siamese_dataset,\n",
    "#                         shuffle=True,\n",
    "#                         num_workers=1,\n",
    "#                         batch_size=8)\n",
    "\n",
    "# dataiter = iter(vis_dataloader)\n",
    "\n",
    "# example_batch = next(dataiter)\n",
    "\n",
    "# concatenated = torch.cat((example_batch[0],example_batch[1]),0)\n",
    "# imshow(torchvision.utils.make_grid(concatenated))\n",
    "# print(example_batch[2].numpy())"
   ]
  },
  {
   "cell_type": "markdown",
   "metadata": {},
   "source": [
    "## Training Time!"
   ]
  },
  {
   "cell_type": "code",
   "execution_count": 4,
   "metadata": {},
   "outputs": [],
   "source": [
    "# Split the dataset into train, validation and test sets\n",
    "num_train = round(0.9*siamese_dataset.__len__())\n",
    "num_validate = siamese_dataset.__len__()-num_train\n",
    "siamese_train, siamese_valid = random_split(siamese_dataset, [num_train,num_validate])\n",
    "train_dataloader = DataLoader(siamese_train,\n",
    "                        shuffle=True,\n",
    "                        num_workers=8,\n",
    "                        batch_size=config.train_batch_size)\n",
    "valid_dataloader = DataLoader(siamese_valid,\n",
    "                        shuffle=True,\n",
    "                        num_workers=8,\n",
    "                        batch_size=1)"
   ]
  },
  {
   "cell_type": "code",
   "execution_count": 5,
   "metadata": {},
   "outputs": [],
   "source": [
    "net = SiameseNetwork().cuda()\n",
    "criterion = ContrastiveLoss()\n",
    "optimizer = optim.Adam(net.parameters(),lr = config.learning_rate )\n",
    "scheduler = torch.optim.lr_scheduler.StepLR(optimizer,config.step_size, config.gamma)"
   ]
  },
  {
   "cell_type": "code",
   "execution_count": 6,
   "metadata": {},
   "outputs": [
    {
     "name": "stdout",
     "output_type": "stream",
     "text": [
      "Epoch  0  training\n"
     ]
    },
    {
     "name": "stderr",
     "output_type": "stream",
     "text": [
      "100%|███████████████████████████████████████████| 23/23 [00:02<00:00,  8.57it/s]\n"
     ]
    },
    {
     "name": "stdout",
     "output_type": "stream",
     "text": [
      "Epoch  0  validating\n"
     ]
    },
    {
     "name": "stderr",
     "output_type": "stream",
     "text": [
      "100%|████████████████████████████████████████| 324/324 [00:01<00:00, 223.01it/s]\n"
     ]
    },
    {
     "name": "stdout",
     "output_type": "stream",
     "text": [
      "+1/-1 ratrio:0.47/0.53\n",
      "+1 features max:1.23\t min:0.16\t mean:0.47\t median 0.43\n",
      "-1 features max:1.52\t min:0.35\t mean:0.77\t median 0.72\n",
      "Feature = 0\tThreshold = 0.525205\tPolorization = 1\n",
      "Epoch-0\t Train loss: 0.1299\t Valid loss: 0.1146\t Valid error: 0.1790\n",
      "Epoch  1  training\n"
     ]
    },
    {
     "name": "stderr",
     "output_type": "stream",
     "text": [
      "100%|███████████████████████████████████████████| 23/23 [00:02<00:00, 10.84it/s]\n"
     ]
    },
    {
     "name": "stdout",
     "output_type": "stream",
     "text": [
      "Epoch  1  validating\n"
     ]
    },
    {
     "name": "stderr",
     "output_type": "stream",
     "text": [
      "100%|████████████████████████████████████████| 324/324 [00:01<00:00, 227.75it/s]\n"
     ]
    },
    {
     "name": "stdout",
     "output_type": "stream",
     "text": [
      "+1/-1 ratrio:0.47/0.53\n",
      "+1 features max:0.47\t min:0.10\t mean:0.20\t median 0.18\n",
      "-1 features max:0.66\t min:0.15\t mean:0.34\t median 0.33\n",
      "Feature = 0\tThreshold = 0.232860\tPolorization = 1\n",
      "Epoch-1\t Train loss: 0.0187\t Valid loss: 0.0198\t Valid error: 0.1420\n",
      "new model saved\n",
      "Epoch  2  training\n"
     ]
    },
    {
     "name": "stderr",
     "output_type": "stream",
     "text": [
      "100%|███████████████████████████████████████████| 23/23 [00:02<00:00, 10.89it/s]\n"
     ]
    },
    {
     "name": "stdout",
     "output_type": "stream",
     "text": [
      "Epoch  2  validating\n"
     ]
    },
    {
     "name": "stderr",
     "output_type": "stream",
     "text": [
      "100%|████████████████████████████████████████| 324/324 [00:01<00:00, 223.56it/s]\n"
     ]
    },
    {
     "name": "stdout",
     "output_type": "stream",
     "text": [
      "+1/-1 ratrio:0.47/0.53\n",
      "+1 features max:0.37\t min:0.06\t mean:0.13\t median 0.12\n",
      "-1 features max:0.55\t min:0.11\t mean:0.29\t median 0.29\n",
      "Feature = 0\tThreshold = 0.192041\tPolorization = 1\n",
      "Epoch-2\t Train loss: 0.0052\t Valid loss: 0.0090\t Valid error: 0.0679\n",
      "new model saved\n",
      "Epoch  3  training\n"
     ]
    },
    {
     "name": "stderr",
     "output_type": "stream",
     "text": [
      "100%|███████████████████████████████████████████| 23/23 [00:02<00:00, 10.81it/s]\n"
     ]
    },
    {
     "name": "stdout",
     "output_type": "stream",
     "text": [
      "Epoch  3  validating\n"
     ]
    },
    {
     "name": "stderr",
     "output_type": "stream",
     "text": [
      "100%|████████████████████████████████████████| 324/324 [00:01<00:00, 210.33it/s]\n"
     ]
    },
    {
     "name": "stdout",
     "output_type": "stream",
     "text": [
      "+1/-1 ratrio:0.47/0.53\n",
      "+1 features max:0.24\t min:0.04\t mean:0.11\t median 0.10\n",
      "-1 features max:0.52\t min:0.12\t mean:0.29\t median 0.29\n",
      "Feature = 0\tThreshold = 0.172829\tPolorization = 1\n",
      "Epoch-3\t Train loss: 0.0024\t Valid loss: 0.0063\t Valid error: 0.0432\n",
      "new model saved\n",
      "Epoch  4  training\n"
     ]
    },
    {
     "name": "stderr",
     "output_type": "stream",
     "text": [
      "100%|███████████████████████████████████████████| 23/23 [00:02<00:00, 10.86it/s]\n"
     ]
    },
    {
     "name": "stdout",
     "output_type": "stream",
     "text": [
      "Epoch  4  validating\n"
     ]
    },
    {
     "name": "stderr",
     "output_type": "stream",
     "text": [
      "100%|████████████████████████████████████████| 324/324 [00:01<00:00, 215.21it/s]\n"
     ]
    },
    {
     "name": "stdout",
     "output_type": "stream",
     "text": [
      "+1/-1 ratrio:0.47/0.53\n",
      "+1 features max:0.21\t min:0.04\t mean:0.10\t median 0.09\n",
      "-1 features max:0.53\t min:0.14\t mean:0.31\t median 0.30\n",
      "Feature = 0\tThreshold = 0.159119\tPolorization = 1\n",
      "Epoch-4\t Train loss: 0.0011\t Valid loss: 0.0053\t Valid error: 0.0278\n",
      "new model saved\n",
      "Epoch  5  training\n"
     ]
    },
    {
     "name": "stderr",
     "output_type": "stream",
     "text": [
      "100%|███████████████████████████████████████████| 23/23 [00:02<00:00, 10.82it/s]\n"
     ]
    },
    {
     "name": "stdout",
     "output_type": "stream",
     "text": [
      "Epoch  5  validating\n"
     ]
    },
    {
     "name": "stderr",
     "output_type": "stream",
     "text": [
      "100%|████████████████████████████████████████| 324/324 [00:01<00:00, 219.17it/s]\n"
     ]
    },
    {
     "name": "stdout",
     "output_type": "stream",
     "text": [
      "+1/-1 ratrio:0.47/0.53\n",
      "+1 features max:0.22\t min:0.04\t mean:0.09\t median 0.09\n",
      "-1 features max:0.52\t min:0.15\t mean:0.31\t median 0.31\n",
      "Feature = 0\tThreshold = 0.168617\tPolorization = 1\n",
      "Epoch-5\t Train loss: 0.0013\t Valid loss: 0.0047\t Valid error: 0.0185\n",
      "new model saved\n",
      "Epoch  6  training\n"
     ]
    },
    {
     "name": "stderr",
     "output_type": "stream",
     "text": [
      "100%|███████████████████████████████████████████| 23/23 [00:02<00:00, 10.64it/s]\n"
     ]
    },
    {
     "name": "stdout",
     "output_type": "stream",
     "text": [
      "Epoch  6  validating\n"
     ]
    },
    {
     "name": "stderr",
     "output_type": "stream",
     "text": [
      "100%|████████████████████████████████████████| 324/324 [00:01<00:00, 218.74it/s]\n"
     ]
    },
    {
     "name": "stdout",
     "output_type": "stream",
     "text": [
      "+1/-1 ratrio:0.47/0.53\n",
      "+1 features max:0.22\t min:0.03\t mean:0.09\t median 0.08\n",
      "-1 features max:0.53\t min:0.16\t mean:0.32\t median 0.32\n",
      "Feature = 0\tThreshold = 0.178403\tPolorization = 1\n",
      "Epoch-6\t Train loss: 0.0007\t Valid loss: 0.0045\t Valid error: 0.0154\n",
      "new model saved\n",
      "Epoch  7  training\n"
     ]
    },
    {
     "name": "stderr",
     "output_type": "stream",
     "text": [
      "100%|███████████████████████████████████████████| 23/23 [00:02<00:00, 10.87it/s]\n"
     ]
    },
    {
     "name": "stdout",
     "output_type": "stream",
     "text": [
      "Epoch  7  validating\n"
     ]
    },
    {
     "name": "stderr",
     "output_type": "stream",
     "text": [
      "100%|████████████████████████████████████████| 324/324 [00:01<00:00, 228.78it/s]\n"
     ]
    },
    {
     "name": "stdout",
     "output_type": "stream",
     "text": [
      "+1/-1 ratrio:0.47/0.53\n",
      "+1 features max:0.21\t min:0.03\t mean:0.09\t median 0.08\n",
      "-1 features max:0.54\t min:0.16\t mean:0.32\t median 0.32\n",
      "Feature = 0\tThreshold = 0.161314\tPolorization = 1\n",
      "Epoch-7\t Train loss: 0.0009\t Valid loss: 0.0043\t Valid error: 0.0154\n",
      "new model saved\n",
      "Epoch  8  training\n"
     ]
    },
    {
     "name": "stderr",
     "output_type": "stream",
     "text": [
      "100%|███████████████████████████████████████████| 23/23 [00:02<00:00, 10.87it/s]\n"
     ]
    },
    {
     "name": "stdout",
     "output_type": "stream",
     "text": [
      "Epoch  8  validating\n"
     ]
    },
    {
     "name": "stderr",
     "output_type": "stream",
     "text": [
      "100%|████████████████████████████████████████| 324/324 [00:01<00:00, 220.37it/s]\n"
     ]
    },
    {
     "name": "stdout",
     "output_type": "stream",
     "text": [
      "+1/-1 ratrio:0.47/0.53\n",
      "+1 features max:0.21\t min:0.03\t mean:0.08\t median 0.08\n",
      "-1 features max:0.53\t min:0.16\t mean:0.33\t median 0.32\n",
      "Feature = 0\tThreshold = 0.157846\tPolorization = 1\n",
      "Epoch-8\t Train loss: 0.0005\t Valid loss: 0.0041\t Valid error: 0.0154\n",
      "new model saved\n",
      "Epoch  9  training\n"
     ]
    },
    {
     "name": "stderr",
     "output_type": "stream",
     "text": [
      "100%|███████████████████████████████████████████| 23/23 [00:02<00:00, 10.69it/s]\n"
     ]
    },
    {
     "name": "stdout",
     "output_type": "stream",
     "text": [
      "Epoch  9  validating\n"
     ]
    },
    {
     "name": "stderr",
     "output_type": "stream",
     "text": [
      "100%|████████████████████████████████████████| 324/324 [00:01<00:00, 223.57it/s]\n"
     ]
    },
    {
     "name": "stdout",
     "output_type": "stream",
     "text": [
      "+1/-1 ratrio:0.47/0.53\n",
      "+1 features max:0.21\t min:0.02\t mean:0.08\t median 0.08\n",
      "-1 features max:0.54\t min:0.17\t mean:0.33\t median 0.33\n",
      "Feature = 0\tThreshold = 0.179234\tPolorization = 1\n",
      "Epoch-9\t Train loss: 0.0003\t Valid loss: 0.0040\t Valid error: 0.0123\n",
      "new model saved\n",
      "Epoch  10  training\n"
     ]
    },
    {
     "name": "stderr",
     "output_type": "stream",
     "text": [
      "100%|███████████████████████████████████████████| 23/23 [00:02<00:00, 10.70it/s]\n"
     ]
    },
    {
     "name": "stdout",
     "output_type": "stream",
     "text": [
      "Epoch  10  validating\n"
     ]
    },
    {
     "name": "stderr",
     "output_type": "stream",
     "text": [
      "100%|████████████████████████████████████████| 324/324 [00:01<00:00, 226.83it/s]\n"
     ]
    },
    {
     "name": "stdout",
     "output_type": "stream",
     "text": [
      "+1/-1 ratrio:0.47/0.53\n",
      "+1 features max:0.21\t min:0.02\t mean:0.08\t median 0.08\n",
      "-1 features max:0.54\t min:0.18\t mean:0.33\t median 0.32\n",
      "Feature = 0\tThreshold = 0.175047\tPolorization = 1\n",
      "Epoch-10\t Train loss: 0.0006\t Valid loss: 0.0039\t Valid error: 0.0093\n",
      "new model saved\n",
      "Epoch  11  training\n"
     ]
    },
    {
     "name": "stderr",
     "output_type": "stream",
     "text": [
      "100%|███████████████████████████████████████████| 23/23 [00:02<00:00, 10.98it/s]\n"
     ]
    },
    {
     "name": "stdout",
     "output_type": "stream",
     "text": [
      "Epoch  11  validating\n"
     ]
    },
    {
     "name": "stderr",
     "output_type": "stream",
     "text": [
      "100%|████████████████████████████████████████| 324/324 [00:01<00:00, 216.47it/s]\n"
     ]
    },
    {
     "name": "stdout",
     "output_type": "stream",
     "text": [
      "+1/-1 ratrio:0.47/0.53\n",
      "+1 features max:0.20\t min:0.02\t mean:0.08\t median 0.08\n",
      "-1 features max:0.55\t min:0.17\t mean:0.34\t median 0.33\n",
      "Feature = 0\tThreshold = 0.174255\tPolorization = 1\n",
      "Epoch-11\t Train loss: 0.0003\t Valid loss: 0.0039\t Valid error: 0.0123\n",
      "new model saved\n",
      "Epoch  12  training\n"
     ]
    },
    {
     "name": "stderr",
     "output_type": "stream",
     "text": [
      "100%|███████████████████████████████████████████| 23/23 [00:02<00:00, 10.75it/s]\n"
     ]
    },
    {
     "name": "stdout",
     "output_type": "stream",
     "text": [
      "Epoch  12  validating\n"
     ]
    },
    {
     "name": "stderr",
     "output_type": "stream",
     "text": [
      "100%|████████████████████████████████████████| 324/324 [00:01<00:00, 231.00it/s]\n"
     ]
    },
    {
     "name": "stdout",
     "output_type": "stream",
     "text": [
      "+1/-1 ratrio:0.47/0.53\n",
      "+1 features max:0.20\t min:0.02\t mean:0.08\t median 0.07\n",
      "-1 features max:0.56\t min:0.18\t mean:0.34\t median 0.33\n",
      "Feature = 0\tThreshold = 0.169969\tPolorization = 1\n",
      "Epoch-12\t Train loss: 0.0003\t Valid loss: 0.0037\t Valid error: 0.0123\n",
      "new model saved\n",
      "Epoch  13  training\n"
     ]
    },
    {
     "name": "stderr",
     "output_type": "stream",
     "text": [
      "100%|███████████████████████████████████████████| 23/23 [00:02<00:00, 10.79it/s]\n"
     ]
    },
    {
     "name": "stdout",
     "output_type": "stream",
     "text": [
      "Epoch  13  validating\n"
     ]
    },
    {
     "name": "stderr",
     "output_type": "stream",
     "text": [
      "100%|████████████████████████████████████████| 324/324 [00:01<00:00, 221.37it/s]\n"
     ]
    },
    {
     "name": "stdout",
     "output_type": "stream",
     "text": [
      "+1/-1 ratrio:0.47/0.53\n",
      "+1 features max:0.21\t min:0.02\t mean:0.08\t median 0.08\n",
      "-1 features max:0.55\t min:0.18\t mean:0.34\t median 0.33\n",
      "Feature = 0\tThreshold = 0.181160\tPolorization = 1\n",
      "Epoch-13\t Train loss: 0.0005\t Valid loss: 0.0038\t Valid error: 0.0093\n",
      "new model saved\n",
      "Epoch  14  training\n"
     ]
    },
    {
     "name": "stderr",
     "output_type": "stream",
     "text": [
      "100%|███████████████████████████████████████████| 23/23 [00:02<00:00, 10.81it/s]\n"
     ]
    },
    {
     "name": "stdout",
     "output_type": "stream",
     "text": [
      "Epoch  14  validating\n"
     ]
    },
    {
     "name": "stderr",
     "output_type": "stream",
     "text": [
      "100%|████████████████████████████████████████| 324/324 [00:01<00:00, 212.06it/s]\n"
     ]
    },
    {
     "name": "stdout",
     "output_type": "stream",
     "text": [
      "+1/-1 ratrio:0.47/0.53\n",
      "+1 features max:0.20\t min:0.02\t mean:0.08\t median 0.07\n",
      "-1 features max:0.59\t min:0.18\t mean:0.34\t median 0.33\n",
      "Feature = 0\tThreshold = 0.169086\tPolorization = 1\n",
      "Epoch-14\t Train loss: 0.0004\t Valid loss: 0.0036\t Valid error: 0.0093\n",
      "new model saved\n",
      "Epoch  15  training\n"
     ]
    },
    {
     "name": "stderr",
     "output_type": "stream",
     "text": [
      "100%|███████████████████████████████████████████| 23/23 [00:02<00:00, 10.67it/s]\n"
     ]
    },
    {
     "name": "stdout",
     "output_type": "stream",
     "text": [
      "Epoch  15  validating\n"
     ]
    },
    {
     "name": "stderr",
     "output_type": "stream",
     "text": [
      "100%|████████████████████████████████████████| 324/324 [00:01<00:00, 216.96it/s]\n"
     ]
    },
    {
     "name": "stdout",
     "output_type": "stream",
     "text": [
      "+1/-1 ratrio:0.47/0.53\n",
      "+1 features max:0.20\t min:0.02\t mean:0.08\t median 0.07\n",
      "-1 features max:0.55\t min:0.18\t mean:0.34\t median 0.33\n",
      "Feature = 0\tThreshold = 0.169681\tPolorization = 1\n",
      "Epoch-15\t Train loss: 0.0003\t Valid loss: 0.0035\t Valid error: 0.0093\n",
      "new model saved\n",
      "Epoch  16  training\n"
     ]
    },
    {
     "name": "stderr",
     "output_type": "stream",
     "text": [
      "100%|███████████████████████████████████████████| 23/23 [00:02<00:00, 10.95it/s]\n"
     ]
    },
    {
     "name": "stdout",
     "output_type": "stream",
     "text": [
      "Epoch  16  validating\n"
     ]
    },
    {
     "name": "stderr",
     "output_type": "stream",
     "text": [
      "100%|████████████████████████████████████████| 324/324 [00:01<00:00, 226.45it/s]\n"
     ]
    },
    {
     "name": "stdout",
     "output_type": "stream",
     "text": [
      "+1/-1 ratrio:0.47/0.53\n",
      "+1 features max:0.20\t min:0.02\t mean:0.08\t median 0.07\n",
      "-1 features max:0.55\t min:0.18\t mean:0.34\t median 0.33\n",
      "Feature = 0\tThreshold = 0.181297\tPolorization = 1\n",
      "Epoch-16\t Train loss: 0.0002\t Valid loss: 0.0035\t Valid error: 0.0062\n",
      "new model saved\n",
      "Epoch  17  training\n"
     ]
    },
    {
     "name": "stderr",
     "output_type": "stream",
     "text": [
      "100%|███████████████████████████████████████████| 23/23 [00:02<00:00, 10.83it/s]\n"
     ]
    },
    {
     "name": "stdout",
     "output_type": "stream",
     "text": [
      "Epoch  17  validating\n"
     ]
    },
    {
     "name": "stderr",
     "output_type": "stream",
     "text": [
      "100%|████████████████████████████████████████| 324/324 [00:01<00:00, 222.88it/s]\n"
     ]
    },
    {
     "name": "stdout",
     "output_type": "stream",
     "text": [
      "+1/-1 ratrio:0.47/0.53\n",
      "+1 features max:0.20\t min:0.02\t mean:0.08\t median 0.07\n",
      "-1 features max:0.55\t min:0.18\t mean:0.34\t median 0.33\n",
      "Feature = 0\tThreshold = 0.170966\tPolorization = 1\n",
      "Epoch-17\t Train loss: 0.0002\t Valid loss: 0.0034\t Valid error: 0.0093\n",
      "new model saved\n",
      "Epoch  18  training\n"
     ]
    },
    {
     "name": "stderr",
     "output_type": "stream",
     "text": [
      "100%|███████████████████████████████████████████| 23/23 [00:02<00:00, 10.84it/s]\n"
     ]
    },
    {
     "name": "stdout",
     "output_type": "stream",
     "text": [
      "Epoch  18  validating\n"
     ]
    },
    {
     "name": "stderr",
     "output_type": "stream",
     "text": [
      "100%|████████████████████████████████████████| 324/324 [00:01<00:00, 216.66it/s]\n"
     ]
    },
    {
     "name": "stdout",
     "output_type": "stream",
     "text": [
      "+1/-1 ratrio:0.47/0.53\n",
      "+1 features max:0.20\t min:0.01\t mean:0.08\t median 0.07\n",
      "-1 features max:0.56\t min:0.18\t mean:0.34\t median 0.33\n",
      "Feature = 0\tThreshold = 0.176828\tPolorization = 1\n",
      "Epoch-18\t Train loss: 0.0001\t Valid loss: 0.0034\t Valid error: 0.0062\n",
      "new model saved\n",
      "Epoch  19  training\n"
     ]
    },
    {
     "name": "stderr",
     "output_type": "stream",
     "text": [
      "100%|███████████████████████████████████████████| 23/23 [00:02<00:00, 10.74it/s]\n"
     ]
    },
    {
     "name": "stdout",
     "output_type": "stream",
     "text": [
      "Epoch  19  validating\n"
     ]
    },
    {
     "name": "stderr",
     "output_type": "stream",
     "text": [
      "100%|████████████████████████████████████████| 324/324 [00:01<00:00, 225.10it/s]\n"
     ]
    },
    {
     "name": "stdout",
     "output_type": "stream",
     "text": [
      "+1/-1 ratrio:0.47/0.53\n",
      "+1 features max:0.20\t min:0.01\t mean:0.07\t median 0.07\n",
      "-1 features max:0.55\t min:0.18\t mean:0.34\t median 0.33\n",
      "Feature = 0\tThreshold = 0.175969\tPolorization = 1\n",
      "Epoch-19\t Train loss: 0.0002\t Valid loss: 0.0033\t Valid error: 0.0062\n",
      "new model saved\n",
      "Epoch  20  training\n"
     ]
    },
    {
     "name": "stderr",
     "output_type": "stream",
     "text": [
      "100%|███████████████████████████████████████████| 23/23 [00:02<00:00, 10.85it/s]\n"
     ]
    },
    {
     "name": "stdout",
     "output_type": "stream",
     "text": [
      "Epoch  20  validating\n"
     ]
    },
    {
     "name": "stderr",
     "output_type": "stream",
     "text": [
      "100%|████████████████████████████████████████| 324/324 [00:01<00:00, 218.34it/s]\n"
     ]
    },
    {
     "name": "stdout",
     "output_type": "stream",
     "text": [
      "+1/-1 ratrio:0.47/0.53\n",
      "+1 features max:0.20\t min:0.01\t mean:0.07\t median 0.07\n",
      "-1 features max:0.55\t min:0.18\t mean:0.34\t median 0.33\n",
      "Feature = 0\tThreshold = 0.181750\tPolorization = 1\n",
      "Epoch-20\t Train loss: 0.0001\t Valid loss: 0.0033\t Valid error: 0.0062\n",
      "new model saved\n",
      "Epoch  21  training\n"
     ]
    },
    {
     "name": "stderr",
     "output_type": "stream",
     "text": [
      "100%|███████████████████████████████████████████| 23/23 [00:02<00:00, 10.76it/s]\n"
     ]
    },
    {
     "name": "stdout",
     "output_type": "stream",
     "text": [
      "Epoch  21  validating\n"
     ]
    },
    {
     "name": "stderr",
     "output_type": "stream",
     "text": [
      "100%|████████████████████████████████████████| 324/324 [00:01<00:00, 219.45it/s]\n"
     ]
    },
    {
     "name": "stdout",
     "output_type": "stream",
     "text": [
      "+1/-1 ratrio:0.47/0.53\n",
      "+1 features max:0.19\t min:0.01\t mean:0.07\t median 0.07\n",
      "-1 features max:0.57\t min:0.18\t mean:0.34\t median 0.33\n",
      "Feature = 0\tThreshold = 0.178619\tPolorization = 1\n",
      "Epoch-21\t Train loss: 0.0002\t Valid loss: 0.0032\t Valid error: 0.0062\n",
      "new model saved\n",
      "Epoch  22  training\n"
     ]
    },
    {
     "name": "stderr",
     "output_type": "stream",
     "text": [
      "100%|███████████████████████████████████████████| 23/23 [00:02<00:00, 11.01it/s]\n"
     ]
    },
    {
     "name": "stdout",
     "output_type": "stream",
     "text": [
      "Epoch  22  validating\n"
     ]
    },
    {
     "name": "stderr",
     "output_type": "stream",
     "text": [
      "100%|████████████████████████████████████████| 324/324 [00:01<00:00, 217.28it/s]\n"
     ]
    },
    {
     "name": "stdout",
     "output_type": "stream",
     "text": [
      "+1/-1 ratrio:0.47/0.53\n",
      "+1 features max:0.20\t min:0.02\t mean:0.07\t median 0.07\n",
      "-1 features max:0.57\t min:0.18\t mean:0.34\t median 0.33\n",
      "Feature = 0\tThreshold = 0.178297\tPolorization = 1\n",
      "Epoch-22\t Train loss: 0.0002\t Valid loss: 0.0032\t Valid error: 0.0062\n",
      "new model saved\n",
      "Epoch  23  training\n"
     ]
    },
    {
     "name": "stderr",
     "output_type": "stream",
     "text": [
      "100%|███████████████████████████████████████████| 23/23 [00:02<00:00, 10.70it/s]\n"
     ]
    },
    {
     "name": "stdout",
     "output_type": "stream",
     "text": [
      "Epoch  23  validating\n"
     ]
    },
    {
     "name": "stderr",
     "output_type": "stream",
     "text": [
      "100%|████████████████████████████████████████| 324/324 [00:01<00:00, 222.29it/s]\n"
     ]
    },
    {
     "name": "stdout",
     "output_type": "stream",
     "text": [
      "+1/-1 ratrio:0.47/0.53\n",
      "+1 features max:0.20\t min:0.02\t mean:0.07\t median 0.07\n",
      "-1 features max:0.55\t min:0.18\t mean:0.34\t median 0.33\n",
      "Feature = 0\tThreshold = 0.176148\tPolorization = 1\n",
      "Epoch-23\t Train loss: 0.0001\t Valid loss: 0.0031\t Valid error: 0.0062\n",
      "new model saved\n",
      "Epoch  24  training\n"
     ]
    },
    {
     "name": "stderr",
     "output_type": "stream",
     "text": [
      "100%|███████████████████████████████████████████| 23/23 [00:02<00:00, 10.64it/s]\n"
     ]
    },
    {
     "name": "stdout",
     "output_type": "stream",
     "text": [
      "Epoch  24  validating\n"
     ]
    },
    {
     "name": "stderr",
     "output_type": "stream",
     "text": [
      "100%|████████████████████████████████████████| 324/324 [00:01<00:00, 222.27it/s]\n"
     ]
    },
    {
     "name": "stdout",
     "output_type": "stream",
     "text": [
      "+1/-1 ratrio:0.47/0.53\n",
      "+1 features max:0.20\t min:0.01\t mean:0.07\t median 0.07\n",
      "-1 features max:0.56\t min:0.18\t mean:0.34\t median 0.33\n",
      "Feature = 0\tThreshold = 0.179617\tPolorization = 1\n",
      "Epoch-24\t Train loss: 0.0001\t Valid loss: 0.0031\t Valid error: 0.0062\n",
      "new model saved\n",
      "Epoch  25  training\n"
     ]
    },
    {
     "name": "stderr",
     "output_type": "stream",
     "text": [
      "100%|███████████████████████████████████████████| 23/23 [00:02<00:00, 10.76it/s]\n"
     ]
    },
    {
     "name": "stdout",
     "output_type": "stream",
     "text": [
      "Epoch  25  validating\n"
     ]
    },
    {
     "name": "stderr",
     "output_type": "stream",
     "text": [
      "100%|████████████████████████████████████████| 324/324 [00:01<00:00, 226.87it/s]\n"
     ]
    },
    {
     "name": "stdout",
     "output_type": "stream",
     "text": [
      "+1/-1 ratrio:0.47/0.53\n",
      "+1 features max:0.19\t min:0.01\t mean:0.07\t median 0.07\n",
      "-1 features max:0.56\t min:0.18\t mean:0.34\t median 0.33\n",
      "Feature = 0\tThreshold = 0.176389\tPolorization = 1\n",
      "Epoch-25\t Train loss: 0.0001\t Valid loss: 0.0031\t Valid error: 0.0062\n",
      "new model saved\n",
      "Epoch  26  training\n"
     ]
    },
    {
     "name": "stderr",
     "output_type": "stream",
     "text": [
      "100%|███████████████████████████████████████████| 23/23 [00:02<00:00, 10.70it/s]\n"
     ]
    },
    {
     "name": "stdout",
     "output_type": "stream",
     "text": [
      "Epoch  26  validating\n"
     ]
    },
    {
     "name": "stderr",
     "output_type": "stream",
     "text": [
      "100%|████████████████████████████████████████| 324/324 [00:01<00:00, 220.17it/s]\n"
     ]
    },
    {
     "name": "stdout",
     "output_type": "stream",
     "text": [
      "+1/-1 ratrio:0.47/0.53\n",
      "+1 features max:0.20\t min:0.01\t mean:0.07\t median 0.07\n",
      "-1 features max:0.57\t min:0.18\t mean:0.34\t median 0.33\n",
      "Feature = 0\tThreshold = 0.170714\tPolorization = 1\n",
      "Epoch-26\t Train loss: 0.0001\t Valid loss: 0.0030\t Valid error: 0.0062\n",
      "new model saved\n",
      "Epoch  27  training\n"
     ]
    },
    {
     "name": "stderr",
     "output_type": "stream",
     "text": [
      "100%|███████████████████████████████████████████| 23/23 [00:02<00:00, 10.96it/s]\n"
     ]
    },
    {
     "name": "stdout",
     "output_type": "stream",
     "text": [
      "Epoch  27  validating\n"
     ]
    },
    {
     "name": "stderr",
     "output_type": "stream",
     "text": [
      "100%|████████████████████████████████████████| 324/324 [00:01<00:00, 224.86it/s]\n"
     ]
    },
    {
     "name": "stdout",
     "output_type": "stream",
     "text": [
      "+1/-1 ratrio:0.47/0.53\n",
      "+1 features max:0.20\t min:0.01\t mean:0.07\t median 0.07\n",
      "-1 features max:0.57\t min:0.19\t mean:0.34\t median 0.33\n",
      "Feature = 0\tThreshold = 0.177850\tPolorization = 1\n",
      "Epoch-27\t Train loss: 0.0001\t Valid loss: 0.0030\t Valid error: 0.0062\n",
      "new model saved\n",
      "Epoch  28  training\n"
     ]
    },
    {
     "name": "stderr",
     "output_type": "stream",
     "text": [
      "100%|███████████████████████████████████████████| 23/23 [00:02<00:00, 10.96it/s]\n"
     ]
    },
    {
     "name": "stdout",
     "output_type": "stream",
     "text": [
      "Epoch  28  validating\n"
     ]
    },
    {
     "name": "stderr",
     "output_type": "stream",
     "text": [
      "100%|████████████████████████████████████████| 324/324 [00:01<00:00, 225.78it/s]\n"
     ]
    },
    {
     "name": "stdout",
     "output_type": "stream",
     "text": [
      "+1/-1 ratrio:0.47/0.53\n",
      "+1 features max:0.20\t min:0.01\t mean:0.07\t median 0.06\n",
      "-1 features max:0.57\t min:0.18\t mean:0.34\t median 0.33\n",
      "Feature = 0\tThreshold = 0.178569\tPolorization = 1\n",
      "Epoch-28\t Train loss: 0.0002\t Valid loss: 0.0030\t Valid error: 0.0062\n",
      "new model saved\n",
      "Epoch  29  training\n"
     ]
    },
    {
     "name": "stderr",
     "output_type": "stream",
     "text": [
      "100%|███████████████████████████████████████████| 23/23 [00:02<00:00, 11.02it/s]\n"
     ]
    },
    {
     "name": "stdout",
     "output_type": "stream",
     "text": [
      "Epoch  29  validating\n"
     ]
    },
    {
     "name": "stderr",
     "output_type": "stream",
     "text": [
      "100%|████████████████████████████████████████| 324/324 [00:01<00:00, 219.50it/s]\n"
     ]
    },
    {
     "name": "stdout",
     "output_type": "stream",
     "text": [
      "+1/-1 ratrio:0.47/0.53\n",
      "+1 features max:0.20\t min:0.02\t mean:0.07\t median 0.07\n",
      "-1 features max:0.56\t min:0.18\t mean:0.34\t median 0.34\n",
      "Feature = 0\tThreshold = 0.173608\tPolorization = 1\n",
      "Epoch-29\t Train loss: 0.0001\t Valid loss: 0.0030\t Valid error: 0.0062\n",
      "new model saved\n",
      "Epoch  30  training\n"
     ]
    },
    {
     "name": "stderr",
     "output_type": "stream",
     "text": [
      "100%|███████████████████████████████████████████| 23/23 [00:02<00:00, 10.77it/s]\n"
     ]
    },
    {
     "name": "stdout",
     "output_type": "stream",
     "text": [
      "Epoch  30  validating\n"
     ]
    },
    {
     "name": "stderr",
     "output_type": "stream",
     "text": [
      "100%|████████████████████████████████████████| 324/324 [00:01<00:00, 226.01it/s]\n"
     ]
    },
    {
     "name": "stdout",
     "output_type": "stream",
     "text": [
      "+1/-1 ratrio:0.47/0.53\n",
      "+1 features max:0.20\t min:0.02\t mean:0.07\t median 0.06\n",
      "-1 features max:0.57\t min:0.18\t mean:0.34\t median 0.33\n",
      "Feature = 0\tThreshold = 0.171729\tPolorization = 1\n",
      "Epoch-30\t Train loss: 0.0001\t Valid loss: 0.0029\t Valid error: 0.0062\n",
      "new model saved\n",
      "Epoch  31  training\n"
     ]
    },
    {
     "name": "stderr",
     "output_type": "stream",
     "text": [
      "100%|███████████████████████████████████████████| 23/23 [00:02<00:00, 10.87it/s]\n"
     ]
    },
    {
     "name": "stdout",
     "output_type": "stream",
     "text": [
      "Epoch  31  validating\n"
     ]
    },
    {
     "name": "stderr",
     "output_type": "stream",
     "text": [
      "100%|████████████████████████████████████████| 324/324 [00:01<00:00, 210.44it/s]\n"
     ]
    },
    {
     "name": "stdout",
     "output_type": "stream",
     "text": [
      "+1/-1 ratrio:0.47/0.53\n",
      "+1 features max:0.20\t min:0.01\t mean:0.07\t median 0.06\n",
      "-1 features max:0.57\t min:0.18\t mean:0.34\t median 0.33\n",
      "Feature = 0\tThreshold = 0.169985\tPolorization = 1\n",
      "Epoch-31\t Train loss: 0.0002\t Valid loss: 0.0029\t Valid error: 0.0062\n",
      "new model saved\n",
      "Epoch  32  training\n"
     ]
    },
    {
     "name": "stderr",
     "output_type": "stream",
     "text": [
      "100%|███████████████████████████████████████████| 23/23 [00:02<00:00, 10.61it/s]\n"
     ]
    },
    {
     "name": "stdout",
     "output_type": "stream",
     "text": [
      "Epoch  32  validating\n"
     ]
    },
    {
     "name": "stderr",
     "output_type": "stream",
     "text": [
      "100%|████████████████████████████████████████| 324/324 [00:01<00:00, 224.76it/s]\n"
     ]
    },
    {
     "name": "stdout",
     "output_type": "stream",
     "text": [
      "+1/-1 ratrio:0.47/0.53\n",
      "+1 features max:0.20\t min:0.01\t mean:0.07\t median 0.06\n",
      "-1 features max:0.56\t min:0.18\t mean:0.34\t median 0.33\n",
      "Feature = 0\tThreshold = 0.171037\tPolorization = 1\n",
      "Epoch-32\t Train loss: 0.0001\t Valid loss: 0.0029\t Valid error: 0.0062\n",
      "new model saved\n",
      "Epoch  33  training\n"
     ]
    },
    {
     "name": "stderr",
     "output_type": "stream",
     "text": [
      "100%|███████████████████████████████████████████| 23/23 [00:02<00:00, 10.60it/s]\n"
     ]
    },
    {
     "name": "stdout",
     "output_type": "stream",
     "text": [
      "Epoch  33  validating\n"
     ]
    },
    {
     "name": "stderr",
     "output_type": "stream",
     "text": [
      "100%|████████████████████████████████████████| 324/324 [00:01<00:00, 222.07it/s]\n"
     ]
    },
    {
     "name": "stdout",
     "output_type": "stream",
     "text": [
      "+1/-1 ratrio:0.47/0.53\n",
      "+1 features max:0.20\t min:0.01\t mean:0.07\t median 0.06\n",
      "-1 features max:0.57\t min:0.18\t mean:0.34\t median 0.34\n",
      "Feature = 0\tThreshold = 0.172161\tPolorization = 1\n",
      "Epoch-33\t Train loss: 0.0001\t Valid loss: 0.0028\t Valid error: 0.0062\n",
      "new model saved\n",
      "Epoch  34  training\n"
     ]
    },
    {
     "name": "stderr",
     "output_type": "stream",
     "text": [
      "100%|███████████████████████████████████████████| 23/23 [00:02<00:00, 10.81it/s]\n"
     ]
    },
    {
     "name": "stdout",
     "output_type": "stream",
     "text": [
      "Epoch  34  validating\n"
     ]
    },
    {
     "name": "stderr",
     "output_type": "stream",
     "text": [
      "100%|████████████████████████████████████████| 324/324 [00:01<00:00, 224.17it/s]\n"
     ]
    },
    {
     "name": "stdout",
     "output_type": "stream",
     "text": [
      "+1/-1 ratrio:0.47/0.53\n",
      "+1 features max:0.20\t min:0.01\t mean:0.07\t median 0.06\n",
      "-1 features max:0.57\t min:0.19\t mean:0.34\t median 0.34\n",
      "Feature = 0\tThreshold = 0.185868\tPolorization = 1\n",
      "Epoch-34\t Train loss: 0.0001\t Valid loss: 0.0028\t Valid error: 0.0031\n",
      "new model saved\n",
      "Epoch  35  training\n"
     ]
    },
    {
     "name": "stderr",
     "output_type": "stream",
     "text": [
      "100%|███████████████████████████████████████████| 23/23 [00:02<00:00, 10.78it/s]\n"
     ]
    },
    {
     "name": "stdout",
     "output_type": "stream",
     "text": [
      "Epoch  35  validating\n"
     ]
    },
    {
     "name": "stderr",
     "output_type": "stream",
     "text": [
      "100%|████████████████████████████████████████| 324/324 [00:01<00:00, 219.39it/s]\n"
     ]
    },
    {
     "name": "stdout",
     "output_type": "stream",
     "text": [
      "+1/-1 ratrio:0.47/0.53\n",
      "+1 features max:0.19\t min:0.01\t mean:0.07\t median 0.06\n",
      "-1 features max:0.57\t min:0.18\t mean:0.34\t median 0.34\n",
      "Feature = 0\tThreshold = 0.194220\tPolorization = 1\n",
      "Epoch-35\t Train loss: 0.0002\t Valid loss: 0.0028\t Valid error: 0.0031\n",
      "new model saved\n",
      "Epoch  36  training\n"
     ]
    },
    {
     "name": "stderr",
     "output_type": "stream",
     "text": [
      "100%|███████████████████████████████████████████| 23/23 [00:02<00:00, 10.68it/s]\n"
     ]
    },
    {
     "name": "stdout",
     "output_type": "stream",
     "text": [
      "Epoch  36  validating\n"
     ]
    },
    {
     "name": "stderr",
     "output_type": "stream",
     "text": [
      "100%|████████████████████████████████████████| 324/324 [00:01<00:00, 213.40it/s]\n"
     ]
    },
    {
     "name": "stdout",
     "output_type": "stream",
     "text": [
      "+1/-1 ratrio:0.47/0.53\n",
      "+1 features max:0.19\t min:0.01\t mean:0.07\t median 0.06\n",
      "-1 features max:0.56\t min:0.19\t mean:0.34\t median 0.33\n",
      "Feature = 0\tThreshold = 0.186027\tPolorization = 1\n",
      "Epoch-36\t Train loss: 0.0001\t Valid loss: 0.0028\t Valid error: 0.0031\n",
      "new model saved\n",
      "Epoch  37  training\n"
     ]
    },
    {
     "name": "stderr",
     "output_type": "stream",
     "text": [
      "100%|███████████████████████████████████████████| 23/23 [00:02<00:00, 10.74it/s]\n"
     ]
    },
    {
     "name": "stdout",
     "output_type": "stream",
     "text": [
      "Epoch  37  validating\n"
     ]
    },
    {
     "name": "stderr",
     "output_type": "stream",
     "text": [
      "100%|████████████████████████████████████████| 324/324 [00:01<00:00, 227.60it/s]\n"
     ]
    },
    {
     "name": "stdout",
     "output_type": "stream",
     "text": [
      "+1/-1 ratrio:0.47/0.53\n",
      "+1 features max:0.19\t min:0.01\t mean:0.07\t median 0.06\n",
      "-1 features max:0.57\t min:0.19\t mean:0.34\t median 0.34\n",
      "Feature = 0\tThreshold = 0.185402\tPolorization = 1\n",
      "Epoch-37\t Train loss: 0.0001\t Valid loss: 0.0028\t Valid error: 0.0031\n",
      "new model saved\n",
      "Epoch  38  training\n"
     ]
    },
    {
     "name": "stderr",
     "output_type": "stream",
     "text": [
      "100%|███████████████████████████████████████████| 23/23 [00:02<00:00, 10.73it/s]\n"
     ]
    },
    {
     "name": "stdout",
     "output_type": "stream",
     "text": [
      "Epoch  38  validating\n"
     ]
    },
    {
     "name": "stderr",
     "output_type": "stream",
     "text": [
      "100%|████████████████████████████████████████| 324/324 [00:01<00:00, 218.11it/s]\n"
     ]
    },
    {
     "name": "stdout",
     "output_type": "stream",
     "text": [
      "+1/-1 ratrio:0.47/0.53\n",
      "+1 features max:0.20\t min:0.01\t mean:0.07\t median 0.06\n",
      "-1 features max:0.57\t min:0.19\t mean:0.34\t median 0.34\n",
      "Feature = 0\tThreshold = 0.172374\tPolorization = 1\n",
      "Epoch-38\t Train loss: 0.0001\t Valid loss: 0.0028\t Valid error: 0.0062\n",
      "new model saved\n",
      "Epoch  39  training\n"
     ]
    },
    {
     "name": "stderr",
     "output_type": "stream",
     "text": [
      "100%|███████████████████████████████████████████| 23/23 [00:02<00:00, 10.76it/s]\n"
     ]
    },
    {
     "name": "stdout",
     "output_type": "stream",
     "text": [
      "Epoch  39  validating\n"
     ]
    },
    {
     "name": "stderr",
     "output_type": "stream",
     "text": [
      "100%|████████████████████████████████████████| 324/324 [00:01<00:00, 221.66it/s]\n"
     ]
    },
    {
     "name": "stdout",
     "output_type": "stream",
     "text": [
      "+1/-1 ratrio:0.47/0.53\n",
      "+1 features max:0.20\t min:0.01\t mean:0.07\t median 0.06\n",
      "-1 features max:0.57\t min:0.18\t mean:0.34\t median 0.34\n",
      "Feature = 0\tThreshold = 0.170114\tPolorization = 1\n",
      "Epoch-39\t Train loss: 0.0001\t Valid loss: 0.0028\t Valid error: 0.0062\n",
      "new model saved\n",
      "Epoch  40  training\n"
     ]
    },
    {
     "name": "stderr",
     "output_type": "stream",
     "text": [
      "100%|███████████████████████████████████████████| 23/23 [00:02<00:00, 10.70it/s]\n"
     ]
    },
    {
     "name": "stdout",
     "output_type": "stream",
     "text": [
      "Epoch  40  validating\n"
     ]
    },
    {
     "name": "stderr",
     "output_type": "stream",
     "text": [
      "100%|████████████████████████████████████████| 324/324 [00:01<00:00, 222.12it/s]\n"
     ]
    },
    {
     "name": "stdout",
     "output_type": "stream",
     "text": [
      "+1/-1 ratrio:0.47/0.53\n",
      "+1 features max:0.20\t min:0.01\t mean:0.07\t median 0.06\n",
      "-1 features max:0.57\t min:0.19\t mean:0.34\t median 0.34\n",
      "Feature = 0\tThreshold = 0.186155\tPolorization = 1\n",
      "Epoch-40\t Train loss: 0.0001\t Valid loss: 0.0027\t Valid error: 0.0031\n",
      "new model saved\n",
      "Epoch  41  training\n"
     ]
    },
    {
     "name": "stderr",
     "output_type": "stream",
     "text": [
      "100%|███████████████████████████████████████████| 23/23 [00:02<00:00, 11.00it/s]\n"
     ]
    },
    {
     "name": "stdout",
     "output_type": "stream",
     "text": [
      "Epoch  41  validating\n"
     ]
    },
    {
     "name": "stderr",
     "output_type": "stream",
     "text": [
      "100%|████████████████████████████████████████| 324/324 [00:01<00:00, 228.71it/s]\n"
     ]
    },
    {
     "name": "stdout",
     "output_type": "stream",
     "text": [
      "+1/-1 ratrio:0.47/0.53\n",
      "+1 features max:0.20\t min:0.02\t mean:0.07\t median 0.06\n",
      "-1 features max:0.57\t min:0.19\t mean:0.34\t median 0.34\n",
      "Feature = 0\tThreshold = 0.184908\tPolorization = 1\n",
      "Epoch-41\t Train loss: 0.0001\t Valid loss: 0.0027\t Valid error: 0.0031\n",
      "new model saved\n",
      "Epoch  42  training\n"
     ]
    },
    {
     "name": "stderr",
     "output_type": "stream",
     "text": [
      "100%|███████████████████████████████████████████| 23/23 [00:02<00:00, 10.78it/s]\n"
     ]
    },
    {
     "name": "stdout",
     "output_type": "stream",
     "text": [
      "Epoch  42  validating\n"
     ]
    },
    {
     "name": "stderr",
     "output_type": "stream",
     "text": [
      "100%|████████████████████████████████████████| 324/324 [00:01<00:00, 224.00it/s]\n"
     ]
    },
    {
     "name": "stdout",
     "output_type": "stream",
     "text": [
      "+1/-1 ratrio:0.47/0.53\n",
      "+1 features max:0.19\t min:0.01\t mean:0.07\t median 0.06\n",
      "-1 features max:0.56\t min:0.19\t mean:0.34\t median 0.34\n",
      "Feature = 0\tThreshold = 0.185714\tPolorization = 1\n",
      "Epoch-42\t Train loss: 0.0001\t Valid loss: 0.0027\t Valid error: 0.0031\n",
      "new model saved\n",
      "Epoch  43  training\n"
     ]
    },
    {
     "name": "stderr",
     "output_type": "stream",
     "text": [
      "100%|███████████████████████████████████████████| 23/23 [00:02<00:00, 10.95it/s]\n"
     ]
    },
    {
     "name": "stdout",
     "output_type": "stream",
     "text": [
      "Epoch  43  validating\n"
     ]
    },
    {
     "name": "stderr",
     "output_type": "stream",
     "text": [
      "100%|████████████████████████████████████████| 324/324 [00:01<00:00, 221.93it/s]\n"
     ]
    },
    {
     "name": "stdout",
     "output_type": "stream",
     "text": [
      "+1/-1 ratrio:0.47/0.53\n",
      "+1 features max:0.19\t min:0.01\t mean:0.07\t median 0.06\n",
      "-1 features max:0.56\t min:0.19\t mean:0.34\t median 0.34\n",
      "Feature = 0\tThreshold = 0.184054\tPolorization = 1\n",
      "Epoch-43\t Train loss: 0.0001\t Valid loss: 0.0027\t Valid error: 0.0031\n",
      "new model saved\n",
      "Epoch  44  training\n"
     ]
    },
    {
     "name": "stderr",
     "output_type": "stream",
     "text": [
      "100%|███████████████████████████████████████████| 23/23 [00:02<00:00, 10.80it/s]\n"
     ]
    },
    {
     "name": "stdout",
     "output_type": "stream",
     "text": [
      "Epoch  44  validating\n"
     ]
    },
    {
     "name": "stderr",
     "output_type": "stream",
     "text": [
      "100%|████████████████████████████████████████| 324/324 [00:01<00:00, 217.71it/s]\n"
     ]
    },
    {
     "name": "stdout",
     "output_type": "stream",
     "text": [
      "+1/-1 ratrio:0.47/0.53\n",
      "+1 features max:0.19\t min:0.01\t mean:0.07\t median 0.06\n",
      "-1 features max:0.57\t min:0.19\t mean:0.34\t median 0.34\n",
      "Feature = 0\tThreshold = 0.184875\tPolorization = 1\n",
      "Epoch-44\t Train loss: 0.0001\t Valid loss: 0.0026\t Valid error: 0.0031\n",
      "new model saved\n",
      "Epoch  45  training\n"
     ]
    },
    {
     "name": "stderr",
     "output_type": "stream",
     "text": [
      "100%|███████████████████████████████████████████| 23/23 [00:02<00:00, 10.59it/s]\n"
     ]
    },
    {
     "name": "stdout",
     "output_type": "stream",
     "text": [
      "Epoch  45  validating\n"
     ]
    },
    {
     "name": "stderr",
     "output_type": "stream",
     "text": [
      "100%|████████████████████████████████████████| 324/324 [00:01<00:00, 226.03it/s]\n"
     ]
    },
    {
     "name": "stdout",
     "output_type": "stream",
     "text": [
      "+1/-1 ratrio:0.47/0.53\n",
      "+1 features max:0.19\t min:0.01\t mean:0.07\t median 0.06\n",
      "-1 features max:0.56\t min:0.19\t mean:0.34\t median 0.34\n",
      "Feature = 0\tThreshold = 0.186223\tPolorization = 1\n",
      "Epoch-45\t Train loss: 0.0001\t Valid loss: 0.0026\t Valid error: 0.0031\n",
      "new model saved\n",
      "Epoch  46  training\n"
     ]
    },
    {
     "name": "stderr",
     "output_type": "stream",
     "text": [
      "100%|███████████████████████████████████████████| 23/23 [00:02<00:00, 10.96it/s]\n"
     ]
    },
    {
     "name": "stdout",
     "output_type": "stream",
     "text": [
      "Epoch  46  validating\n"
     ]
    },
    {
     "name": "stderr",
     "output_type": "stream",
     "text": [
      "100%|████████████████████████████████████████| 324/324 [00:01<00:00, 214.90it/s]\n"
     ]
    },
    {
     "name": "stdout",
     "output_type": "stream",
     "text": [
      "+1/-1 ratrio:0.47/0.53\n",
      "+1 features max:0.19\t min:0.01\t mean:0.07\t median 0.06\n",
      "-1 features max:0.56\t min:0.19\t mean:0.34\t median 0.34\n",
      "Feature = 0\tThreshold = 0.185581\tPolorization = 1\n",
      "Epoch-46\t Train loss: 0.0001\t Valid loss: 0.0026\t Valid error: 0.0031\n",
      "new model saved\n",
      "Epoch  47  training\n"
     ]
    },
    {
     "name": "stderr",
     "output_type": "stream",
     "text": [
      "100%|███████████████████████████████████████████| 23/23 [00:02<00:00, 10.75it/s]\n"
     ]
    },
    {
     "name": "stdout",
     "output_type": "stream",
     "text": [
      "Epoch  47  validating\n"
     ]
    },
    {
     "name": "stderr",
     "output_type": "stream",
     "text": [
      "100%|████████████████████████████████████████| 324/324 [00:01<00:00, 221.08it/s]\n"
     ]
    },
    {
     "name": "stdout",
     "output_type": "stream",
     "text": [
      "+1/-1 ratrio:0.47/0.53\n",
      "+1 features max:0.19\t min:0.01\t mean:0.07\t median 0.06\n",
      "-1 features max:0.56\t min:0.19\t mean:0.34\t median 0.34\n",
      "Feature = 0\tThreshold = 0.186095\tPolorization = 1\n",
      "Epoch-47\t Train loss: 0.0001\t Valid loss: 0.0026\t Valid error: 0.0031\n",
      "new model saved\n",
      "Epoch  48  training\n"
     ]
    },
    {
     "name": "stderr",
     "output_type": "stream",
     "text": [
      "100%|███████████████████████████████████████████| 23/23 [00:02<00:00, 10.78it/s]\n"
     ]
    },
    {
     "name": "stdout",
     "output_type": "stream",
     "text": [
      "Epoch  48  validating\n"
     ]
    },
    {
     "name": "stderr",
     "output_type": "stream",
     "text": [
      "100%|████████████████████████████████████████| 324/324 [00:01<00:00, 228.53it/s]\n"
     ]
    },
    {
     "name": "stdout",
     "output_type": "stream",
     "text": [
      "+1/-1 ratrio:0.47/0.53\n",
      "+1 features max:0.19\t min:0.01\t mean:0.07\t median 0.06\n",
      "-1 features max:0.56\t min:0.19\t mean:0.34\t median 0.34\n",
      "Feature = 0\tThreshold = 0.184643\tPolorization = 1\n",
      "Epoch-48\t Train loss: 0.0001\t Valid loss: 0.0026\t Valid error: 0.0031\n",
      "new model saved\n",
      "Epoch  49  training\n"
     ]
    },
    {
     "name": "stderr",
     "output_type": "stream",
     "text": [
      "100%|███████████████████████████████████████████| 23/23 [00:02<00:00, 10.82it/s]\n"
     ]
    },
    {
     "name": "stdout",
     "output_type": "stream",
     "text": [
      "Epoch  49  validating\n"
     ]
    },
    {
     "name": "stderr",
     "output_type": "stream",
     "text": [
      "100%|████████████████████████████████████████| 324/324 [00:01<00:00, 222.83it/s]\n"
     ]
    },
    {
     "name": "stdout",
     "output_type": "stream",
     "text": [
      "+1/-1 ratrio:0.47/0.53\n",
      "+1 features max:0.19\t min:0.01\t mean:0.07\t median 0.06\n",
      "-1 features max:0.56\t min:0.19\t mean:0.34\t median 0.34\n",
      "Feature = 0\tThreshold = 0.185589\tPolorization = 1\n",
      "Epoch-49\t Train loss: 0.0001\t Valid loss: 0.0026\t Valid error: 0.0031\n",
      "new model saved\n",
      "Epoch  50  training\n"
     ]
    },
    {
     "name": "stderr",
     "output_type": "stream",
     "text": [
      "100%|███████████████████████████████████████████| 23/23 [00:02<00:00, 10.75it/s]\n"
     ]
    },
    {
     "name": "stdout",
     "output_type": "stream",
     "text": [
      "Epoch  50  validating\n"
     ]
    },
    {
     "name": "stderr",
     "output_type": "stream",
     "text": [
      "100%|████████████████████████████████████████| 324/324 [00:01<00:00, 222.76it/s]\n"
     ]
    },
    {
     "name": "stdout",
     "output_type": "stream",
     "text": [
      "+1/-1 ratrio:0.47/0.53\n",
      "+1 features max:0.19\t min:0.01\t mean:0.07\t median 0.06\n",
      "-1 features max:0.57\t min:0.19\t mean:0.34\t median 0.34\n",
      "Feature = 0\tThreshold = 0.184926\tPolorization = 1\n",
      "Epoch-50\t Train loss: 0.0001\t Valid loss: 0.0026\t Valid error: 0.0031\n",
      "new model saved\n",
      "Epoch  51  training\n"
     ]
    },
    {
     "name": "stderr",
     "output_type": "stream",
     "text": [
      "100%|███████████████████████████████████████████| 23/23 [00:02<00:00, 10.76it/s]\n"
     ]
    },
    {
     "name": "stdout",
     "output_type": "stream",
     "text": [
      "Epoch  51  validating\n"
     ]
    },
    {
     "name": "stderr",
     "output_type": "stream",
     "text": [
      "100%|████████████████████████████████████████| 324/324 [00:01<00:00, 219.27it/s]\n"
     ]
    },
    {
     "name": "stdout",
     "output_type": "stream",
     "text": [
      "+1/-1 ratrio:0.47/0.53\n",
      "+1 features max:0.19\t min:0.01\t mean:0.07\t median 0.06\n",
      "-1 features max:0.57\t min:0.19\t mean:0.34\t median 0.34\n",
      "Feature = 0\tThreshold = 0.185786\tPolorization = 1\n",
      "Epoch-51\t Train loss: 0.0001\t Valid loss: 0.0026\t Valid error: 0.0031\n",
      "new model saved\n",
      "Epoch  52  training\n"
     ]
    },
    {
     "name": "stderr",
     "output_type": "stream",
     "text": [
      "100%|███████████████████████████████████████████| 23/23 [00:02<00:00, 10.57it/s]\n"
     ]
    },
    {
     "name": "stdout",
     "output_type": "stream",
     "text": [
      "Epoch  52  validating\n"
     ]
    },
    {
     "name": "stderr",
     "output_type": "stream",
     "text": [
      "100%|████████████████████████████████████████| 324/324 [00:01<00:00, 210.00it/s]\n"
     ]
    },
    {
     "name": "stdout",
     "output_type": "stream",
     "text": [
      "+1/-1 ratrio:0.47/0.53\n",
      "+1 features max:0.19\t min:0.01\t mean:0.07\t median 0.06\n",
      "-1 features max:0.56\t min:0.19\t mean:0.34\t median 0.34\n",
      "Feature = 0\tThreshold = 0.184462\tPolorization = 1\n",
      "Epoch-52\t Train loss: 0.0001\t Valid loss: 0.0026\t Valid error: 0.0031\n",
      "new model saved\n",
      "Epoch  53  training\n"
     ]
    },
    {
     "name": "stderr",
     "output_type": "stream",
     "text": [
      "100%|███████████████████████████████████████████| 23/23 [00:02<00:00, 10.63it/s]\n"
     ]
    },
    {
     "name": "stdout",
     "output_type": "stream",
     "text": [
      "Epoch  53  validating\n"
     ]
    },
    {
     "name": "stderr",
     "output_type": "stream",
     "text": [
      "100%|████████████████████████████████████████| 324/324 [00:01<00:00, 220.59it/s]\n"
     ]
    },
    {
     "name": "stdout",
     "output_type": "stream",
     "text": [
      "+1/-1 ratrio:0.47/0.53\n",
      "+1 features max:0.19\t min:0.01\t mean:0.07\t median 0.06\n",
      "-1 features max:0.56\t min:0.19\t mean:0.34\t median 0.34\n",
      "Feature = 0\tThreshold = 0.185466\tPolorization = 1\n",
      "Epoch-53\t Train loss: 0.0001\t Valid loss: 0.0026\t Valid error: 0.0031\n",
      "new model saved\n",
      "Epoch  54  training\n"
     ]
    },
    {
     "name": "stderr",
     "output_type": "stream",
     "text": [
      "100%|███████████████████████████████████████████| 23/23 [00:02<00:00, 10.79it/s]\n"
     ]
    },
    {
     "name": "stdout",
     "output_type": "stream",
     "text": [
      "Epoch  54  validating\n"
     ]
    },
    {
     "name": "stderr",
     "output_type": "stream",
     "text": [
      "100%|████████████████████████████████████████| 324/324 [00:01<00:00, 215.00it/s]\n"
     ]
    },
    {
     "name": "stdout",
     "output_type": "stream",
     "text": [
      "+1/-1 ratrio:0.47/0.53\n",
      "+1 features max:0.19\t min:0.01\t mean:0.06\t median 0.06\n",
      "-1 features max:0.56\t min:0.19\t mean:0.34\t median 0.34\n",
      "Feature = 0\tThreshold = 0.185569\tPolorization = 1\n",
      "Epoch-54\t Train loss: 0.0001\t Valid loss: 0.0026\t Valid error: 0.0031\n",
      "new model saved\n",
      "Epoch  55  training\n"
     ]
    },
    {
     "name": "stderr",
     "output_type": "stream",
     "text": [
      "100%|███████████████████████████████████████████| 23/23 [00:02<00:00, 10.72it/s]\n"
     ]
    },
    {
     "name": "stdout",
     "output_type": "stream",
     "text": [
      "Epoch  55  validating\n"
     ]
    },
    {
     "name": "stderr",
     "output_type": "stream",
     "text": [
      "100%|████████████████████████████████████████| 324/324 [00:01<00:00, 226.01it/s]\n"
     ]
    },
    {
     "name": "stdout",
     "output_type": "stream",
     "text": [
      "+1/-1 ratrio:0.47/0.53\n",
      "+1 features max:0.19\t min:0.01\t mean:0.06\t median 0.06\n",
      "-1 features max:0.56\t min:0.19\t mean:0.34\t median 0.34\n",
      "Feature = 0\tThreshold = 0.185447\tPolorization = 1\n",
      "Epoch-55\t Train loss: 0.0001\t Valid loss: 0.0026\t Valid error: 0.0031\n",
      "new model saved\n",
      "Epoch  56  training\n"
     ]
    },
    {
     "name": "stderr",
     "output_type": "stream",
     "text": [
      "100%|███████████████████████████████████████████| 23/23 [00:02<00:00, 10.65it/s]\n"
     ]
    },
    {
     "name": "stdout",
     "output_type": "stream",
     "text": [
      "Epoch  56  validating\n"
     ]
    },
    {
     "name": "stderr",
     "output_type": "stream",
     "text": [
      "100%|████████████████████████████████████████| 324/324 [00:01<00:00, 220.14it/s]\n"
     ]
    },
    {
     "name": "stdout",
     "output_type": "stream",
     "text": [
      "+1/-1 ratrio:0.47/0.53\n",
      "+1 features max:0.19\t min:0.01\t mean:0.06\t median 0.06\n",
      "-1 features max:0.57\t min:0.19\t mean:0.34\t median 0.34\n",
      "Feature = 0\tThreshold = 0.184312\tPolorization = 1\n",
      "Epoch-56\t Train loss: 0.0001\t Valid loss: 0.0026\t Valid error: 0.0031\n",
      "new model saved\n",
      "Epoch  57  training\n"
     ]
    },
    {
     "name": "stderr",
     "output_type": "stream",
     "text": [
      "100%|███████████████████████████████████████████| 23/23 [00:02<00:00, 10.88it/s]\n"
     ]
    },
    {
     "name": "stdout",
     "output_type": "stream",
     "text": [
      "Epoch  57  validating\n"
     ]
    },
    {
     "name": "stderr",
     "output_type": "stream",
     "text": [
      "100%|████████████████████████████████████████| 324/324 [00:01<00:00, 214.70it/s]\n"
     ]
    },
    {
     "name": "stdout",
     "output_type": "stream",
     "text": [
      "+1/-1 ratrio:0.47/0.53\n",
      "+1 features max:0.19\t min:0.01\t mean:0.06\t median 0.06\n",
      "-1 features max:0.56\t min:0.19\t mean:0.34\t median 0.34\n",
      "Feature = 0\tThreshold = 0.183295\tPolorization = 1\n",
      "Epoch-57\t Train loss: 0.0001\t Valid loss: 0.0026\t Valid error: 0.0031\n",
      "new model saved\n",
      "Epoch  58  training\n"
     ]
    },
    {
     "name": "stderr",
     "output_type": "stream",
     "text": [
      "100%|███████████████████████████████████████████| 23/23 [00:02<00:00, 10.87it/s]\n"
     ]
    },
    {
     "name": "stdout",
     "output_type": "stream",
     "text": [
      "Epoch  58  validating\n"
     ]
    },
    {
     "name": "stderr",
     "output_type": "stream",
     "text": [
      "100%|████████████████████████████████████████| 324/324 [00:01<00:00, 228.99it/s]\n"
     ]
    },
    {
     "name": "stdout",
     "output_type": "stream",
     "text": [
      "+1/-1 ratrio:0.47/0.53\n",
      "+1 features max:0.19\t min:0.01\t mean:0.06\t median 0.06\n",
      "-1 features max:0.56\t min:0.19\t mean:0.34\t median 0.34\n",
      "Feature = 0\tThreshold = 0.189251\tPolorization = 1\n",
      "Epoch-58\t Train loss: 0.0001\t Valid loss: 0.0025\t Valid error: 0.0000\n",
      "new model saved\n",
      "Epoch  59  training\n"
     ]
    },
    {
     "name": "stderr",
     "output_type": "stream",
     "text": [
      "100%|███████████████████████████████████████████| 23/23 [00:02<00:00, 10.92it/s]\n"
     ]
    },
    {
     "name": "stdout",
     "output_type": "stream",
     "text": [
      "Epoch  59  validating\n"
     ]
    },
    {
     "name": "stderr",
     "output_type": "stream",
     "text": [
      "100%|████████████████████████████████████████| 324/324 [00:01<00:00, 225.82it/s]\n"
     ]
    },
    {
     "name": "stdout",
     "output_type": "stream",
     "text": [
      "+1/-1 ratrio:0.47/0.53\n",
      "+1 features max:0.19\t min:0.01\t mean:0.06\t median 0.06\n",
      "-1 features max:0.56\t min:0.19\t mean:0.34\t median 0.34\n",
      "Feature = 0\tThreshold = 0.192030\tPolorization = 1\n",
      "Epoch-59\t Train loss: 0.0001\t Valid loss: 0.0025\t Valid error: 0.0000\n",
      "new model saved\n"
     ]
    },
    {
     "data": {
      "image/png": "[encoded data removed]",
      "text/plain": [
       "<Figure size 432x288 with 1 Axes>"
      ]
     },
     "metadata": {
      "needs_background": "light"
     },
     "output_type": "display_data"
    }
   ],
   "source": [
    "net, train_loss_history, valid_loss_history,dict_name = trainSiamese(net,criterion,optimizer,scheduler,train_dataloader,\n",
    "             valid_dataloader,config.train_number_epochs,do_show=True)"
   ]
  },
  {
   "cell_type": "markdown",
   "metadata": {},
   "source": [
    "## Testing"
   ]
  },
  {
   "cell_type": "code",
   "execution_count": 7,
   "metadata": {
    "run_control": {
     "marked": true
    }
   },
   "outputs": [
    {
     "name": "stdout",
     "output_type": "stream",
     "text": [
      "../../datasets/AT&T Database of Faces/faces/testing/siamese_test_data.csv\n"
     ]
    },
    {
     "name": "stderr",
     "output_type": "stream",
     "text": [
      "100%|████████████████████████████████████████| 359/359 [00:01<00:00, 230.99it/s]\n"
     ]
    },
    {
     "name": "stdout",
     "output_type": "stream",
     "text": [
      "+1/-1 ratrio:0.50/0.50\n",
      "+1 features max:0.80\t min:0.04\t mean:0.17\t median 0.13\n",
      "-1 features max:0.81\t min:0.15\t mean:0.29\t median 0.27\n",
      "Feature = 0\tThreshold = 0.197482\tPolorization = 1\n",
      "Test loss: 0.0260\t Test error: 0.1727\n"
     ]
    },
    {
     "data": {
      "image/png": "[encoded data removed]",
      "text/plain": [
       "<Figure size 432x288 with 1 Axes>"
      ]
     },
     "metadata": {
      "needs_background": "light"
     },
     "output_type": "display_data"
    },
    {
     "data": {
      "image/png": "[encoded data removed]",
      "text/plain": [
       "<Figure size 432x288 with 1 Axes>"
      ]
     },
     "metadata": {
      "needs_background": "light"
     },
     "output_type": "display_data"
    },
    {
     "data": {
      "image/png": "[encoded data removed]",
      "text/plain": [
       "<Figure size 432x288 with 1 Axes>"
      ]
     },
     "metadata": {
      "needs_background": "light"
     },
     "output_type": "display_data"
    },
    {
     "data": {
      "image/png": "[encoded data removed]",
      "text/plain": [
       "<Figure size 432x288 with 1 Axes>"
      ]
     },
     "metadata": {
      "needs_background": "light"
     },
     "output_type": "display_data"
    },
    {
     "data": {
      "image/png": "[encoded data removed]",
      "text/plain": [
       "<Figure size 432x288 with 1 Axes>"
      ]
     },
     "metadata": {
      "needs_background": "light"
     },
     "output_type": "display_data"
    },
    {
     "data": {
      "image/png": "[encoded data removed]",
      "text/plain": [
       "<Figure size 432x288 with 1 Axes>"
      ]
     },
     "metadata": {
      "needs_background": "light"
     },
     "output_type": "display_data"
    }
   ],
   "source": [
    "net = SiameseNetwork().cuda()\n",
    "net.load_state_dict(torch.load(os.path.join(\"state_dict\",dict_name)))\n",
    "net.eval()\n",
    "\n",
    "siamese_test = SiameseNetworkDataset(config.siamese_testing_csv,\n",
    "                                        transform=transforms.Compose([transforms.Resize((config.img_height,config.img_width)),\n",
    "                                                                      transforms.ToTensor(),\n",
    "                                                                      transforms.Normalize(0,1)\n",
    "                                                                      ])\n",
    "                                       ,should_invert=False)\n",
    "test_dataloader = DataLoader(siamese_test,num_workers=8,batch_size=1,shuffle=True)\n",
    "dataiter = iter(test_dataloader)\n",
    "\n",
    "test_loss, test_er = inferenceSiamese(net,criterion,test_dataloader)\n",
    "print(\"Test loss: %.4f\\t Test error: %.4f\"\n",
    "      %(test_loss, test_er))\n",
    "\n",
    "\n",
    "for i in range(3):\n",
    "    label = 0\n",
    "    while label == 0:\n",
    "        x0,x1,label = next(dataiter)\n",
    "        label = label.detach().cpu().numpy()[0][0]\n",
    "\n",
    "    concatenated = torch.cat((x0,x1),0)\n",
    "    \n",
    "    output1,output2 = net(Variable(x0).cuda(),Variable(x1).cuda())\n",
    "    euclidean_distance = F.pairwise_distance(output1, output2)\n",
    "    \n",
    "    imshow(torchvision.utils.make_grid(concatenated),'Dissimilarity: {:.2f}\\nLabel: {}'.format(euclidean_distance.item(),'Different'))\n",
    "\n",
    "for i in range(3):\n",
    "    label = 1\n",
    "    while label == 1:\n",
    "        x0,x1,label = next(dataiter)\n",
    "        label = label.detach().cpu().numpy()[0][0]\n",
    "\n",
    "    concatenated = torch.cat((x0,x1),0)\n",
    "    \n",
    "    output1,output2 = net(Variable(x0).cuda(),Variable(x1).cuda())\n",
    "    euclidean_distance = F.pairwise_distance(output1, output2)\n",
    "    \n",
    "    imshow(torchvision.utils.make_grid(concatenated),'Dissimilarity: {:.2f}\\nLabel: {}'.format(euclidean_distance.item(),'Same'))\n",
    "\n"
   ]
  },
  {
   "cell_type": "code",
   "execution_count": 8,
   "metadata": {},
   "outputs": [
    {
     "data": {
      "text/plain": [
       "'Adam lr-3.13e-05 wd-0.00e+00 bs-128 train_loss-8.07e-05 valid_loss-2.51e-03 valid_error-0.00e+00.pth'"
      ]
     },
     "execution_count": 8,
     "metadata": {},
     "output_type": "execute_result"
    }
   ],
   "source": [
    "dict_name"
   ]
  },
  {
   "cell_type": "code",
   "execution_count": null,
   "metadata": {},
   "outputs": [],
   "source": []
  }
 ],
 "metadata": {
  "hide_input": false,
  "kernelspec": {
   "display_name": "Python 3",
   "language": "python",
   "name": "python3"
  },
  "language_info": {
   "codemirror_mode": {
    "name": "ipython",
    "version": 3
   },
   "file_extension": ".py",
   "mimetype": "text/x-python",
   "name": "python",
   "nbconvert_exporter": "python",
   "pygments_lexer": "ipython3",
   "version": "3.7.12"
  }
 },
 "nbformat": 4,
 "nbformat_minor": 4
}
